{
 "cells": [
  {
   "cell_type": "markdown",
   "metadata": {
    "id": "9FclsdAMa14s"
   },
   "source": [
    "#  **EDA on Attrition Data**\n",
    "<img src = 'https://github.com/arulpanditaa/EDA/blob/main/DTU.jpg?raw=true' width=\"250\" height=\"350\" align='right'><br/>\n",
    "\n",
    "<img src=\"https://encrypted-tbn0.gstatic.com/images?q=tbn:ANd9GcRVUsJgNzxWuMULW9LPodCA1jYgg9dghoN64Mqyx_F1CfNzv4WYuE6VPAnkdIGurkcQeWU&usqp=CAU\" align='left' width=\"750\" height=\"350\"><br/>\n",
    "\n",
    "\n",
    "\n"
   ]
  },
  {
   "cell_type": "markdown",
   "metadata": {
    "id": "Aa-l12A5gLMy"
   },
   "source": [
    "##     Table of Contents\n",
    "\n",
    "\n",
    "1. [Problem Statement](#section1)<br>\n"
   ]
  },
  {
   "cell_type": "markdown",
   "metadata": {
    "id": "YHT2BgJ4kar8"
   },
   "source": [
    "## 1. Problem Statement <br>\n",
    "\n",
    "**Employee attrition** is a major cost to an organization and predicting such attritions is the most important requirement of the Human Resources department in many organizations. In this problem, we are tasked to predict the attrition of employees of an organization.\n",
    "\n",
    "Your client is the HR Department at a software company.\n",
    "\n",
    "a. They want to try a new initiative to retain employees.<br>\n",
    "b. The idea is to use data to predict whether an employee is likely to leave.<br>\n",
    "\n",
    "Once these employees are identified, HR can be more proactive in reaching out to them before it's too late.\n"
   ]
  },
  {
   "cell_type": "markdown",
   "metadata": {
    "id": "8cqkdf4clY16"
   },
   "source": [
    "## 1. Import Packages <br>"
   ]
  },
  {
   "cell_type": "code",
   "execution_count": 225,
   "metadata": {
    "colab": {
     "base_uri": "https://localhost:8080/"
    },
    "id": "pcebqm5VmhHg",
    "outputId": "34190ccc-9b11-4a5d-cb36-196188ab7038"
   },
   "outputs": [
    {
     "name": "stdout",
     "output_type": "stream",
     "text": [
      "done\n"
     ]
    }
   ],
   "source": [
    "import numpy as np                     \n",
    "\n",
    "import pandas as pd\n",
    "pd.set_option('mode.chained_assignment', None)      # To suppress pandas warnings.\n",
    "pd.set_option('display.max_colwidth', None)           # To display all the data in each column\n",
    "pd.options.display.max_columns = 50                 # To display every column of the dataset in head()\n",
    "\n",
    "import warnings\n",
    "warnings.filterwarnings('ignore')                   # To suppress all the warnings in the notebook.\n",
    "print('done')"
   ]
  },
  {
   "cell_type": "code",
   "execution_count": 226,
   "metadata": {
    "id": "EKKQkVxSRyCq"
   },
   "outputs": [],
   "source": [
    "from pathlib import Path\n",
    "\n",
    "import numpy as np\n",
    "import pandas as pd\n",
    "import requests\n",
    "import pandas_profiling\n"
   ]
  },
  {
   "cell_type": "code",
   "execution_count": 227,
   "metadata": {
    "colab": {
     "base_uri": "https://localhost:8080/"
    },
    "id": "AXcWDx9RmuEE",
    "outputId": "7a3f3025-7c29-4bc4-f89a-b855f92af0b2"
   },
   "outputs": [
    {
     "name": "stdout",
     "output_type": "stream",
     "text": [
      "done\n"
     ]
    }
   ],
   "source": [
    "import matplotlib.pyplot as plt\n",
    "%matplotlib inline\n",
    "\n",
    "import seaborn as sns\n",
    "sns.set(style='whitegrid', font_scale=1.3, color_codes=True)      # To apply seaborn styles to the plots.\n",
    "print('done')"
   ]
  },
  {
   "cell_type": "code",
   "execution_count": 228,
   "metadata": {
    "colab": {
     "base_uri": "https://localhost:8080/"
    },
    "id": "j-ZaHQvCm1I2",
    "outputId": "369a541d-e380-41f7-f615-382bb31cdf6d"
   },
   "outputs": [
    {
     "name": "stdout",
     "output_type": "stream",
     "text": [
      "Requirement already satisfied: plotly in /usr/local/lib/python3.7/dist-packages (5.7.0)\n",
      "Requirement already satisfied: six in /usr/local/lib/python3.7/dist-packages (from plotly) (1.15.0)\n",
      "Requirement already satisfied: tenacity>=6.2.0 in /usr/local/lib/python3.7/dist-packages (from plotly) (8.0.1)\n",
      "done\n"
     ]
    }
   ],
   "source": [
    "# Install and update plotly using this command to the latest version (higher than version 4.0.0)\n",
    "\n",
    "!pip install plotly --upgrade\n",
    "print('done')"
   ]
  },
  {
   "cell_type": "code",
   "execution_count": 229,
   "metadata": {
    "colab": {
     "base_uri": "https://localhost:8080/"
    },
    "id": "DxGcHFQBnC2d",
    "outputId": "6ed8fd82-2e78-48b3-f301-bcb9a25849e2"
   },
   "outputs": [
    {
     "name": "stdout",
     "output_type": "stream",
     "text": [
      "Requirement already satisfied: chart-studio in /usr/local/lib/python3.7/dist-packages (1.1.0)\n",
      "Requirement already satisfied: requests in /usr/local/lib/python3.7/dist-packages (from chart-studio) (2.27.1)\n",
      "Requirement already satisfied: plotly in /usr/local/lib/python3.7/dist-packages (from chart-studio) (5.7.0)\n",
      "Requirement already satisfied: retrying>=1.3.3 in /usr/local/lib/python3.7/dist-packages (from chart-studio) (1.3.3)\n",
      "Requirement already satisfied: six in /usr/local/lib/python3.7/dist-packages (from chart-studio) (1.15.0)\n",
      "Requirement already satisfied: tenacity>=6.2.0 in /usr/local/lib/python3.7/dist-packages (from plotly->chart-studio) (8.0.1)\n",
      "Requirement already satisfied: urllib3<1.27,>=1.21.1 in /usr/local/lib/python3.7/dist-packages (from requests->chart-studio) (1.24.3)\n",
      "Requirement already satisfied: idna<4,>=2.5 in /usr/local/lib/python3.7/dist-packages (from requests->chart-studio) (2.10)\n",
      "Requirement already satisfied: charset-normalizer~=2.0.0 in /usr/local/lib/python3.7/dist-packages (from requests->chart-studio) (2.0.12)\n",
      "Requirement already satisfied: certifi>=2017.4.17 in /usr/local/lib/python3.7/dist-packages (from requests->chart-studio) (2021.10.8)\n"
     ]
    }
   ],
   "source": [
    "#!pip install plotly\n",
    "!pip install chart-studio"
   ]
  },
  {
   "cell_type": "code",
   "execution_count": 230,
   "metadata": {
    "colab": {
     "base_uri": "https://localhost:8080/",
     "height": 17
    },
    "id": "04HRYWLOn1GL",
    "outputId": "91c113da-60b6-47ae-cf78-1b4d9d71a9db"
   },
   "outputs": [
    {
     "data": {
      "text/html": [
       "        <script type=\"text/javascript\">\n",
       "        window.PlotlyConfig = {MathJaxConfig: 'local'};\n",
       "        if (window.MathJax) {MathJax.Hub.Config({SVG: {font: \"STIX-Web\"}});}\n",
       "        if (typeof require !== 'undefined') {\n",
       "        require.undef(\"plotly\");\n",
       "        requirejs.config({\n",
       "            paths: {\n",
       "                'plotly': ['https://cdn.plot.ly/plotly-2.11.1.min']\n",
       "            }\n",
       "        });\n",
       "        require(['plotly'], function(Plotly) {\n",
       "            window._Plotly = Plotly;\n",
       "        });\n",
       "        }\n",
       "        </script>\n",
       "        "
      ]
     },
     "metadata": {},
     "output_type": "display_data"
    }
   ],
   "source": [
    "# Making plotly specific imports\n",
    "# These imports are necessary to use plotly offline without signing in to their website.\n",
    "\n",
    "from plotly.offline import init_notebook_mode,iplot\n",
    "import plotly.graph_objs as go\n",
    "import chart_studio.plotly as py\n",
    "from plotly import tools\n",
    "init_notebook_mode(connected=True)"
   ]
  },
  {
   "cell_type": "code",
   "execution_count": 231,
   "metadata": {
    "colab": {
     "base_uri": "https://localhost:8080/"
    },
    "id": "HEqeGkf-I4Yr",
    "outputId": "3198139a-fc88-424e-9ec9-7e77fb1e784d"
   },
   "outputs": [
    {
     "name": "stdout",
     "output_type": "stream",
     "text": [
      "Collecting https://github.com/pandas-profiling/pandas-profiling/archive/master.zip\n",
      "  Using cached https://github.com/pandas-profiling/pandas-profiling/archive/master.zip\n",
      "Requirement already satisfied: joblib~=1.1.0 in /usr/local/lib/python3.7/dist-packages (from pandas-profiling==3.1.1) (1.1.0)\n",
      "Requirement already satisfied: scipy>=1.4.1 in /usr/local/lib/python3.7/dist-packages (from pandas-profiling==3.1.1) (1.7.3)\n",
      "Requirement already satisfied: pandas!=1.0.0,!=1.0.1,!=1.0.2,!=1.1.0,>=0.25.3 in /usr/local/lib/python3.7/dist-packages (from pandas-profiling==3.1.1) (1.3.5)\n",
      "Requirement already satisfied: matplotlib>=3.2.0 in /usr/local/lib/python3.7/dist-packages (from pandas-profiling==3.1.1) (3.2.2)\n",
      "Requirement already satisfied: pydantic>=1.8.1 in /usr/local/lib/python3.7/dist-packages (from pandas-profiling==3.1.1) (1.9.0)\n",
      "Requirement already satisfied: PyYAML>=5.0.0 in /usr/local/lib/python3.7/dist-packages (from pandas-profiling==3.1.1) (6.0)\n",
      "Requirement already satisfied: jinja2>=2.11.1 in /usr/local/lib/python3.7/dist-packages (from pandas-profiling==3.1.1) (2.11.3)\n",
      "Requirement already satisfied: markupsafe~=2.0.1 in /usr/local/lib/python3.7/dist-packages (from pandas-profiling==3.1.1) (2.0.1)\n",
      "Requirement already satisfied: visions[type_image_path]==0.7.4 in /usr/local/lib/python3.7/dist-packages (from pandas-profiling==3.1.1) (0.7.4)\n",
      "Requirement already satisfied: numpy>=1.16.0 in /usr/local/lib/python3.7/dist-packages (from pandas-profiling==3.1.1) (1.21.5)\n",
      "Requirement already satisfied: htmlmin>=0.1.12 in /usr/local/lib/python3.7/dist-packages (from pandas-profiling==3.1.1) (0.1.12)\n",
      "Requirement already satisfied: missingno>=0.4.2 in /usr/local/lib/python3.7/dist-packages (from pandas-profiling==3.1.1) (0.5.1)\n",
      "Requirement already satisfied: phik>=0.11.1 in /usr/local/lib/python3.7/dist-packages (from pandas-profiling==3.1.1) (0.12.2)\n",
      "Requirement already satisfied: tangled-up-in-unicode==0.2.0 in /usr/local/lib/python3.7/dist-packages (from pandas-profiling==3.1.1) (0.2.0)\n",
      "Requirement already satisfied: requests>=2.24.0 in /usr/local/lib/python3.7/dist-packages (from pandas-profiling==3.1.1) (2.27.1)\n",
      "Requirement already satisfied: tqdm>=4.48.2 in /usr/local/lib/python3.7/dist-packages (from pandas-profiling==3.1.1) (4.64.0)\n",
      "Requirement already satisfied: seaborn>=0.10.1 in /usr/local/lib/python3.7/dist-packages (from pandas-profiling==3.1.1) (0.11.2)\n",
      "Requirement already satisfied: multimethod>=1.4 in /usr/local/lib/python3.7/dist-packages (from pandas-profiling==3.1.1) (1.8)\n",
      "Requirement already satisfied: networkx>=2.4 in /usr/local/lib/python3.7/dist-packages (from visions[type_image_path]==0.7.4->pandas-profiling==3.1.1) (2.6.3)\n",
      "Requirement already satisfied: attrs>=19.3.0 in /usr/local/lib/python3.7/dist-packages (from visions[type_image_path]==0.7.4->pandas-profiling==3.1.1) (21.4.0)\n",
      "Requirement already satisfied: Pillow in /usr/local/lib/python3.7/dist-packages (from visions[type_image_path]==0.7.4->pandas-profiling==3.1.1) (7.1.2)\n",
      "Requirement already satisfied: imagehash in /usr/local/lib/python3.7/dist-packages (from visions[type_image_path]==0.7.4->pandas-profiling==3.1.1) (4.2.1)\n",
      "Requirement already satisfied: pyparsing!=2.0.4,!=2.1.2,!=2.1.6,>=2.0.1 in /usr/local/lib/python3.7/dist-packages (from matplotlib>=3.2.0->pandas-profiling==3.1.1) (3.0.8)\n",
      "Requirement already satisfied: cycler>=0.10 in /usr/local/lib/python3.7/dist-packages (from matplotlib>=3.2.0->pandas-profiling==3.1.1) (0.11.0)\n",
      "Requirement already satisfied: python-dateutil>=2.1 in /usr/local/lib/python3.7/dist-packages (from matplotlib>=3.2.0->pandas-profiling==3.1.1) (2.8.2)\n",
      "Requirement already satisfied: kiwisolver>=1.0.1 in /usr/local/lib/python3.7/dist-packages (from matplotlib>=3.2.0->pandas-profiling==3.1.1) (1.4.2)\n",
      "Requirement already satisfied: typing-extensions in /usr/local/lib/python3.7/dist-packages (from kiwisolver>=1.0.1->matplotlib>=3.2.0->pandas-profiling==3.1.1) (4.1.1)\n",
      "Requirement already satisfied: pytz>=2017.3 in /usr/local/lib/python3.7/dist-packages (from pandas!=1.0.0,!=1.0.1,!=1.0.2,!=1.1.0,>=0.25.3->pandas-profiling==3.1.1) (2018.9)\n",
      "Requirement already satisfied: six>=1.5 in /usr/local/lib/python3.7/dist-packages (from python-dateutil>=2.1->matplotlib>=3.2.0->pandas-profiling==3.1.1) (1.15.0)\n",
      "Requirement already satisfied: certifi>=2017.4.17 in /usr/local/lib/python3.7/dist-packages (from requests>=2.24.0->pandas-profiling==3.1.1) (2021.10.8)\n",
      "Requirement already satisfied: idna<4,>=2.5 in /usr/local/lib/python3.7/dist-packages (from requests>=2.24.0->pandas-profiling==3.1.1) (2.10)\n",
      "Requirement already satisfied: urllib3<1.27,>=1.21.1 in /usr/local/lib/python3.7/dist-packages (from requests>=2.24.0->pandas-profiling==3.1.1) (1.24.3)\n",
      "Requirement already satisfied: charset-normalizer~=2.0.0 in /usr/local/lib/python3.7/dist-packages (from requests>=2.24.0->pandas-profiling==3.1.1) (2.0.12)\n",
      "Requirement already satisfied: PyWavelets in /usr/local/lib/python3.7/dist-packages (from imagehash->visions[type_image_path]==0.7.4->pandas-profiling==3.1.1) (1.3.0)\n"
     ]
    }
   ],
   "source": [
    "! pip install https://github.com/pandas-profiling/pandas-profiling/archive/master.zip\n",
    "#! pip install https://github.com/pandas-profiling/pandas-profiling/archive/master.zip "
   ]
  },
  {
   "cell_type": "code",
   "execution_count": 232,
   "metadata": {
    "colab": {
     "base_uri": "https://localhost:8080/"
    },
    "id": "p-E8kNYrQsFB",
    "outputId": "bcaf84a1-794f-4d69-cf77-00c30f8432ea"
   },
   "outputs": [
    {
     "name": "stdout",
     "output_type": "stream",
     "text": [
      "Requirement already satisfied: pandas-profiling[notebook] in /usr/local/lib/python3.7/dist-packages (3.1.1)\n",
      "Requirement already satisfied: jinja2>=2.11.1 in /usr/local/lib/python3.7/dist-packages (from pandas-profiling[notebook]) (2.11.3)\n",
      "Requirement already satisfied: visions[type_image_path]==0.7.4 in /usr/local/lib/python3.7/dist-packages (from pandas-profiling[notebook]) (0.7.4)\n",
      "Requirement already satisfied: pandas!=1.0.0,!=1.0.1,!=1.0.2,!=1.1.0,>=0.25.3 in /usr/local/lib/python3.7/dist-packages (from pandas-profiling[notebook]) (1.3.5)\n",
      "Requirement already satisfied: seaborn>=0.10.1 in /usr/local/lib/python3.7/dist-packages (from pandas-profiling[notebook]) (0.11.2)\n",
      "Requirement already satisfied: pydantic>=1.8.1 in /usr/local/lib/python3.7/dist-packages (from pandas-profiling[notebook]) (1.9.0)\n",
      "Requirement already satisfied: PyYAML>=5.0.0 in /usr/local/lib/python3.7/dist-packages (from pandas-profiling[notebook]) (6.0)\n",
      "Requirement already satisfied: multimethod>=1.4 in /usr/local/lib/python3.7/dist-packages (from pandas-profiling[notebook]) (1.8)\n",
      "Requirement already satisfied: htmlmin>=0.1.12 in /usr/local/lib/python3.7/dist-packages (from pandas-profiling[notebook]) (0.1.12)\n",
      "Requirement already satisfied: phik>=0.11.1 in /usr/local/lib/python3.7/dist-packages (from pandas-profiling[notebook]) (0.12.2)\n",
      "Requirement already satisfied: missingno>=0.4.2 in /usr/local/lib/python3.7/dist-packages (from pandas-profiling[notebook]) (0.5.1)\n",
      "Requirement already satisfied: numpy>=1.16.0 in /usr/local/lib/python3.7/dist-packages (from pandas-profiling[notebook]) (1.21.5)\n",
      "Requirement already satisfied: tqdm>=4.48.2 in /usr/local/lib/python3.7/dist-packages (from pandas-profiling[notebook]) (4.64.0)\n",
      "Requirement already satisfied: joblib~=1.1.0 in /usr/local/lib/python3.7/dist-packages (from pandas-profiling[notebook]) (1.1.0)\n",
      "Requirement already satisfied: requests>=2.24.0 in /usr/local/lib/python3.7/dist-packages (from pandas-profiling[notebook]) (2.27.1)\n",
      "Requirement already satisfied: tangled-up-in-unicode==0.2.0 in /usr/local/lib/python3.7/dist-packages (from pandas-profiling[notebook]) (0.2.0)\n",
      "Requirement already satisfied: matplotlib>=3.2.0 in /usr/local/lib/python3.7/dist-packages (from pandas-profiling[notebook]) (3.2.2)\n",
      "Requirement already satisfied: scipy>=1.4.1 in /usr/local/lib/python3.7/dist-packages (from pandas-profiling[notebook]) (1.7.3)\n",
      "Requirement already satisfied: markupsafe~=2.0.1 in /usr/local/lib/python3.7/dist-packages (from pandas-profiling[notebook]) (2.0.1)\n",
      "Requirement already satisfied: jupyter-client>=6.0.0 in /usr/local/lib/python3.7/dist-packages (from pandas-profiling[notebook]) (7.2.2)\n",
      "Requirement already satisfied: ipywidgets>=7.5.1 in /usr/local/lib/python3.7/dist-packages (from pandas-profiling[notebook]) (7.7.0)\n",
      "Requirement already satisfied: jupyter-core>=4.6.3 in /usr/local/lib/python3.7/dist-packages (from pandas-profiling[notebook]) (4.9.2)\n",
      "Requirement already satisfied: networkx>=2.4 in /usr/local/lib/python3.7/dist-packages (from visions[type_image_path]==0.7.4->pandas-profiling[notebook]) (2.6.3)\n",
      "Requirement already satisfied: attrs>=19.3.0 in /usr/local/lib/python3.7/dist-packages (from visions[type_image_path]==0.7.4->pandas-profiling[notebook]) (21.4.0)\n",
      "Requirement already satisfied: Pillow in /usr/local/lib/python3.7/dist-packages (from visions[type_image_path]==0.7.4->pandas-profiling[notebook]) (7.1.2)\n",
      "Requirement already satisfied: imagehash in /usr/local/lib/python3.7/dist-packages (from visions[type_image_path]==0.7.4->pandas-profiling[notebook]) (4.2.1)\n",
      "Requirement already satisfied: ipython-genutils~=0.2.0 in /usr/local/lib/python3.7/dist-packages (from ipywidgets>=7.5.1->pandas-profiling[notebook]) (0.2.0)\n",
      "Requirement already satisfied: jupyterlab-widgets>=1.0.0 in /usr/local/lib/python3.7/dist-packages (from ipywidgets>=7.5.1->pandas-profiling[notebook]) (1.1.0)\n",
      "Requirement already satisfied: nbformat>=4.2.0 in /usr/local/lib/python3.7/dist-packages (from ipywidgets>=7.5.1->pandas-profiling[notebook]) (5.3.0)\n",
      "Requirement already satisfied: ipython>=4.0.0 in /usr/local/lib/python3.7/dist-packages (from ipywidgets>=7.5.1->pandas-profiling[notebook]) (5.5.0)\n",
      "Requirement already satisfied: widgetsnbextension~=3.6.0 in /usr/local/lib/python3.7/dist-packages (from ipywidgets>=7.5.1->pandas-profiling[notebook]) (3.6.0)\n",
      "Requirement already satisfied: ipykernel>=4.5.1 in /usr/local/lib/python3.7/dist-packages (from ipywidgets>=7.5.1->pandas-profiling[notebook]) (4.10.1)\n",
      "Requirement already satisfied: traitlets>=4.3.1 in /usr/local/lib/python3.7/dist-packages (from ipywidgets>=7.5.1->pandas-profiling[notebook]) (5.1.1)\n",
      "Requirement already satisfied: tornado>=4.0 in /usr/local/lib/python3.7/dist-packages (from ipykernel>=4.5.1->ipywidgets>=7.5.1->pandas-profiling[notebook]) (6.1)\n",
      "Requirement already satisfied: decorator in /usr/local/lib/python3.7/dist-packages (from ipython>=4.0.0->ipywidgets>=7.5.1->pandas-profiling[notebook]) (4.4.2)\n",
      "Requirement already satisfied: pexpect in /usr/local/lib/python3.7/dist-packages (from ipython>=4.0.0->ipywidgets>=7.5.1->pandas-profiling[notebook]) (4.8.0)\n",
      "Requirement already satisfied: prompt-toolkit<2.0.0,>=1.0.4 in /usr/local/lib/python3.7/dist-packages (from ipython>=4.0.0->ipywidgets>=7.5.1->pandas-profiling[notebook]) (1.0.18)\n",
      "Requirement already satisfied: setuptools>=18.5 in /usr/local/lib/python3.7/dist-packages (from ipython>=4.0.0->ipywidgets>=7.5.1->pandas-profiling[notebook]) (57.4.0)\n",
      "Requirement already satisfied: simplegeneric>0.8 in /usr/local/lib/python3.7/dist-packages (from ipython>=4.0.0->ipywidgets>=7.5.1->pandas-profiling[notebook]) (0.8.1)\n",
      "Requirement already satisfied: pickleshare in /usr/local/lib/python3.7/dist-packages (from ipython>=4.0.0->ipywidgets>=7.5.1->pandas-profiling[notebook]) (0.7.5)\n",
      "Requirement already satisfied: pygments in /usr/local/lib/python3.7/dist-packages (from ipython>=4.0.0->ipywidgets>=7.5.1->pandas-profiling[notebook]) (2.6.1)\n",
      "Requirement already satisfied: entrypoints in /usr/local/lib/python3.7/dist-packages (from jupyter-client>=6.0.0->pandas-profiling[notebook]) (0.4)\n",
      "Requirement already satisfied: python-dateutil>=2.8.2 in /usr/local/lib/python3.7/dist-packages (from jupyter-client>=6.0.0->pandas-profiling[notebook]) (2.8.2)\n",
      "Requirement already satisfied: pyzmq>=22.3 in /usr/local/lib/python3.7/dist-packages (from jupyter-client>=6.0.0->pandas-profiling[notebook]) (22.3.0)\n",
      "Requirement already satisfied: nest-asyncio>=1.5.4 in /usr/local/lib/python3.7/dist-packages (from jupyter-client>=6.0.0->pandas-profiling[notebook]) (1.5.5)\n",
      "Requirement already satisfied: kiwisolver>=1.0.1 in /usr/local/lib/python3.7/dist-packages (from matplotlib>=3.2.0->pandas-profiling[notebook]) (1.4.2)\n",
      "Requirement already satisfied: cycler>=0.10 in /usr/local/lib/python3.7/dist-packages (from matplotlib>=3.2.0->pandas-profiling[notebook]) (0.11.0)\n",
      "Requirement already satisfied: pyparsing!=2.0.4,!=2.1.2,!=2.1.6,>=2.0.1 in /usr/local/lib/python3.7/dist-packages (from matplotlib>=3.2.0->pandas-profiling[notebook]) (3.0.8)\n",
      "Requirement already satisfied: typing-extensions in /usr/local/lib/python3.7/dist-packages (from kiwisolver>=1.0.1->matplotlib>=3.2.0->pandas-profiling[notebook]) (4.1.1)\n",
      "Requirement already satisfied: jsonschema>=2.6 in /usr/local/lib/python3.7/dist-packages (from nbformat>=4.2.0->ipywidgets>=7.5.1->pandas-profiling[notebook]) (4.3.3)\n",
      "Requirement already satisfied: fastjsonschema in /usr/local/lib/python3.7/dist-packages (from nbformat>=4.2.0->ipywidgets>=7.5.1->pandas-profiling[notebook]) (2.15.3)\n",
      "Requirement already satisfied: importlib-resources>=1.4.0 in /usr/local/lib/python3.7/dist-packages (from jsonschema>=2.6->nbformat>=4.2.0->ipywidgets>=7.5.1->pandas-profiling[notebook]) (5.6.0)\n",
      "Requirement already satisfied: importlib-metadata in /usr/local/lib/python3.7/dist-packages (from jsonschema>=2.6->nbformat>=4.2.0->ipywidgets>=7.5.1->pandas-profiling[notebook]) (4.11.3)\n",
      "Requirement already satisfied: pyrsistent!=0.17.0,!=0.17.1,!=0.17.2,>=0.14.0 in /usr/local/lib/python3.7/dist-packages (from jsonschema>=2.6->nbformat>=4.2.0->ipywidgets>=7.5.1->pandas-profiling[notebook]) (0.18.1)\n",
      "Requirement already satisfied: zipp>=3.1.0 in /usr/local/lib/python3.7/dist-packages (from importlib-resources>=1.4.0->jsonschema>=2.6->nbformat>=4.2.0->ipywidgets>=7.5.1->pandas-profiling[notebook]) (3.8.0)\n",
      "Requirement already satisfied: pytz>=2017.3 in /usr/local/lib/python3.7/dist-packages (from pandas!=1.0.0,!=1.0.1,!=1.0.2,!=1.1.0,>=0.25.3->pandas-profiling[notebook]) (2018.9)\n",
      "Requirement already satisfied: six>=1.9.0 in /usr/local/lib/python3.7/dist-packages (from prompt-toolkit<2.0.0,>=1.0.4->ipython>=4.0.0->ipywidgets>=7.5.1->pandas-profiling[notebook]) (1.15.0)\n",
      "Requirement already satisfied: wcwidth in /usr/local/lib/python3.7/dist-packages (from prompt-toolkit<2.0.0,>=1.0.4->ipython>=4.0.0->ipywidgets>=7.5.1->pandas-profiling[notebook]) (0.2.5)\n",
      "Requirement already satisfied: idna<4,>=2.5 in /usr/local/lib/python3.7/dist-packages (from requests>=2.24.0->pandas-profiling[notebook]) (2.10)\n",
      "Requirement already satisfied: urllib3<1.27,>=1.21.1 in /usr/local/lib/python3.7/dist-packages (from requests>=2.24.0->pandas-profiling[notebook]) (1.24.3)\n",
      "Requirement already satisfied: charset-normalizer~=2.0.0 in /usr/local/lib/python3.7/dist-packages (from requests>=2.24.0->pandas-profiling[notebook]) (2.0.12)\n",
      "Requirement already satisfied: certifi>=2017.4.17 in /usr/local/lib/python3.7/dist-packages (from requests>=2.24.0->pandas-profiling[notebook]) (2021.10.8)\n",
      "Requirement already satisfied: notebook>=4.4.1 in /usr/local/lib/python3.7/dist-packages (from widgetsnbextension~=3.6.0->ipywidgets>=7.5.1->pandas-profiling[notebook]) (5.3.1)\n",
      "Requirement already satisfied: terminado>=0.8.1 in /usr/local/lib/python3.7/dist-packages (from notebook>=4.4.1->widgetsnbextension~=3.6.0->ipywidgets>=7.5.1->pandas-profiling[notebook]) (0.13.3)\n",
      "Requirement already satisfied: nbconvert in /usr/local/lib/python3.7/dist-packages (from notebook>=4.4.1->widgetsnbextension~=3.6.0->ipywidgets>=7.5.1->pandas-profiling[notebook]) (5.6.1)\n",
      "Requirement already satisfied: Send2Trash in /usr/local/lib/python3.7/dist-packages (from notebook>=4.4.1->widgetsnbextension~=3.6.0->ipywidgets>=7.5.1->pandas-profiling[notebook]) (1.8.0)\n",
      "Requirement already satisfied: ptyprocess in /usr/local/lib/python3.7/dist-packages (from terminado>=0.8.1->notebook>=4.4.1->widgetsnbextension~=3.6.0->ipywidgets>=7.5.1->pandas-profiling[notebook]) (0.7.0)\n",
      "Requirement already satisfied: PyWavelets in /usr/local/lib/python3.7/dist-packages (from imagehash->visions[type_image_path]==0.7.4->pandas-profiling[notebook]) (1.3.0)\n",
      "Requirement already satisfied: testpath in /usr/local/lib/python3.7/dist-packages (from nbconvert->notebook>=4.4.1->widgetsnbextension~=3.6.0->ipywidgets>=7.5.1->pandas-profiling[notebook]) (0.6.0)\n",
      "Requirement already satisfied: pandocfilters>=1.4.1 in /usr/local/lib/python3.7/dist-packages (from nbconvert->notebook>=4.4.1->widgetsnbextension~=3.6.0->ipywidgets>=7.5.1->pandas-profiling[notebook]) (1.5.0)\n",
      "Requirement already satisfied: mistune<2,>=0.8.1 in /usr/local/lib/python3.7/dist-packages (from nbconvert->notebook>=4.4.1->widgetsnbextension~=3.6.0->ipywidgets>=7.5.1->pandas-profiling[notebook]) (0.8.4)\n",
      "Requirement already satisfied: defusedxml in /usr/local/lib/python3.7/dist-packages (from nbconvert->notebook>=4.4.1->widgetsnbextension~=3.6.0->ipywidgets>=7.5.1->pandas-profiling[notebook]) (0.7.1)\n",
      "Requirement already satisfied: bleach in /usr/local/lib/python3.7/dist-packages (from nbconvert->notebook>=4.4.1->widgetsnbextension~=3.6.0->ipywidgets>=7.5.1->pandas-profiling[notebook]) (5.0.0)\n",
      "Requirement already satisfied: webencodings in /usr/local/lib/python3.7/dist-packages (from bleach->nbconvert->notebook>=4.4.1->widgetsnbextension~=3.6.0->ipywidgets>=7.5.1->pandas-profiling[notebook]) (0.5.1)\n",
      "Enabling notebook extension jupyter-js-widgets/extension...\n",
      "Paths used for configuration of notebook: \n",
      "    \t/root/.jupyter/nbconfig/notebook.json\n",
      "      - Validating: \u001b[32mOK\u001b[0m\n",
      "Paths used for configuration of notebook: \n",
      "    \t/root/.jupyter/nbconfig/notebook.json\n"
     ]
    }
   ],
   "source": [
    "import sys\n",
    "\n",
    "!{sys.executable} -m pip install -U pandas-profiling[notebook]\n",
    "!jupyter nbextension enable --py widgetsnbextension"
   ]
  },
  {
   "cell_type": "code",
   "execution_count": 233,
   "metadata": {
    "colab": {
     "base_uri": "https://localhost:8080/"
    },
    "id": "urW9ooJTJCUm",
    "outputId": "4372e25a-02d4-479d-e23f-fc391a23b84e"
   },
   "outputs": [
    {
     "name": "stdout",
     "output_type": "stream",
     "text": [
      "done\n"
     ]
    }
   ],
   "source": [
    "from pandas_profiling.utils.cache import cache_file\n",
    "\n",
    "#from pandas_profiling.utils import cache_file\n",
    "print('done')"
   ]
  },
  {
   "cell_type": "markdown",
   "metadata": {
    "id": "37a2iYc-n7OP"
   },
   "source": [
    "<a id=section3></a>\n",
    "## 3. Loading Data"
   ]
  },
  {
   "cell_type": "code",
   "execution_count": 234,
   "metadata": {
    "colab": {
     "base_uri": "https://localhost:8080/",
     "height": 73,
     "resources": {
      "http://localhost:8080/nbextensions/google.colab/files.js": {
       "data": "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",
       "headers": [
        [
         "content-type",
         "application/javascript"
        ]
       ],
       "ok": true,
       "status": 200,
       "status_text": "OK"
      }
     }
    },
    "id": "zUTfuMPUofly",
    "outputId": "10fee30d-91e0-4ab8-a2e7-94dacd574dd0"
   },
   "outputs": [
    {
     "data": {
      "text/html": [
       "\n",
       "     <input type=\"file\" id=\"files-60f78575-5f98-4f61-abe3-206e707bf99e\" name=\"files[]\" multiple disabled\n",
       "        style=\"border:none\" />\n",
       "     <output id=\"result-60f78575-5f98-4f61-abe3-206e707bf99e\">\n",
       "      Upload widget is only available when the cell has been executed in the\n",
       "      current browser session. Please rerun this cell to enable.\n",
       "      </output>\n",
       "      <script src=\"/nbextensions/google.colab/files.js\"></script> "
      ],
      "text/plain": [
       "<IPython.core.display.HTML object>"
      ]
     },
     "metadata": {},
     "output_type": "display_data"
    },
    {
     "name": "stdout",
     "output_type": "stream",
     "text": [
      "Saving Department-FIle.xlsx to Department-FIle (1).xlsx\n"
     ]
    }
   ],
   "source": [
    "from google.colab import files\n",
    "uploaded_dept = files.upload()"
   ]
  },
  {
   "cell_type": "code",
   "execution_count": 235,
   "metadata": {
    "id": "Cpdu3KzKoB7g"
   },
   "outputs": [],
   "source": [
    "import io\n",
    "df_dept = pd.read_excel(io.BytesIO(uploaded_dept['Department-FIle.xlsx']))\n",
    "# Dataset is now stored in a Pandas Dataframe"
   ]
  },
  {
   "cell_type": "code",
   "execution_count": 236,
   "metadata": {
    "colab": {
     "base_uri": "https://localhost:8080/"
    },
    "id": "S8aYLCz6pduI",
    "outputId": "aad43a50-79aa-44c9-97b0-f1baa7d8827d"
   },
   "outputs": [
    {
     "data": {
      "text/plain": [
       "(11, 4)"
      ]
     },
     "execution_count": 236,
     "metadata": {},
     "output_type": "execute_result"
    }
   ],
   "source": [
    "#df.head(2)\n",
    "#df.tail(2)\n",
    "df_dept.shape"
   ]
  },
  {
   "cell_type": "code",
   "execution_count": 239,
   "metadata": {
    "colab": {
     "base_uri": "https://localhost:8080/",
     "height": 112
    },
    "id": "79Uwex_CDbLp",
    "outputId": "4045edc8-2752-443f-f428-b520e6631ae2"
   },
   "outputs": [
    {
     "data": {
      "text/html": [
       "\n",
       "  <div id=\"df-1d9dbe7b-891a-49cb-9687-4bf0a0d33c43\">\n",
       "    <div class=\"colab-df-container\">\n",
       "      <div>\n",
       "<style scoped>\n",
       "    .dataframe tbody tr th:only-of-type {\n",
       "        vertical-align: middle;\n",
       "    }\n",
       "\n",
       "    .dataframe tbody tr th {\n",
       "        vertical-align: top;\n",
       "    }\n",
       "\n",
       "    .dataframe thead th {\n",
       "        text-align: right;\n",
       "    }\n",
       "</style>\n",
       "<table border=\"1\" class=\"dataframe\">\n",
       "  <thead>\n",
       "    <tr style=\"text-align: right;\">\n",
       "      <th></th>\n",
       "      <th>dept_id</th>\n",
       "      <th>dept_name</th>\n",
       "      <th>dept_head</th>\n",
       "    </tr>\n",
       "  </thead>\n",
       "  <tbody>\n",
       "    <tr>\n",
       "      <th>0</th>\n",
       "      <td>D00-IT</td>\n",
       "      <td>IT</td>\n",
       "      <td>Henry Adey</td>\n",
       "    </tr>\n",
       "    <tr>\n",
       "      <th>1</th>\n",
       "      <td>D00-SS</td>\n",
       "      <td>Sales</td>\n",
       "      <td>Edward J Bayley</td>\n",
       "    </tr>\n",
       "  </tbody>\n",
       "</table>\n",
       "</div>\n",
       "      <button class=\"colab-df-convert\" onclick=\"convertToInteractive('df-1d9dbe7b-891a-49cb-9687-4bf0a0d33c43')\"\n",
       "              title=\"Convert this dataframe to an interactive table.\"\n",
       "              style=\"display:none;\">\n",
       "        \n",
       "  <svg xmlns=\"http://www.w3.org/2000/svg\" height=\"24px\"viewBox=\"0 0 24 24\"\n",
       "       width=\"24px\">\n",
       "    <path d=\"M0 0h24v24H0V0z\" fill=\"none\"/>\n",
       "    <path d=\"M18.56 5.44l.94 2.06.94-2.06 2.06-.94-2.06-.94-.94-2.06-.94 2.06-2.06.94zm-11 1L8.5 8.5l.94-2.06 2.06-.94-2.06-.94L8.5 2.5l-.94 2.06-2.06.94zm10 10l.94 2.06.94-2.06 2.06-.94-2.06-.94-.94-2.06-.94 2.06-2.06.94z\"/><path d=\"M17.41 7.96l-1.37-1.37c-.4-.4-.92-.59-1.43-.59-.52 0-1.04.2-1.43.59L10.3 9.45l-7.72 7.72c-.78.78-.78 2.05 0 2.83L4 21.41c.39.39.9.59 1.41.59.51 0 1.02-.2 1.41-.59l7.78-7.78 2.81-2.81c.8-.78.8-2.07 0-2.86zM5.41 20L4 18.59l7.72-7.72 1.47 1.35L5.41 20z\"/>\n",
       "  </svg>\n",
       "      </button>\n",
       "      \n",
       "  <style>\n",
       "    .colab-df-container {\n",
       "      display:flex;\n",
       "      flex-wrap:wrap;\n",
       "      gap: 12px;\n",
       "    }\n",
       "\n",
       "    .colab-df-convert {\n",
       "      background-color: #E8F0FE;\n",
       "      border: none;\n",
       "      border-radius: 50%;\n",
       "      cursor: pointer;\n",
       "      display: none;\n",
       "      fill: #1967D2;\n",
       "      height: 32px;\n",
       "      padding: 0 0 0 0;\n",
       "      width: 32px;\n",
       "    }\n",
       "\n",
       "    .colab-df-convert:hover {\n",
       "      background-color: #E2EBFA;\n",
       "      box-shadow: 0px 1px 2px rgba(60, 64, 67, 0.3), 0px 1px 3px 1px rgba(60, 64, 67, 0.15);\n",
       "      fill: #174EA6;\n",
       "    }\n",
       "\n",
       "    [theme=dark] .colab-df-convert {\n",
       "      background-color: #3B4455;\n",
       "      fill: #D2E3FC;\n",
       "    }\n",
       "\n",
       "    [theme=dark] .colab-df-convert:hover {\n",
       "      background-color: #434B5C;\n",
       "      box-shadow: 0px 1px 3px 1px rgba(0, 0, 0, 0.15);\n",
       "      filter: drop-shadow(0px 1px 2px rgba(0, 0, 0, 0.3));\n",
       "      fill: #FFFFFF;\n",
       "    }\n",
       "  </style>\n",
       "\n",
       "      <script>\n",
       "        const buttonEl =\n",
       "          document.querySelector('#df-1d9dbe7b-891a-49cb-9687-4bf0a0d33c43 button.colab-df-convert');\n",
       "        buttonEl.style.display =\n",
       "          google.colab.kernel.accessAllowed ? 'block' : 'none';\n",
       "\n",
       "        async function convertToInteractive(key) {\n",
       "          const element = document.querySelector('#df-1d9dbe7b-891a-49cb-9687-4bf0a0d33c43');\n",
       "          const dataTable =\n",
       "            await google.colab.kernel.invokeFunction('convertToInteractive',\n",
       "                                                     [key], {});\n",
       "          if (!dataTable) return;\n",
       "\n",
       "          const docLinkHtml = 'Like what you see? Visit the ' +\n",
       "            '<a target=\"_blank\" href=https://colab.research.google.com/notebooks/data_table.ipynb>data table notebook</a>'\n",
       "            + ' to learn more about interactive tables.';\n",
       "          element.innerHTML = '';\n",
       "          dataTable['output_type'] = 'display_data';\n",
       "          await google.colab.output.renderOutput(dataTable, element);\n",
       "          const docLink = document.createElement('div');\n",
       "          docLink.innerHTML = docLinkHtml;\n",
       "          element.appendChild(docLink);\n",
       "        }\n",
       "      </script>\n",
       "    </div>\n",
       "  </div>\n",
       "  "
      ],
      "text/plain": [
       "  dept_id dept_name        dept_head\n",
       "0  D00-IT        IT       Henry Adey\n",
       "1  D00-SS     Sales  Edward J Bayley"
      ]
     },
     "execution_count": 239,
     "metadata": {},
     "output_type": "execute_result"
    }
   ],
   "source": [
    "df_dept.head(2)"
   ]
  },
  {
   "cell_type": "code",
   "execution_count": 238,
   "metadata": {
    "id": "QIyDM2TYJ-X2"
   },
   "outputs": [],
   "source": [
    "df_dept.drop(['Unnamed: 0'], 1, inplace=True)"
   ]
  },
  {
   "cell_type": "code",
   "execution_count": 240,
   "metadata": {
    "colab": {
     "base_uri": "https://localhost:8080/",
     "height": 73,
     "resources": {
      "http://localhost:8080/nbextensions/google.colab/files.js": {
       "data": "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",
       "headers": [
        [
         "content-type",
         "application/javascript"
        ]
       ],
       "ok": true,
       "status": 200,
       "status_text": "OK"
      }
     }
    },
    "id": "5SUFde9S1MHu",
    "outputId": "8161d835-f5d3-4fae-f2d3-1fdea6cbe48a"
   },
   "outputs": [
    {
     "data": {
      "text/html": [
       "\n",
       "     <input type=\"file\" id=\"files-971820a4-a08f-477f-995c-ee372c3b4a2e\" name=\"files[]\" multiple disabled\n",
       "        style=\"border:none\" />\n",
       "     <output id=\"result-971820a4-a08f-477f-995c-ee372c3b4a2e\">\n",
       "      Upload widget is only available when the cell has been executed in the\n",
       "      current browser session. Please rerun this cell to enable.\n",
       "      </output>\n",
       "      <script src=\"/nbextensions/google.colab/files.js\"></script> "
      ],
      "text/plain": [
       "<IPython.core.display.HTML object>"
      ]
     },
     "metadata": {},
     "output_type": "display_data"
    },
    {
     "name": "stdout",
     "output_type": "stream",
     "text": [
      "Saving employee-details.xlsx to employee-details (1).xlsx\n"
     ]
    }
   ],
   "source": [
    "from google.colab import files\n",
    "uploaded_emp = files.upload()"
   ]
  },
  {
   "cell_type": "code",
   "execution_count": 241,
   "metadata": {
    "id": "0Tg6Ol5R0uQb"
   },
   "outputs": [],
   "source": [
    "import io\n",
    "df_emp = pd.read_excel(io.BytesIO(uploaded_emp['employee-details.xlsx']))\n",
    "# Dataset is now stored in a Pandas Dataframe"
   ]
  },
  {
   "cell_type": "code",
   "execution_count": 242,
   "metadata": {
    "id": "YiF1oox5KX6p"
   },
   "outputs": [],
   "source": [
    "df_emp.drop(['Unnamed: 0'], 1, inplace=True)"
   ]
  },
  {
   "cell_type": "code",
   "execution_count": 243,
   "metadata": {
    "colab": {
     "base_uri": "https://localhost:8080/",
     "height": 112
    },
    "id": "HmDrt4bj1YHo",
    "outputId": "27190f2d-5246-49a5-d58b-86f6ec94bf5c"
   },
   "outputs": [
    {
     "data": {
      "text/html": [
       "\n",
       "  <div id=\"df-74858b2e-6178-44ce-a3b5-0cdbaf5c2f61\">\n",
       "    <div class=\"colab-df-container\">\n",
       "      <div>\n",
       "<style scoped>\n",
       "    .dataframe tbody tr th:only-of-type {\n",
       "        vertical-align: middle;\n",
       "    }\n",
       "\n",
       "    .dataframe tbody tr th {\n",
       "        vertical-align: top;\n",
       "    }\n",
       "\n",
       "    .dataframe thead th {\n",
       "        text-align: right;\n",
       "    }\n",
       "</style>\n",
       "<table border=\"1\" class=\"dataframe\">\n",
       "  <thead>\n",
       "    <tr style=\"text-align: right;\">\n",
       "      <th></th>\n",
       "      <th>employee_id</th>\n",
       "      <th>age</th>\n",
       "      <th>gender</th>\n",
       "      <th>marital_status</th>\n",
       "    </tr>\n",
       "  </thead>\n",
       "  <tbody>\n",
       "    <tr>\n",
       "      <th>0</th>\n",
       "      <td>113558</td>\n",
       "      <td>43</td>\n",
       "      <td>Male</td>\n",
       "      <td>Married</td>\n",
       "    </tr>\n",
       "    <tr>\n",
       "      <th>1</th>\n",
       "      <td>112256</td>\n",
       "      <td>24</td>\n",
       "      <td>Female</td>\n",
       "      <td>Unmarried</td>\n",
       "    </tr>\n",
       "  </tbody>\n",
       "</table>\n",
       "</div>\n",
       "      <button class=\"colab-df-convert\" onclick=\"convertToInteractive('df-74858b2e-6178-44ce-a3b5-0cdbaf5c2f61')\"\n",
       "              title=\"Convert this dataframe to an interactive table.\"\n",
       "              style=\"display:none;\">\n",
       "        \n",
       "  <svg xmlns=\"http://www.w3.org/2000/svg\" height=\"24px\"viewBox=\"0 0 24 24\"\n",
       "       width=\"24px\">\n",
       "    <path d=\"M0 0h24v24H0V0z\" fill=\"none\"/>\n",
       "    <path d=\"M18.56 5.44l.94 2.06.94-2.06 2.06-.94-2.06-.94-.94-2.06-.94 2.06-2.06.94zm-11 1L8.5 8.5l.94-2.06 2.06-.94-2.06-.94L8.5 2.5l-.94 2.06-2.06.94zm10 10l.94 2.06.94-2.06 2.06-.94-2.06-.94-.94-2.06-.94 2.06-2.06.94z\"/><path d=\"M17.41 7.96l-1.37-1.37c-.4-.4-.92-.59-1.43-.59-.52 0-1.04.2-1.43.59L10.3 9.45l-7.72 7.72c-.78.78-.78 2.05 0 2.83L4 21.41c.39.39.9.59 1.41.59.51 0 1.02-.2 1.41-.59l7.78-7.78 2.81-2.81c.8-.78.8-2.07 0-2.86zM5.41 20L4 18.59l7.72-7.72 1.47 1.35L5.41 20z\"/>\n",
       "  </svg>\n",
       "      </button>\n",
       "      \n",
       "  <style>\n",
       "    .colab-df-container {\n",
       "      display:flex;\n",
       "      flex-wrap:wrap;\n",
       "      gap: 12px;\n",
       "    }\n",
       "\n",
       "    .colab-df-convert {\n",
       "      background-color: #E8F0FE;\n",
       "      border: none;\n",
       "      border-radius: 50%;\n",
       "      cursor: pointer;\n",
       "      display: none;\n",
       "      fill: #1967D2;\n",
       "      height: 32px;\n",
       "      padding: 0 0 0 0;\n",
       "      width: 32px;\n",
       "    }\n",
       "\n",
       "    .colab-df-convert:hover {\n",
       "      background-color: #E2EBFA;\n",
       "      box-shadow: 0px 1px 2px rgba(60, 64, 67, 0.3), 0px 1px 3px 1px rgba(60, 64, 67, 0.15);\n",
       "      fill: #174EA6;\n",
       "    }\n",
       "\n",
       "    [theme=dark] .colab-df-convert {\n",
       "      background-color: #3B4455;\n",
       "      fill: #D2E3FC;\n",
       "    }\n",
       "\n",
       "    [theme=dark] .colab-df-convert:hover {\n",
       "      background-color: #434B5C;\n",
       "      box-shadow: 0px 1px 3px 1px rgba(0, 0, 0, 0.15);\n",
       "      filter: drop-shadow(0px 1px 2px rgba(0, 0, 0, 0.3));\n",
       "      fill: #FFFFFF;\n",
       "    }\n",
       "  </style>\n",
       "\n",
       "      <script>\n",
       "        const buttonEl =\n",
       "          document.querySelector('#df-74858b2e-6178-44ce-a3b5-0cdbaf5c2f61 button.colab-df-convert');\n",
       "        buttonEl.style.display =\n",
       "          google.colab.kernel.accessAllowed ? 'block' : 'none';\n",
       "\n",
       "        async function convertToInteractive(key) {\n",
       "          const element = document.querySelector('#df-74858b2e-6178-44ce-a3b5-0cdbaf5c2f61');\n",
       "          const dataTable =\n",
       "            await google.colab.kernel.invokeFunction('convertToInteractive',\n",
       "                                                     [key], {});\n",
       "          if (!dataTable) return;\n",
       "\n",
       "          const docLinkHtml = 'Like what you see? Visit the ' +\n",
       "            '<a target=\"_blank\" href=https://colab.research.google.com/notebooks/data_table.ipynb>data table notebook</a>'\n",
       "            + ' to learn more about interactive tables.';\n",
       "          element.innerHTML = '';\n",
       "          dataTable['output_type'] = 'display_data';\n",
       "          await google.colab.output.renderOutput(dataTable, element);\n",
       "          const docLink = document.createElement('div');\n",
       "          docLink.innerHTML = docLinkHtml;\n",
       "          element.appendChild(docLink);\n",
       "        }\n",
       "      </script>\n",
       "    </div>\n",
       "  </div>\n",
       "  "
      ],
      "text/plain": [
       "   employee_id  age  gender marital_status\n",
       "0       113558   43    Male        Married\n",
       "1       112256   24  Female      Unmarried"
      ]
     },
     "execution_count": 243,
     "metadata": {},
     "output_type": "execute_result"
    }
   ],
   "source": [
    "df_emp.head(2)\n",
    "#df1.tail(2)\n",
    "#df1.shape"
   ]
  },
  {
   "cell_type": "code",
   "execution_count": 244,
   "metadata": {
    "colab": {
     "base_uri": "https://localhost:8080/"
    },
    "id": "niqeXAghJy2P",
    "outputId": "f2d433d4-7446-4ac9-9138-818fd9148e87"
   },
   "outputs": [
    {
     "data": {
      "text/plain": [
       "(14245, 4)"
      ]
     },
     "execution_count": 244,
     "metadata": {},
     "output_type": "execute_result"
    }
   ],
   "source": [
    "df_emp.shape"
   ]
  },
  {
   "cell_type": "code",
   "execution_count": 245,
   "metadata": {
    "colab": {
     "base_uri": "https://localhost:8080/",
     "height": 73,
     "resources": {
      "http://localhost:8080/nbextensions/google.colab/files.js": {
       "data": "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",
       "headers": [
        [
         "content-type",
         "application/javascript"
        ]
       ],
       "ok": true,
       "status": 200,
       "status_text": "OK"
      }
     }
    },
    "id": "Z2uSSAcW1YMk",
    "outputId": "5bb91f2c-687d-4fc2-abe2-549e59fadf0e"
   },
   "outputs": [
    {
     "data": {
      "text/html": [
       "\n",
       "     <input type=\"file\" id=\"files-8f70c675-a42a-4034-9207-f5e97879f055\" name=\"files[]\" multiple disabled\n",
       "        style=\"border:none\" />\n",
       "     <output id=\"result-8f70c675-a42a-4034-9207-f5e97879f055\">\n",
       "      Upload widget is only available when the cell has been executed in the\n",
       "      current browser session. Please rerun this cell to enable.\n",
       "      </output>\n",
       "      <script src=\"/nbextensions/google.colab/files.js\"></script> "
      ],
      "text/plain": [
       "<IPython.core.display.HTML object>"
      ]
     },
     "metadata": {},
     "output_type": "display_data"
    },
    {
     "name": "stdout",
     "output_type": "stream",
     "text": [
      "Saving Emp_dept_data.xlsx to Emp_dept_data (1).xlsx\n"
     ]
    }
   ],
   "source": [
    "from google.colab import files\n",
    "uploaded_emp_dept = files.upload()"
   ]
  },
  {
   "cell_type": "code",
   "execution_count": 246,
   "metadata": {
    "id": "WeRyTHnU0ud0"
   },
   "outputs": [],
   "source": [
    "import io\n",
    "df_emp_dept = pd.read_excel(io.BytesIO(uploaded_emp_dept['Emp_dept_data.xlsx']))\n",
    "# Dataset is now stored in a Pandas Dataframe"
   ]
  },
  {
   "cell_type": "code",
   "execution_count": 247,
   "metadata": {
    "id": "7y-eeHzDKqaO"
   },
   "outputs": [],
   "source": [
    "df_emp_dept.drop(['Unnamed: 0'], 1, inplace=True)"
   ]
  },
  {
   "cell_type": "code",
   "execution_count": 248,
   "metadata": {
    "colab": {
     "base_uri": "https://localhost:8080/",
     "height": 176
    },
    "id": "Iw-XUyorCmUg",
    "outputId": "696a94e9-d697-4ae8-cbff-ec0105ef9a87"
   },
   "outputs": [
    {
     "data": {
      "text/html": [
       "\n",
       "  <div id=\"df-1a2f4c33-0db2-423e-b234-7bafa2bf5d14\">\n",
       "    <div class=\"colab-df-container\">\n",
       "      <div>\n",
       "<style scoped>\n",
       "    .dataframe tbody tr th:only-of-type {\n",
       "        vertical-align: middle;\n",
       "    }\n",
       "\n",
       "    .dataframe tbody tr th {\n",
       "        vertical-align: top;\n",
       "    }\n",
       "\n",
       "    .dataframe thead th {\n",
       "        text-align: right;\n",
       "    }\n",
       "</style>\n",
       "<table border=\"1\" class=\"dataframe\">\n",
       "  <thead>\n",
       "    <tr style=\"text-align: right;\">\n",
       "      <th></th>\n",
       "      <th>department</th>\n",
       "      <th>salary</th>\n",
       "      <th>tenure</th>\n",
       "      <th>recently_promoted</th>\n",
       "      <th>employee_id</th>\n",
       "      <th>n_projects</th>\n",
       "      <th>avg_monthly_hrs</th>\n",
       "      <th>satisfaction</th>\n",
       "      <th>last_evaluation</th>\n",
       "      <th>filed_complaint</th>\n",
       "    </tr>\n",
       "  </thead>\n",
       "  <tbody>\n",
       "    <tr>\n",
       "      <th>0</th>\n",
       "      <td>NaN</td>\n",
       "      <td>medium</td>\n",
       "      <td>4.0</td>\n",
       "      <td>NaN</td>\n",
       "      <td>124467</td>\n",
       "      <td>NaN</td>\n",
       "      <td>246</td>\n",
       "      <td>0.134415</td>\n",
       "      <td>0.866838</td>\n",
       "      <td>NaN</td>\n",
       "    </tr>\n",
       "    <tr>\n",
       "      <th>1</th>\n",
       "      <td>NaN</td>\n",
       "      <td>low</td>\n",
       "      <td>3.0</td>\n",
       "      <td>NaN</td>\n",
       "      <td>112210</td>\n",
       "      <td>NaN</td>\n",
       "      <td>134</td>\n",
       "      <td>0.511041</td>\n",
       "      <td>0.555718</td>\n",
       "      <td>NaN</td>\n",
       "    </tr>\n",
       "  </tbody>\n",
       "</table>\n",
       "</div>\n",
       "      <button class=\"colab-df-convert\" onclick=\"convertToInteractive('df-1a2f4c33-0db2-423e-b234-7bafa2bf5d14')\"\n",
       "              title=\"Convert this dataframe to an interactive table.\"\n",
       "              style=\"display:none;\">\n",
       "        \n",
       "  <svg xmlns=\"http://www.w3.org/2000/svg\" height=\"24px\"viewBox=\"0 0 24 24\"\n",
       "       width=\"24px\">\n",
       "    <path d=\"M0 0h24v24H0V0z\" fill=\"none\"/>\n",
       "    <path d=\"M18.56 5.44l.94 2.06.94-2.06 2.06-.94-2.06-.94-.94-2.06-.94 2.06-2.06.94zm-11 1L8.5 8.5l.94-2.06 2.06-.94-2.06-.94L8.5 2.5l-.94 2.06-2.06.94zm10 10l.94 2.06.94-2.06 2.06-.94-2.06-.94-.94-2.06-.94 2.06-2.06.94z\"/><path d=\"M17.41 7.96l-1.37-1.37c-.4-.4-.92-.59-1.43-.59-.52 0-1.04.2-1.43.59L10.3 9.45l-7.72 7.72c-.78.78-.78 2.05 0 2.83L4 21.41c.39.39.9.59 1.41.59.51 0 1.02-.2 1.41-.59l7.78-7.78 2.81-2.81c.8-.78.8-2.07 0-2.86zM5.41 20L4 18.59l7.72-7.72 1.47 1.35L5.41 20z\"/>\n",
       "  </svg>\n",
       "      </button>\n",
       "      \n",
       "  <style>\n",
       "    .colab-df-container {\n",
       "      display:flex;\n",
       "      flex-wrap:wrap;\n",
       "      gap: 12px;\n",
       "    }\n",
       "\n",
       "    .colab-df-convert {\n",
       "      background-color: #E8F0FE;\n",
       "      border: none;\n",
       "      border-radius: 50%;\n",
       "      cursor: pointer;\n",
       "      display: none;\n",
       "      fill: #1967D2;\n",
       "      height: 32px;\n",
       "      padding: 0 0 0 0;\n",
       "      width: 32px;\n",
       "    }\n",
       "\n",
       "    .colab-df-convert:hover {\n",
       "      background-color: #E2EBFA;\n",
       "      box-shadow: 0px 1px 2px rgba(60, 64, 67, 0.3), 0px 1px 3px 1px rgba(60, 64, 67, 0.15);\n",
       "      fill: #174EA6;\n",
       "    }\n",
       "\n",
       "    [theme=dark] .colab-df-convert {\n",
       "      background-color: #3B4455;\n",
       "      fill: #D2E3FC;\n",
       "    }\n",
       "\n",
       "    [theme=dark] .colab-df-convert:hover {\n",
       "      background-color: #434B5C;\n",
       "      box-shadow: 0px 1px 3px 1px rgba(0, 0, 0, 0.15);\n",
       "      filter: drop-shadow(0px 1px 2px rgba(0, 0, 0, 0.3));\n",
       "      fill: #FFFFFF;\n",
       "    }\n",
       "  </style>\n",
       "\n",
       "      <script>\n",
       "        const buttonEl =\n",
       "          document.querySelector('#df-1a2f4c33-0db2-423e-b234-7bafa2bf5d14 button.colab-df-convert');\n",
       "        buttonEl.style.display =\n",
       "          google.colab.kernel.accessAllowed ? 'block' : 'none';\n",
       "\n",
       "        async function convertToInteractive(key) {\n",
       "          const element = document.querySelector('#df-1a2f4c33-0db2-423e-b234-7bafa2bf5d14');\n",
       "          const dataTable =\n",
       "            await google.colab.kernel.invokeFunction('convertToInteractive',\n",
       "                                                     [key], {});\n",
       "          if (!dataTable) return;\n",
       "\n",
       "          const docLinkHtml = 'Like what you see? Visit the ' +\n",
       "            '<a target=\"_blank\" href=https://colab.research.google.com/notebooks/data_table.ipynb>data table notebook</a>'\n",
       "            + ' to learn more about interactive tables.';\n",
       "          element.innerHTML = '';\n",
       "          dataTable['output_type'] = 'display_data';\n",
       "          await google.colab.output.renderOutput(dataTable, element);\n",
       "          const docLink = document.createElement('div');\n",
       "          docLink.innerHTML = docLinkHtml;\n",
       "          element.appendChild(docLink);\n",
       "        }\n",
       "      </script>\n",
       "    </div>\n",
       "  </div>\n",
       "  "
      ],
      "text/plain": [
       "  department  salary  tenure  recently_promoted  employee_id  n_projects   \\\n",
       "0        NaN  medium     4.0                NaN       124467          NaN   \n",
       "1        NaN     low     3.0                NaN       112210          NaN   \n",
       "\n",
       "   avg_monthly_hrs  satisfaction  last_evaluation  filed_complaint  \n",
       "0              246      0.134415         0.866838              NaN  \n",
       "1              134      0.511041         0.555718              NaN  "
      ]
     },
     "execution_count": 248,
     "metadata": {},
     "output_type": "execute_result"
    }
   ],
   "source": [
    "df_emp_dept.head(2)\n",
    "#df2.tail(2)\n",
    "#df2.shape"
   ]
  },
  {
   "cell_type": "markdown",
   "metadata": {
    "id": "MNbABTjzDJbF"
   },
   "source": [
    "We are going to perform a merge on the three dataframes, df ,df1 and df_2 on the basis of Employee_id and dept_id of df,df1 and df2 column to create a new dataframe df_merge, in order to make our EDA easier."
   ]
  },
  {
   "cell_type": "code",
   "execution_count": 250,
   "metadata": {
    "colab": {
     "base_uri": "https://localhost:8080/",
     "height": 270
    },
    "id": "d-WxeuCgC7OZ",
    "outputId": "96e71e48-1adf-40de-d2b5-b01d820d932c"
   },
   "outputs": [
    {
     "data": {
      "text/html": [
       "\n",
       "  <div id=\"df-5a61f23f-f25e-41ff-aad5-c832be684d5e\">\n",
       "    <div class=\"colab-df-container\">\n",
       "      <div>\n",
       "<style scoped>\n",
       "    .dataframe tbody tr th:only-of-type {\n",
       "        vertical-align: middle;\n",
       "    }\n",
       "\n",
       "    .dataframe tbody tr th {\n",
       "        vertical-align: top;\n",
       "    }\n",
       "\n",
       "    .dataframe thead th {\n",
       "        text-align: right;\n",
       "    }\n",
       "</style>\n",
       "<table border=\"1\" class=\"dataframe\">\n",
       "  <thead>\n",
       "    <tr style=\"text-align: right;\">\n",
       "      <th></th>\n",
       "      <th>employee_id</th>\n",
       "      <th>age</th>\n",
       "      <th>gender</th>\n",
       "      <th>marital_status</th>\n",
       "      <th>department</th>\n",
       "      <th>salary</th>\n",
       "      <th>tenure</th>\n",
       "      <th>recently_promoted</th>\n",
       "      <th>n_projects</th>\n",
       "      <th>avg_monthly_hrs</th>\n",
       "      <th>satisfaction</th>\n",
       "      <th>last_evaluation</th>\n",
       "      <th>filed_complaint</th>\n",
       "    </tr>\n",
       "  </thead>\n",
       "  <tbody>\n",
       "    <tr>\n",
       "      <th>0</th>\n",
       "      <td>113558</td>\n",
       "      <td>43</td>\n",
       "      <td>Male</td>\n",
       "      <td>Married</td>\n",
       "      <td>D00-PR</td>\n",
       "      <td>medium</td>\n",
       "      <td>4.0</td>\n",
       "      <td>1.0</td>\n",
       "      <td>NaN</td>\n",
       "      <td>111</td>\n",
       "      <td>0.921208</td>\n",
       "      <td>0.753977</td>\n",
       "      <td>NaN</td>\n",
       "    </tr>\n",
       "    <tr>\n",
       "      <th>1</th>\n",
       "      <td>112256</td>\n",
       "      <td>24</td>\n",
       "      <td>Female</td>\n",
       "      <td>Unmarried</td>\n",
       "      <td>D00-MN</td>\n",
       "      <td>medium</td>\n",
       "      <td>3.0</td>\n",
       "      <td>NaN</td>\n",
       "      <td>NaN</td>\n",
       "      <td>201</td>\n",
       "      <td>0.568479</td>\n",
       "      <td>0.964453</td>\n",
       "      <td>NaN</td>\n",
       "    </tr>\n",
       "    <tr>\n",
       "      <th>2</th>\n",
       "      <td>112586</td>\n",
       "      <td>22</td>\n",
       "      <td>Female</td>\n",
       "      <td>Unmarried</td>\n",
       "      <td>D00-SS</td>\n",
       "      <td>low</td>\n",
       "      <td>6.0</td>\n",
       "      <td>NaN</td>\n",
       "      <td>NaN</td>\n",
       "      <td>239</td>\n",
       "      <td>0.144812</td>\n",
       "      <td>0.756458</td>\n",
       "      <td>NaN</td>\n",
       "    </tr>\n",
       "    <tr>\n",
       "      <th>3</th>\n",
       "      <td>108071</td>\n",
       "      <td>36</td>\n",
       "      <td>Male</td>\n",
       "      <td>Married</td>\n",
       "      <td>D00-PR</td>\n",
       "      <td>medium</td>\n",
       "      <td>6.0</td>\n",
       "      <td>NaN</td>\n",
       "      <td>NaN</td>\n",
       "      <td>151</td>\n",
       "      <td>0.210300</td>\n",
       "      <td>0.608282</td>\n",
       "      <td>NaN</td>\n",
       "    </tr>\n",
       "    <tr>\n",
       "      <th>4</th>\n",
       "      <td>116915</td>\n",
       "      <td>38</td>\n",
       "      <td>Male</td>\n",
       "      <td>Married</td>\n",
       "      <td>NaN</td>\n",
       "      <td>medium</td>\n",
       "      <td>3.0</td>\n",
       "      <td>NaN</td>\n",
       "      <td>NaN</td>\n",
       "      <td>259</td>\n",
       "      <td>0.888514</td>\n",
       "      <td>0.749206</td>\n",
       "      <td>NaN</td>\n",
       "    </tr>\n",
       "  </tbody>\n",
       "</table>\n",
       "</div>\n",
       "      <button class=\"colab-df-convert\" onclick=\"convertToInteractive('df-5a61f23f-f25e-41ff-aad5-c832be684d5e')\"\n",
       "              title=\"Convert this dataframe to an interactive table.\"\n",
       "              style=\"display:none;\">\n",
       "        \n",
       "  <svg xmlns=\"http://www.w3.org/2000/svg\" height=\"24px\"viewBox=\"0 0 24 24\"\n",
       "       width=\"24px\">\n",
       "    <path d=\"M0 0h24v24H0V0z\" fill=\"none\"/>\n",
       "    <path d=\"M18.56 5.44l.94 2.06.94-2.06 2.06-.94-2.06-.94-.94-2.06-.94 2.06-2.06.94zm-11 1L8.5 8.5l.94-2.06 2.06-.94-2.06-.94L8.5 2.5l-.94 2.06-2.06.94zm10 10l.94 2.06.94-2.06 2.06-.94-2.06-.94-.94-2.06-.94 2.06-2.06.94z\"/><path d=\"M17.41 7.96l-1.37-1.37c-.4-.4-.92-.59-1.43-.59-.52 0-1.04.2-1.43.59L10.3 9.45l-7.72 7.72c-.78.78-.78 2.05 0 2.83L4 21.41c.39.39.9.59 1.41.59.51 0 1.02-.2 1.41-.59l7.78-7.78 2.81-2.81c.8-.78.8-2.07 0-2.86zM5.41 20L4 18.59l7.72-7.72 1.47 1.35L5.41 20z\"/>\n",
       "  </svg>\n",
       "      </button>\n",
       "      \n",
       "  <style>\n",
       "    .colab-df-container {\n",
       "      display:flex;\n",
       "      flex-wrap:wrap;\n",
       "      gap: 12px;\n",
       "    }\n",
       "\n",
       "    .colab-df-convert {\n",
       "      background-color: #E8F0FE;\n",
       "      border: none;\n",
       "      border-radius: 50%;\n",
       "      cursor: pointer;\n",
       "      display: none;\n",
       "      fill: #1967D2;\n",
       "      height: 32px;\n",
       "      padding: 0 0 0 0;\n",
       "      width: 32px;\n",
       "    }\n",
       "\n",
       "    .colab-df-convert:hover {\n",
       "      background-color: #E2EBFA;\n",
       "      box-shadow: 0px 1px 2px rgba(60, 64, 67, 0.3), 0px 1px 3px 1px rgba(60, 64, 67, 0.15);\n",
       "      fill: #174EA6;\n",
       "    }\n",
       "\n",
       "    [theme=dark] .colab-df-convert {\n",
       "      background-color: #3B4455;\n",
       "      fill: #D2E3FC;\n",
       "    }\n",
       "\n",
       "    [theme=dark] .colab-df-convert:hover {\n",
       "      background-color: #434B5C;\n",
       "      box-shadow: 0px 1px 3px 1px rgba(0, 0, 0, 0.15);\n",
       "      filter: drop-shadow(0px 1px 2px rgba(0, 0, 0, 0.3));\n",
       "      fill: #FFFFFF;\n",
       "    }\n",
       "  </style>\n",
       "\n",
       "      <script>\n",
       "        const buttonEl =\n",
       "          document.querySelector('#df-5a61f23f-f25e-41ff-aad5-c832be684d5e button.colab-df-convert');\n",
       "        buttonEl.style.display =\n",
       "          google.colab.kernel.accessAllowed ? 'block' : 'none';\n",
       "\n",
       "        async function convertToInteractive(key) {\n",
       "          const element = document.querySelector('#df-5a61f23f-f25e-41ff-aad5-c832be684d5e');\n",
       "          const dataTable =\n",
       "            await google.colab.kernel.invokeFunction('convertToInteractive',\n",
       "                                                     [key], {});\n",
       "          if (!dataTable) return;\n",
       "\n",
       "          const docLinkHtml = 'Like what you see? Visit the ' +\n",
       "            '<a target=\"_blank\" href=https://colab.research.google.com/notebooks/data_table.ipynb>data table notebook</a>'\n",
       "            + ' to learn more about interactive tables.';\n",
       "          element.innerHTML = '';\n",
       "          dataTable['output_type'] = 'display_data';\n",
       "          await google.colab.output.renderOutput(dataTable, element);\n",
       "          const docLink = document.createElement('div');\n",
       "          docLink.innerHTML = docLinkHtml;\n",
       "          element.appendChild(docLink);\n",
       "        }\n",
       "      </script>\n",
       "    </div>\n",
       "  </div>\n",
       "  "
      ],
      "text/plain": [
       "   employee_id  age  gender marital_status department  salary  tenure  \\\n",
       "0       113558   43    Male        Married     D00-PR  medium     4.0   \n",
       "1       112256   24  Female      Unmarried     D00-MN  medium     3.0   \n",
       "2       112586   22  Female      Unmarried     D00-SS     low     6.0   \n",
       "3       108071   36    Male        Married     D00-PR  medium     6.0   \n",
       "4       116915   38    Male        Married        NaN  medium     3.0   \n",
       "\n",
       "   recently_promoted  n_projects   avg_monthly_hrs  satisfaction  \\\n",
       "0                1.0          NaN              111      0.921208   \n",
       "1                NaN          NaN              201      0.568479   \n",
       "2                NaN          NaN              239      0.144812   \n",
       "3                NaN          NaN              151      0.210300   \n",
       "4                NaN          NaN              259      0.888514   \n",
       "\n",
       "   last_evaluation  filed_complaint  \n",
       "0         0.753977              NaN  \n",
       "1         0.964453              NaN  \n",
       "2         0.756458              NaN  \n",
       "3         0.608282              NaN  \n",
       "4         0.749206              NaN  "
      ]
     },
     "execution_count": 250,
     "metadata": {},
     "output_type": "execute_result"
    }
   ],
   "source": [
    "df_interm_merge = pd.merge(df_emp, df_emp_dept, how='inner', left_on='employee_id', right_on='employee_id')\n",
    "df_interm_merge.head()"
   ]
  },
  {
   "cell_type": "code",
   "execution_count": 251,
   "metadata": {
    "colab": {
     "base_uri": "https://localhost:8080/"
    },
    "id": "wWwaZ9CNJ5Nt",
    "outputId": "9d159ebe-ad62-44d9-f2b8-3929df6b66be"
   },
   "outputs": [
    {
     "data": {
      "text/plain": [
       "(14145, 13)"
      ]
     },
     "execution_count": 251,
     "metadata": {},
     "output_type": "execute_result"
    }
   ],
   "source": [
    "df_interm_merge.shape"
   ]
  },
  {
   "cell_type": "code",
   "execution_count": 252,
   "metadata": {
    "colab": {
     "base_uri": "https://localhost:8080/",
     "height": 270
    },
    "id": "1UJcX-g0F_8o",
    "outputId": "7df1b3c3-6fa4-4afd-e27d-65206b1b572c"
   },
   "outputs": [
    {
     "data": {
      "text/html": [
       "\n",
       "  <div id=\"df-c6f3dbad-dfa5-415c-adc3-566f757d114a\">\n",
       "    <div class=\"colab-df-container\">\n",
       "      <div>\n",
       "<style scoped>\n",
       "    .dataframe tbody tr th:only-of-type {\n",
       "        vertical-align: middle;\n",
       "    }\n",
       "\n",
       "    .dataframe tbody tr th {\n",
       "        vertical-align: top;\n",
       "    }\n",
       "\n",
       "    .dataframe thead th {\n",
       "        text-align: right;\n",
       "    }\n",
       "</style>\n",
       "<table border=\"1\" class=\"dataframe\">\n",
       "  <thead>\n",
       "    <tr style=\"text-align: right;\">\n",
       "      <th></th>\n",
       "      <th>employee_id</th>\n",
       "      <th>age</th>\n",
       "      <th>gender</th>\n",
       "      <th>marital_status</th>\n",
       "      <th>department</th>\n",
       "      <th>salary</th>\n",
       "      <th>tenure</th>\n",
       "      <th>recently_promoted</th>\n",
       "      <th>n_projects</th>\n",
       "      <th>avg_monthly_hrs</th>\n",
       "      <th>satisfaction</th>\n",
       "      <th>last_evaluation</th>\n",
       "      <th>filed_complaint</th>\n",
       "      <th>dept_id</th>\n",
       "      <th>dept_name</th>\n",
       "      <th>dept_head</th>\n",
       "    </tr>\n",
       "  </thead>\n",
       "  <tbody>\n",
       "    <tr>\n",
       "      <th>0</th>\n",
       "      <td>113558</td>\n",
       "      <td>43</td>\n",
       "      <td>Male</td>\n",
       "      <td>Married</td>\n",
       "      <td>D00-PR</td>\n",
       "      <td>medium</td>\n",
       "      <td>4.0</td>\n",
       "      <td>1.0</td>\n",
       "      <td>NaN</td>\n",
       "      <td>111</td>\n",
       "      <td>0.921208</td>\n",
       "      <td>0.753977</td>\n",
       "      <td>NaN</td>\n",
       "      <td>D00-PR</td>\n",
       "      <td>Procurement</td>\n",
       "      <td>Louie Viles</td>\n",
       "    </tr>\n",
       "    <tr>\n",
       "      <th>1</th>\n",
       "      <td>108071</td>\n",
       "      <td>36</td>\n",
       "      <td>Male</td>\n",
       "      <td>Married</td>\n",
       "      <td>D00-PR</td>\n",
       "      <td>medium</td>\n",
       "      <td>6.0</td>\n",
       "      <td>NaN</td>\n",
       "      <td>NaN</td>\n",
       "      <td>151</td>\n",
       "      <td>0.210300</td>\n",
       "      <td>0.608282</td>\n",
       "      <td>NaN</td>\n",
       "      <td>D00-PR</td>\n",
       "      <td>Procurement</td>\n",
       "      <td>Louie Viles</td>\n",
       "    </tr>\n",
       "    <tr>\n",
       "      <th>2</th>\n",
       "      <td>110888</td>\n",
       "      <td>42</td>\n",
       "      <td>Male</td>\n",
       "      <td>Married</td>\n",
       "      <td>D00-PR</td>\n",
       "      <td>medium</td>\n",
       "      <td>3.0</td>\n",
       "      <td>NaN</td>\n",
       "      <td>NaN</td>\n",
       "      <td>152</td>\n",
       "      <td>0.720369</td>\n",
       "      <td>0.673508</td>\n",
       "      <td>NaN</td>\n",
       "      <td>D00-PR</td>\n",
       "      <td>Procurement</td>\n",
       "      <td>Louie Viles</td>\n",
       "    </tr>\n",
       "    <tr>\n",
       "      <th>3</th>\n",
       "      <td>115694</td>\n",
       "      <td>26</td>\n",
       "      <td>Male</td>\n",
       "      <td>Unmarried</td>\n",
       "      <td>D00-PR</td>\n",
       "      <td>medium</td>\n",
       "      <td>4.0</td>\n",
       "      <td>NaN</td>\n",
       "      <td>NaN</td>\n",
       "      <td>167</td>\n",
       "      <td>0.575996</td>\n",
       "      <td>0.874656</td>\n",
       "      <td>NaN</td>\n",
       "      <td>D00-PR</td>\n",
       "      <td>Procurement</td>\n",
       "      <td>Louie Viles</td>\n",
       "    </tr>\n",
       "    <tr>\n",
       "      <th>4</th>\n",
       "      <td>107767</td>\n",
       "      <td>43</td>\n",
       "      <td>Male</td>\n",
       "      <td>Married</td>\n",
       "      <td>D00-PR</td>\n",
       "      <td>medium</td>\n",
       "      <td>5.0</td>\n",
       "      <td>NaN</td>\n",
       "      <td>NaN</td>\n",
       "      <td>174</td>\n",
       "      <td>0.208138</td>\n",
       "      <td>0.634783</td>\n",
       "      <td>1.0</td>\n",
       "      <td>D00-PR</td>\n",
       "      <td>Procurement</td>\n",
       "      <td>Louie Viles</td>\n",
       "    </tr>\n",
       "  </tbody>\n",
       "</table>\n",
       "</div>\n",
       "      <button class=\"colab-df-convert\" onclick=\"convertToInteractive('df-c6f3dbad-dfa5-415c-adc3-566f757d114a')\"\n",
       "              title=\"Convert this dataframe to an interactive table.\"\n",
       "              style=\"display:none;\">\n",
       "        \n",
       "  <svg xmlns=\"http://www.w3.org/2000/svg\" height=\"24px\"viewBox=\"0 0 24 24\"\n",
       "       width=\"24px\">\n",
       "    <path d=\"M0 0h24v24H0V0z\" fill=\"none\"/>\n",
       "    <path d=\"M18.56 5.44l.94 2.06.94-2.06 2.06-.94-2.06-.94-.94-2.06-.94 2.06-2.06.94zm-11 1L8.5 8.5l.94-2.06 2.06-.94-2.06-.94L8.5 2.5l-.94 2.06-2.06.94zm10 10l.94 2.06.94-2.06 2.06-.94-2.06-.94-.94-2.06-.94 2.06-2.06.94z\"/><path d=\"M17.41 7.96l-1.37-1.37c-.4-.4-.92-.59-1.43-.59-.52 0-1.04.2-1.43.59L10.3 9.45l-7.72 7.72c-.78.78-.78 2.05 0 2.83L4 21.41c.39.39.9.59 1.41.59.51 0 1.02-.2 1.41-.59l7.78-7.78 2.81-2.81c.8-.78.8-2.07 0-2.86zM5.41 20L4 18.59l7.72-7.72 1.47 1.35L5.41 20z\"/>\n",
       "  </svg>\n",
       "      </button>\n",
       "      \n",
       "  <style>\n",
       "    .colab-df-container {\n",
       "      display:flex;\n",
       "      flex-wrap:wrap;\n",
       "      gap: 12px;\n",
       "    }\n",
       "\n",
       "    .colab-df-convert {\n",
       "      background-color: #E8F0FE;\n",
       "      border: none;\n",
       "      border-radius: 50%;\n",
       "      cursor: pointer;\n",
       "      display: none;\n",
       "      fill: #1967D2;\n",
       "      height: 32px;\n",
       "      padding: 0 0 0 0;\n",
       "      width: 32px;\n",
       "    }\n",
       "\n",
       "    .colab-df-convert:hover {\n",
       "      background-color: #E2EBFA;\n",
       "      box-shadow: 0px 1px 2px rgba(60, 64, 67, 0.3), 0px 1px 3px 1px rgba(60, 64, 67, 0.15);\n",
       "      fill: #174EA6;\n",
       "    }\n",
       "\n",
       "    [theme=dark] .colab-df-convert {\n",
       "      background-color: #3B4455;\n",
       "      fill: #D2E3FC;\n",
       "    }\n",
       "\n",
       "    [theme=dark] .colab-df-convert:hover {\n",
       "      background-color: #434B5C;\n",
       "      box-shadow: 0px 1px 3px 1px rgba(0, 0, 0, 0.15);\n",
       "      filter: drop-shadow(0px 1px 2px rgba(0, 0, 0, 0.3));\n",
       "      fill: #FFFFFF;\n",
       "    }\n",
       "  </style>\n",
       "\n",
       "      <script>\n",
       "        const buttonEl =\n",
       "          document.querySelector('#df-c6f3dbad-dfa5-415c-adc3-566f757d114a button.colab-df-convert');\n",
       "        buttonEl.style.display =\n",
       "          google.colab.kernel.accessAllowed ? 'block' : 'none';\n",
       "\n",
       "        async function convertToInteractive(key) {\n",
       "          const element = document.querySelector('#df-c6f3dbad-dfa5-415c-adc3-566f757d114a');\n",
       "          const dataTable =\n",
       "            await google.colab.kernel.invokeFunction('convertToInteractive',\n",
       "                                                     [key], {});\n",
       "          if (!dataTable) return;\n",
       "\n",
       "          const docLinkHtml = 'Like what you see? Visit the ' +\n",
       "            '<a target=\"_blank\" href=https://colab.research.google.com/notebooks/data_table.ipynb>data table notebook</a>'\n",
       "            + ' to learn more about interactive tables.';\n",
       "          element.innerHTML = '';\n",
       "          dataTable['output_type'] = 'display_data';\n",
       "          await google.colab.output.renderOutput(dataTable, element);\n",
       "          const docLink = document.createElement('div');\n",
       "          docLink.innerHTML = docLinkHtml;\n",
       "          element.appendChild(docLink);\n",
       "        }\n",
       "      </script>\n",
       "    </div>\n",
       "  </div>\n",
       "  "
      ],
      "text/plain": [
       "   employee_id  age gender marital_status department  salary  tenure  \\\n",
       "0       113558   43   Male        Married     D00-PR  medium     4.0   \n",
       "1       108071   36   Male        Married     D00-PR  medium     6.0   \n",
       "2       110888   42   Male        Married     D00-PR  medium     3.0   \n",
       "3       115694   26   Male      Unmarried     D00-PR  medium     4.0   \n",
       "4       107767   43   Male        Married     D00-PR  medium     5.0   \n",
       "\n",
       "   recently_promoted  n_projects   avg_monthly_hrs  satisfaction  \\\n",
       "0                1.0          NaN              111      0.921208   \n",
       "1                NaN          NaN              151      0.210300   \n",
       "2                NaN          NaN              152      0.720369   \n",
       "3                NaN          NaN              167      0.575996   \n",
       "4                NaN          NaN              174      0.208138   \n",
       "\n",
       "   last_evaluation  filed_complaint dept_id    dept_name    dept_head  \n",
       "0         0.753977              NaN  D00-PR  Procurement  Louie Viles  \n",
       "1         0.608282              NaN  D00-PR  Procurement  Louie Viles  \n",
       "2         0.673508              NaN  D00-PR  Procurement  Louie Viles  \n",
       "3         0.874656              NaN  D00-PR  Procurement  Louie Viles  \n",
       "4         0.634783              1.0  D00-PR  Procurement  Louie Viles  "
      ]
     },
     "execution_count": 252,
     "metadata": {},
     "output_type": "execute_result"
    }
   ],
   "source": [
    "df = pd.merge(df_interm_merge, df_dept, left_on='department', right_on='dept_id',how='outer')\n",
    "df.head()"
   ]
  },
  {
   "cell_type": "code",
   "execution_count": 253,
   "metadata": {
    "colab": {
     "base_uri": "https://localhost:8080/"
    },
    "id": "TwHDoWNpKJEx",
    "outputId": "65efcaef-0b42-4bdd-d08b-7bb3066d54fd"
   },
   "outputs": [
    {
     "data": {
      "text/plain": [
       "(14145, 16)"
      ]
     },
     "execution_count": 253,
     "metadata": {},
     "output_type": "execute_result"
    }
   ],
   "source": [
    "df.shape"
   ]
  },
  {
   "cell_type": "code",
   "execution_count": 254,
   "metadata": {
    "colab": {
     "base_uri": "https://localhost:8080/",
     "height": 176
    },
    "id": "UkQGky0mC7Vr",
    "outputId": "4508ed96-17e6-449e-ed34-7386e9d5a7c0"
   },
   "outputs": [
    {
     "data": {
      "text/html": [
       "\n",
       "  <div id=\"df-b43119d7-d572-4ea1-b136-d19ff354a063\">\n",
       "    <div class=\"colab-df-container\">\n",
       "      <div>\n",
       "<style scoped>\n",
       "    .dataframe tbody tr th:only-of-type {\n",
       "        vertical-align: middle;\n",
       "    }\n",
       "\n",
       "    .dataframe tbody tr th {\n",
       "        vertical-align: top;\n",
       "    }\n",
       "\n",
       "    .dataframe thead th {\n",
       "        text-align: right;\n",
       "    }\n",
       "</style>\n",
       "<table border=\"1\" class=\"dataframe\">\n",
       "  <thead>\n",
       "    <tr style=\"text-align: right;\">\n",
       "      <th></th>\n",
       "      <th>employee_id</th>\n",
       "      <th>age</th>\n",
       "      <th>gender</th>\n",
       "      <th>marital_status</th>\n",
       "      <th>department</th>\n",
       "      <th>salary</th>\n",
       "      <th>tenure</th>\n",
       "      <th>recently_promoted</th>\n",
       "      <th>n_projects</th>\n",
       "      <th>avg_monthly_hrs</th>\n",
       "      <th>satisfaction</th>\n",
       "      <th>last_evaluation</th>\n",
       "      <th>filed_complaint</th>\n",
       "      <th>dept_id</th>\n",
       "      <th>dept_name</th>\n",
       "      <th>dept_head</th>\n",
       "    </tr>\n",
       "  </thead>\n",
       "  <tbody>\n",
       "    <tr>\n",
       "      <th>0</th>\n",
       "      <td>113558</td>\n",
       "      <td>43</td>\n",
       "      <td>Male</td>\n",
       "      <td>Married</td>\n",
       "      <td>D00-PR</td>\n",
       "      <td>medium</td>\n",
       "      <td>4.0</td>\n",
       "      <td>1.0</td>\n",
       "      <td>NaN</td>\n",
       "      <td>111</td>\n",
       "      <td>0.921208</td>\n",
       "      <td>0.753977</td>\n",
       "      <td>NaN</td>\n",
       "      <td>D00-PR</td>\n",
       "      <td>Procurement</td>\n",
       "      <td>Louie Viles</td>\n",
       "    </tr>\n",
       "    <tr>\n",
       "      <th>1</th>\n",
       "      <td>108071</td>\n",
       "      <td>36</td>\n",
       "      <td>Male</td>\n",
       "      <td>Married</td>\n",
       "      <td>D00-PR</td>\n",
       "      <td>medium</td>\n",
       "      <td>6.0</td>\n",
       "      <td>NaN</td>\n",
       "      <td>NaN</td>\n",
       "      <td>151</td>\n",
       "      <td>0.210300</td>\n",
       "      <td>0.608282</td>\n",
       "      <td>NaN</td>\n",
       "      <td>D00-PR</td>\n",
       "      <td>Procurement</td>\n",
       "      <td>Louie Viles</td>\n",
       "    </tr>\n",
       "  </tbody>\n",
       "</table>\n",
       "</div>\n",
       "      <button class=\"colab-df-convert\" onclick=\"convertToInteractive('df-b43119d7-d572-4ea1-b136-d19ff354a063')\"\n",
       "              title=\"Convert this dataframe to an interactive table.\"\n",
       "              style=\"display:none;\">\n",
       "        \n",
       "  <svg xmlns=\"http://www.w3.org/2000/svg\" height=\"24px\"viewBox=\"0 0 24 24\"\n",
       "       width=\"24px\">\n",
       "    <path d=\"M0 0h24v24H0V0z\" fill=\"none\"/>\n",
       "    <path d=\"M18.56 5.44l.94 2.06.94-2.06 2.06-.94-2.06-.94-.94-2.06-.94 2.06-2.06.94zm-11 1L8.5 8.5l.94-2.06 2.06-.94-2.06-.94L8.5 2.5l-.94 2.06-2.06.94zm10 10l.94 2.06.94-2.06 2.06-.94-2.06-.94-.94-2.06-.94 2.06-2.06.94z\"/><path d=\"M17.41 7.96l-1.37-1.37c-.4-.4-.92-.59-1.43-.59-.52 0-1.04.2-1.43.59L10.3 9.45l-7.72 7.72c-.78.78-.78 2.05 0 2.83L4 21.41c.39.39.9.59 1.41.59.51 0 1.02-.2 1.41-.59l7.78-7.78 2.81-2.81c.8-.78.8-2.07 0-2.86zM5.41 20L4 18.59l7.72-7.72 1.47 1.35L5.41 20z\"/>\n",
       "  </svg>\n",
       "      </button>\n",
       "      \n",
       "  <style>\n",
       "    .colab-df-container {\n",
       "      display:flex;\n",
       "      flex-wrap:wrap;\n",
       "      gap: 12px;\n",
       "    }\n",
       "\n",
       "    .colab-df-convert {\n",
       "      background-color: #E8F0FE;\n",
       "      border: none;\n",
       "      border-radius: 50%;\n",
       "      cursor: pointer;\n",
       "      display: none;\n",
       "      fill: #1967D2;\n",
       "      height: 32px;\n",
       "      padding: 0 0 0 0;\n",
       "      width: 32px;\n",
       "    }\n",
       "\n",
       "    .colab-df-convert:hover {\n",
       "      background-color: #E2EBFA;\n",
       "      box-shadow: 0px 1px 2px rgba(60, 64, 67, 0.3), 0px 1px 3px 1px rgba(60, 64, 67, 0.15);\n",
       "      fill: #174EA6;\n",
       "    }\n",
       "\n",
       "    [theme=dark] .colab-df-convert {\n",
       "      background-color: #3B4455;\n",
       "      fill: #D2E3FC;\n",
       "    }\n",
       "\n",
       "    [theme=dark] .colab-df-convert:hover {\n",
       "      background-color: #434B5C;\n",
       "      box-shadow: 0px 1px 3px 1px rgba(0, 0, 0, 0.15);\n",
       "      filter: drop-shadow(0px 1px 2px rgba(0, 0, 0, 0.3));\n",
       "      fill: #FFFFFF;\n",
       "    }\n",
       "  </style>\n",
       "\n",
       "      <script>\n",
       "        const buttonEl =\n",
       "          document.querySelector('#df-b43119d7-d572-4ea1-b136-d19ff354a063 button.colab-df-convert');\n",
       "        buttonEl.style.display =\n",
       "          google.colab.kernel.accessAllowed ? 'block' : 'none';\n",
       "\n",
       "        async function convertToInteractive(key) {\n",
       "          const element = document.querySelector('#df-b43119d7-d572-4ea1-b136-d19ff354a063');\n",
       "          const dataTable =\n",
       "            await google.colab.kernel.invokeFunction('convertToInteractive',\n",
       "                                                     [key], {});\n",
       "          if (!dataTable) return;\n",
       "\n",
       "          const docLinkHtml = 'Like what you see? Visit the ' +\n",
       "            '<a target=\"_blank\" href=https://colab.research.google.com/notebooks/data_table.ipynb>data table notebook</a>'\n",
       "            + ' to learn more about interactive tables.';\n",
       "          element.innerHTML = '';\n",
       "          dataTable['output_type'] = 'display_data';\n",
       "          await google.colab.output.renderOutput(dataTable, element);\n",
       "          const docLink = document.createElement('div');\n",
       "          docLink.innerHTML = docLinkHtml;\n",
       "          element.appendChild(docLink);\n",
       "        }\n",
       "      </script>\n",
       "    </div>\n",
       "  </div>\n",
       "  "
      ],
      "text/plain": [
       "   employee_id  age gender marital_status department  salary  tenure  \\\n",
       "0       113558   43   Male        Married     D00-PR  medium     4.0   \n",
       "1       108071   36   Male        Married     D00-PR  medium     6.0   \n",
       "\n",
       "   recently_promoted  n_projects   avg_monthly_hrs  satisfaction  \\\n",
       "0                1.0          NaN              111      0.921208   \n",
       "1                NaN          NaN              151      0.210300   \n",
       "\n",
       "   last_evaluation  filed_complaint dept_id    dept_name    dept_head  \n",
       "0         0.753977              NaN  D00-PR  Procurement  Louie Viles  \n",
       "1         0.608282              NaN  D00-PR  Procurement  Louie Viles  "
      ]
     },
     "execution_count": 254,
     "metadata": {},
     "output_type": "execute_result"
    }
   ],
   "source": [
    "df.head(2)"
   ]
  },
  {
   "cell_type": "code",
   "execution_count": 255,
   "metadata": {
    "colab": {
     "base_uri": "https://localhost:8080/"
    },
    "id": "rsP_oHKqC7cj",
    "outputId": "d7c5f667-4446-4634-ffe1-450f8d5b33a3"
   },
   "outputs": [
    {
     "name": "stdout",
     "output_type": "stream",
     "text": [
      "<class 'pandas.core.frame.DataFrame'>\n",
      "Int64Index: 14145 entries, 0 to 14144\n",
      "Data columns (total 16 columns):\n",
      " #   Column             Non-Null Count  Dtype  \n",
      "---  ------             --------------  -----  \n",
      " 0   employee_id        14145 non-null  int64  \n",
      " 1   age                14145 non-null  int64  \n",
      " 2   gender             14145 non-null  object \n",
      " 3   marital_status     14145 non-null  object \n",
      " 4   department         13232 non-null  object \n",
      " 5   salary             14145 non-null  object \n",
      " 6   tenure             13995 non-null  float64\n",
      " 7   recently_promoted  297 non-null    float64\n",
      " 8   n_projects         0 non-null      float64\n",
      " 9   avg_monthly_hrs    14145 non-null  int64  \n",
      " 10  satisfaction       13995 non-null  float64\n",
      " 11  last_evaluation    12658 non-null  float64\n",
      " 12  filed_complaint    2046 non-null   float64\n",
      " 13  dept_id            13232 non-null  object \n",
      " 14  dept_name          13232 non-null  object \n",
      " 15  dept_head          13232 non-null  object \n",
      "dtypes: float64(6), int64(3), object(7)\n",
      "memory usage: 1.8+ MB\n"
     ]
    }
   ],
   "source": [
    "df.info()"
   ]
  },
  {
   "cell_type": "markdown",
   "metadata": {
    "id": "h0LEduQmqCJ7"
   },
   "source": [
    "### Description of the Dataset\n",
    "\n",
    "The Business Intelligence Analysts of the Company provided you three datasets that contain information about past employees and their status (still employed or already left).\n",
    "\n",
    "1. # department_data\n",
    "This dataset contains information about each department. The schema of the dataset is as follows:\n",
    "\n",
    "- dept_id – Unique Department Code \n",
    "- dept_name – Name of the Department \n",
    "- dept_head – Name of the Head of the Department\n",
    "\n",
    "2. # employee_details_data\n",
    "This dataset consists of Employee ID, their Age, Gender and Marital Status. The schema of this dataset is as follows:\n",
    "\n",
    "- employee_id – Unique ID Number for each employee\n",
    "- age – Age of the employee\n",
    "- gender – Gender of the employee\n",
    "- marital_status – Marital Status of the employee\n",
    "\n",
    "3. # employee_data\n",
    "This dataset consists of each employee’s Administrative Information, Workload Information, Mutual Evaluation Information and Status.\n",
    "\n",
    "Target variable\n",
    "\n",
    "- status – Current employment status (Employed / Left)\n",
    "- Administrative information\n",
    "\n",
    "- department – Department to which the employees belong(ed) to\n",
    "- salary – Salary level with respect to rest of their department\n",
    "- tenure – Number of years at the company\n",
    "- recently_promoted – Was the employee promoted in the last 3 years?\n",
    "- employee_id – Unique ID Number for each employee\n",
    "\n",
    "Workload information\n",
    "\n",
    "- n_projects – Number of projects employee has worked on\n",
    "- avg_monthly_hrs – Average number of hours worked per month\n",
    "- Mutual evaluation information\n",
    "\n",
    "- satisfaction – Score for employee’s satisfaction with the - company (higher is better)\n",
    "- last_evaluation – Score for most recent evaluation of employee (higher is better)\n",
    "- filed_complaint – Has the employee filed a formal complaint in the last 3 years?"
   ]
  },
  {
   "cell_type": "code",
   "execution_count": 256,
   "metadata": {
    "colab": {
     "base_uri": "https://localhost:8080/"
    },
    "id": "S_HgE4qWtXgx",
    "outputId": "ad537f34-ba1e-47e3-f7dc-b76aaa810ddf"
   },
   "outputs": [
    {
     "name": "stdout",
     "output_type": "stream",
     "text": [
      "Mounted at /gdrive\n"
     ]
    }
   ],
   "source": [
    "#from google.colab import drive\n",
    "#drive.mount('/gdrive')"
   ]
  },
  {
   "cell_type": "code",
   "execution_count": null,
   "metadata": {
    "id": "FvmiilBpqKg_"
   },
   "outputs": [],
   "source": [
    "df.info()"
   ]
  },
  {
   "cell_type": "markdown",
   "metadata": {
    "id": "ns4FmT1Lz_Th"
   },
   "source": [
    "- ```info``` function gives us the following insights into \n",
    "![image.png](data:image/png;base64,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)"
   ]
  },
  {
   "cell_type": "code",
   "execution_count": 275,
   "metadata": {
    "colab": {
     "base_uri": "https://localhost:8080/"
    },
    "id": "cw4mrMV4zI0U",
    "outputId": "6311f07c-576b-4c23-ee91-458ca9707b5f"
   },
   "outputs": [
    {
     "data": {
      "text/plain": [
       "employee_id              0\n",
       "age                      0\n",
       "gender                   0\n",
       "marital_status           0\n",
       "department             913\n",
       "salary                   0\n",
       "tenure                 150\n",
       "recently_promoted    13848\n",
       "n_projects           14145\n",
       "avg_monthly_hrs          0\n",
       "satisfaction           150\n",
       "last_evaluation       1487\n",
       "filed_complaint      12099\n",
       "dept_id                913\n",
       "dept_name              913\n",
       "dept_head              913\n",
       "dtype: int64"
      ]
     },
     "execution_count": 275,
     "metadata": {},
     "output_type": "execute_result"
    }
   ],
   "source": [
    "df.isnull().sum()"
   ]
  },
  {
   "cell_type": "markdown",
   "metadata": {
    "id": "VDAdHal4Ojcf"
   },
   "source": [
    "\n",
    "### 4.2 Pandas Profiling after Data Preprocessing\n",
    "\n",
    "Here, we will perform Pandas Profiling after preprocessing our dataset, so we will name the output file as profiling_after_preprocessing.html."
   ]
  },
  {
   "cell_type": "code",
   "execution_count": 276,
   "metadata": {
    "id": "vWUwb_foRm5n"
   },
   "outputs": [],
   "source": [
    "import pandas as pd\n",
    "import pandas_profiling\n",
    "from pandas_profiling import ProfileReport "
   ]
  },
  {
   "cell_type": "code",
   "execution_count": 279,
   "metadata": {
    "colab": {
     "base_uri": "https://localhost:8080/",
     "height": 35
    },
    "id": "mNXqKgmsDw47",
    "outputId": "8e44da33-9afe-4c0f-ce46-d4564300f536"
   },
   "outputs": [
    {
     "data": {
      "application/vnd.google.colaboratory.intrinsic+json": {
       "type": "string"
      },
      "text/plain": [
       "'1.3.5'"
      ]
     },
     "execution_count": 279,
     "metadata": {},
     "output_type": "execute_result"
    }
   ],
   "source": [
    "import pandas as pd\n",
    "pd.__version__"
   ]
  },
  {
   "cell_type": "code",
   "execution_count": 282,
   "metadata": {
    "colab": {
     "base_uri": "https://localhost:8080/"
    },
    "id": "G8KfJ337Ed_R",
    "outputId": "56e35680-aa7e-449b-e106-fa860ba64ee2"
   },
   "outputs": [
    {
     "name": "stdout",
     "output_type": "stream",
     "text": [
      "\u001b[31mERROR: Could not find a version that satisfies the requirement pandas==1.4.2 (from versions: 0.1, 0.2, 0.3.0, 0.4.0, 0.4.1, 0.4.2, 0.4.3, 0.5.0, 0.6.0, 0.6.1, 0.7.0, 0.7.1, 0.7.2, 0.7.3, 0.8.0, 0.8.1, 0.9.0, 0.9.1, 0.10.0, 0.10.1, 0.11.0, 0.12.0, 0.13.0, 0.13.1, 0.14.0, 0.14.1, 0.15.0, 0.15.1, 0.15.2, 0.16.0, 0.16.1, 0.16.2, 0.17.0, 0.17.1, 0.18.0, 0.18.1, 0.19.0, 0.19.1, 0.19.2, 0.20.0, 0.20.1, 0.20.2, 0.20.3, 0.21.0, 0.21.1, 0.22.0, 0.23.0, 0.23.1, 0.23.2, 0.23.3, 0.23.4, 0.24.0, 0.24.1, 0.24.2, 0.25.0, 0.25.1, 0.25.2, 0.25.3, 1.0.0, 1.0.1, 1.0.2, 1.0.3, 1.0.4, 1.0.5, 1.1.0, 1.1.1, 1.1.2, 1.1.3, 1.1.4, 1.1.5, 1.2.0, 1.2.1, 1.2.2, 1.2.3, 1.2.4, 1.2.5, 1.3.0, 1.3.1, 1.3.2, 1.3.3, 1.3.4, 1.3.5)\u001b[0m\n",
      "\u001b[31mERROR: No matching distribution found for pandas==1.4.2\u001b[0m\n"
     ]
    }
   ],
   "source": [
    "!pip install pandas==1.4.2"
   ]
  },
  {
   "cell_type": "code",
   "execution_count": 283,
   "metadata": {
    "id": "elyF3B7XEobq"
   },
   "outputs": [],
   "source": [
    "import pandas as pd\n",
    "import pandas_profiling\n",
    "from pandas_profiling import ProfileReport "
   ]
  },
  {
   "cell_type": "code",
   "execution_count": 281,
   "metadata": {
    "colab": {
     "base_uri": "https://localhost:8080/"
    },
    "id": "NcryqP9-ESBP",
    "outputId": "6e7ed37a-416f-4a48-f54e-ff24301f40db"
   },
   "outputs": [
    {
     "name": "stdout",
     "output_type": "stream",
     "text": [
      "\u001b[31mERROR: You must give at least one requirement to install (see \"pip help install\")\u001b[0m\n"
     ]
    }
   ],
   "source": [
    "!pip3 install"
   ]
  },
  {
   "cell_type": "code",
   "execution_count": 290,
   "metadata": {
    "colab": {
     "base_uri": "https://localhost:8080/",
     "height": 1000
    },
    "id": "Jk9FRRdzGeb1",
    "outputId": "c238c82b-ea3b-4d4a-a2be-e90d53f02aad"
   },
   "outputs": [
    {
     "name": "stdout",
     "output_type": "stream",
     "text": [
      "Collecting pandas-profiling==2.7.1\n",
      "  Downloading pandas_profiling-2.7.1-py2.py3-none-any.whl (252 kB)\n",
      "\u001b[?25l\r",
      "\u001b[K     |█▎                              | 10 kB 22.1 MB/s eta 0:00:01\r",
      "\u001b[K     |██▋                             | 20 kB 15.8 MB/s eta 0:00:01\r",
      "\u001b[K     |████                            | 30 kB 10.3 MB/s eta 0:00:01\r",
      "\u001b[K     |█████▏                          | 40 kB 9.4 MB/s eta 0:00:01\r",
      "\u001b[K     |██████▌                         | 51 kB 4.5 MB/s eta 0:00:01\r",
      "\u001b[K     |███████▉                        | 61 kB 5.3 MB/s eta 0:00:01\r",
      "\u001b[K     |█████████                       | 71 kB 6.0 MB/s eta 0:00:01\r",
      "\u001b[K     |██████████▍                     | 81 kB 4.3 MB/s eta 0:00:01\r",
      "\u001b[K     |███████████▊                    | 92 kB 4.7 MB/s eta 0:00:01\r",
      "\u001b[K     |█████████████                   | 102 kB 5.2 MB/s eta 0:00:01\r",
      "\u001b[K     |██████████████▎                 | 112 kB 5.2 MB/s eta 0:00:01\r",
      "\u001b[K     |███████████████▋                | 122 kB 5.2 MB/s eta 0:00:01\r",
      "\u001b[K     |█████████████████               | 133 kB 5.2 MB/s eta 0:00:01\r",
      "\u001b[K     |██████████████████▏             | 143 kB 5.2 MB/s eta 0:00:01\r",
      "\u001b[K     |███████████████████▌            | 153 kB 5.2 MB/s eta 0:00:01\r",
      "\u001b[K     |████████████████████▉           | 163 kB 5.2 MB/s eta 0:00:01\r",
      "\u001b[K     |██████████████████████          | 174 kB 5.2 MB/s eta 0:00:01\r",
      "\u001b[K     |███████████████████████▍        | 184 kB 5.2 MB/s eta 0:00:01\r",
      "\u001b[K     |████████████████████████▊       | 194 kB 5.2 MB/s eta 0:00:01\r",
      "\u001b[K     |██████████████████████████      | 204 kB 5.2 MB/s eta 0:00:01\r",
      "\u001b[K     |███████████████████████████▎    | 215 kB 5.2 MB/s eta 0:00:01\r",
      "\u001b[K     |████████████████████████████▋   | 225 kB 5.2 MB/s eta 0:00:01\r",
      "\u001b[K     |██████████████████████████████  | 235 kB 5.2 MB/s eta 0:00:01\r",
      "\u001b[K     |███████████████████████████████▏| 245 kB 5.2 MB/s eta 0:00:01\r",
      "\u001b[K     |████████████████████████████████| 252 kB 5.2 MB/s \n",
      "\u001b[?25hRequirement already satisfied: matplotlib>=3.2.0 in /usr/local/lib/python3.7/dist-packages (from pandas-profiling==2.7.1) (3.2.2)\n",
      "Requirement already satisfied: phik>=0.9.10 in /usr/local/lib/python3.7/dist-packages (from pandas-profiling==2.7.1) (0.12.2)\n",
      "Requirement already satisfied: tangled-up-in-unicode>=0.0.4 in /usr/local/lib/python3.7/dist-packages (from pandas-profiling==2.7.1) (0.2.0)\n",
      "Collecting visions[type_image_path]==0.4.1\n",
      "  Downloading visions-0.4.1-py3-none-any.whl (58 kB)\n",
      "\u001b[K     |████████████████████████████████| 58 kB 5.1 MB/s \n",
      "\u001b[?25hRequirement already satisfied: missingno>=0.4.2 in /usr/local/lib/python3.7/dist-packages (from pandas-profiling==2.7.1) (0.5.1)\n",
      "Requirement already satisfied: requests>=2.23.0 in /usr/local/lib/python3.7/dist-packages (from pandas-profiling==2.7.1) (2.27.1)\n",
      "Requirement already satisfied: numpy>=1.16.0 in /usr/local/lib/python3.7/dist-packages (from pandas-profiling==2.7.1) (1.21.5)\n",
      "Requirement already satisfied: tqdm>=4.43.0 in /usr/local/lib/python3.7/dist-packages (from pandas-profiling==2.7.1) (4.64.0)\n",
      "Collecting confuse>=1.0.0\n",
      "  Downloading confuse-1.7.0-py2.py3-none-any.whl (25 kB)\n",
      "Requirement already satisfied: jinja2>=2.11.1 in /usr/local/lib/python3.7/dist-packages (from pandas-profiling==2.7.1) (2.11.3)\n",
      "Requirement already satisfied: scipy>=1.4.1 in /usr/local/lib/python3.7/dist-packages (from pandas-profiling==2.7.1) (1.7.3)\n",
      "Requirement already satisfied: pandas!=1.0.0,!=1.0.1,!=1.0.2,>=0.25.3 in /usr/local/lib/python3.7/dist-packages (from pandas-profiling==2.7.1) (1.3.5)\n",
      "Requirement already satisfied: htmlmin>=0.1.12 in /usr/local/lib/python3.7/dist-packages (from pandas-profiling==2.7.1) (0.1.12)\n",
      "Requirement already satisfied: joblib in /usr/local/lib/python3.7/dist-packages (from pandas-profiling==2.7.1) (1.1.0)\n",
      "Requirement already satisfied: ipywidgets>=7.5.1 in /usr/local/lib/python3.7/dist-packages (from pandas-profiling==2.7.1) (7.7.0)\n",
      "Requirement already satisfied: astropy>=4.0 in /usr/local/lib/python3.7/dist-packages (from pandas-profiling==2.7.1) (4.3.1)\n",
      "Requirement already satisfied: attrs>=19.3.0 in /usr/local/lib/python3.7/dist-packages (from visions[type_image_path]==0.4.1->pandas-profiling==2.7.1) (21.4.0)\n",
      "Requirement already satisfied: networkx>=2.4 in /usr/local/lib/python3.7/dist-packages (from visions[type_image_path]==0.4.1->pandas-profiling==2.7.1) (2.6.3)\n",
      "Requirement already satisfied: imagehash in /usr/local/lib/python3.7/dist-packages (from visions[type_image_path]==0.4.1->pandas-profiling==2.7.1) (4.2.1)\n",
      "Requirement already satisfied: Pillow in /usr/local/lib/python3.7/dist-packages (from visions[type_image_path]==0.4.1->pandas-profiling==2.7.1) (7.1.2)\n",
      "Requirement already satisfied: importlib-metadata in /usr/local/lib/python3.7/dist-packages (from astropy>=4.0->pandas-profiling==2.7.1) (4.11.3)\n",
      "Requirement already satisfied: pyerfa>=1.7.3 in /usr/local/lib/python3.7/dist-packages (from astropy>=4.0->pandas-profiling==2.7.1) (2.0.0.1)\n",
      "Requirement already satisfied: pyyaml in /usr/local/lib/python3.7/dist-packages (from confuse>=1.0.0->pandas-profiling==2.7.1) (6.0)\n",
      "Requirement already satisfied: widgetsnbextension~=3.6.0 in /usr/local/lib/python3.7/dist-packages (from ipywidgets>=7.5.1->pandas-profiling==2.7.1) (3.6.0)\n",
      "Requirement already satisfied: jupyterlab-widgets>=1.0.0 in /usr/local/lib/python3.7/dist-packages (from ipywidgets>=7.5.1->pandas-profiling==2.7.1) (1.1.0)\n",
      "Requirement already satisfied: ipykernel>=4.5.1 in /usr/local/lib/python3.7/dist-packages (from ipywidgets>=7.5.1->pandas-profiling==2.7.1) (4.10.1)\n",
      "Requirement already satisfied: traitlets>=4.3.1 in /usr/local/lib/python3.7/dist-packages (from ipywidgets>=7.5.1->pandas-profiling==2.7.1) (5.1.1)\n",
      "Requirement already satisfied: ipython>=4.0.0 in /usr/local/lib/python3.7/dist-packages (from ipywidgets>=7.5.1->pandas-profiling==2.7.1) (5.5.0)\n",
      "Requirement already satisfied: ipython-genutils~=0.2.0 in /usr/local/lib/python3.7/dist-packages (from ipywidgets>=7.5.1->pandas-profiling==2.7.1) (0.2.0)\n",
      "Requirement already satisfied: nbformat>=4.2.0 in /usr/local/lib/python3.7/dist-packages (from ipywidgets>=7.5.1->pandas-profiling==2.7.1) (5.3.0)\n",
      "Requirement already satisfied: tornado>=4.0 in /usr/local/lib/python3.7/dist-packages (from ipykernel>=4.5.1->ipywidgets>=7.5.1->pandas-profiling==2.7.1) (6.1)\n",
      "Requirement already satisfied: jupyter-client in /usr/local/lib/python3.7/dist-packages (from ipykernel>=4.5.1->ipywidgets>=7.5.1->pandas-profiling==2.7.1) (7.2.2)\n",
      "Requirement already satisfied: pickleshare in /usr/local/lib/python3.7/dist-packages (from ipython>=4.0.0->ipywidgets>=7.5.1->pandas-profiling==2.7.1) (0.7.5)\n",
      "Requirement already satisfied: simplegeneric>0.8 in /usr/local/lib/python3.7/dist-packages (from ipython>=4.0.0->ipywidgets>=7.5.1->pandas-profiling==2.7.1) (0.8.1)\n",
      "Requirement already satisfied: decorator in /usr/local/lib/python3.7/dist-packages (from ipython>=4.0.0->ipywidgets>=7.5.1->pandas-profiling==2.7.1) (4.4.2)\n",
      "Requirement already satisfied: prompt-toolkit<2.0.0,>=1.0.4 in /usr/local/lib/python3.7/dist-packages (from ipython>=4.0.0->ipywidgets>=7.5.1->pandas-profiling==2.7.1) (1.0.18)\n",
      "Requirement already satisfied: pygments in /usr/local/lib/python3.7/dist-packages (from ipython>=4.0.0->ipywidgets>=7.5.1->pandas-profiling==2.7.1) (2.6.1)\n",
      "Requirement already satisfied: pexpect in /usr/local/lib/python3.7/dist-packages (from ipython>=4.0.0->ipywidgets>=7.5.1->pandas-profiling==2.7.1) (4.8.0)\n",
      "Requirement already satisfied: setuptools>=18.5 in /usr/local/lib/python3.7/dist-packages (from ipython>=4.0.0->ipywidgets>=7.5.1->pandas-profiling==2.7.1) (57.4.0)\n",
      "Requirement already satisfied: MarkupSafe>=0.23 in /usr/local/lib/python3.7/dist-packages (from jinja2>=2.11.1->pandas-profiling==2.7.1) (2.0.1)\n",
      "Requirement already satisfied: cycler>=0.10 in /usr/local/lib/python3.7/dist-packages (from matplotlib>=3.2.0->pandas-profiling==2.7.1) (0.11.0)\n",
      "Requirement already satisfied: python-dateutil>=2.1 in /usr/local/lib/python3.7/dist-packages (from matplotlib>=3.2.0->pandas-profiling==2.7.1) (2.8.2)\n",
      "Requirement already satisfied: pyparsing!=2.0.4,!=2.1.2,!=2.1.6,>=2.0.1 in /usr/local/lib/python3.7/dist-packages (from matplotlib>=3.2.0->pandas-profiling==2.7.1) (3.0.8)\n",
      "Requirement already satisfied: kiwisolver>=1.0.1 in /usr/local/lib/python3.7/dist-packages (from matplotlib>=3.2.0->pandas-profiling==2.7.1) (1.4.2)\n",
      "Requirement already satisfied: typing-extensions in /usr/local/lib/python3.7/dist-packages (from kiwisolver>=1.0.1->matplotlib>=3.2.0->pandas-profiling==2.7.1) (4.1.1)\n",
      "Requirement already satisfied: seaborn in /usr/local/lib/python3.7/dist-packages (from missingno>=0.4.2->pandas-profiling==2.7.1) (0.11.2)\n",
      "Requirement already satisfied: fastjsonschema in /usr/local/lib/python3.7/dist-packages (from nbformat>=4.2.0->ipywidgets>=7.5.1->pandas-profiling==2.7.1) (2.15.3)\n",
      "Requirement already satisfied: jupyter-core in /usr/local/lib/python3.7/dist-packages (from nbformat>=4.2.0->ipywidgets>=7.5.1->pandas-profiling==2.7.1) (4.9.2)\n",
      "Requirement already satisfied: jsonschema>=2.6 in /usr/local/lib/python3.7/dist-packages (from nbformat>=4.2.0->ipywidgets>=7.5.1->pandas-profiling==2.7.1) (4.3.3)\n",
      "Requirement already satisfied: pyrsistent!=0.17.0,!=0.17.1,!=0.17.2,>=0.14.0 in /usr/local/lib/python3.7/dist-packages (from jsonschema>=2.6->nbformat>=4.2.0->ipywidgets>=7.5.1->pandas-profiling==2.7.1) (0.18.1)\n",
      "Requirement already satisfied: importlib-resources>=1.4.0 in /usr/local/lib/python3.7/dist-packages (from jsonschema>=2.6->nbformat>=4.2.0->ipywidgets>=7.5.1->pandas-profiling==2.7.1) (5.6.0)\n",
      "Requirement already satisfied: zipp>=3.1.0 in /usr/local/lib/python3.7/dist-packages (from importlib-resources>=1.4.0->jsonschema>=2.6->nbformat>=4.2.0->ipywidgets>=7.5.1->pandas-profiling==2.7.1) (3.8.0)\n",
      "Requirement already satisfied: pytz>=2017.3 in /usr/local/lib/python3.7/dist-packages (from pandas!=1.0.0,!=1.0.1,!=1.0.2,>=0.25.3->pandas-profiling==2.7.1) (2018.9)\n",
      "Requirement already satisfied: wcwidth in /usr/local/lib/python3.7/dist-packages (from prompt-toolkit<2.0.0,>=1.0.4->ipython>=4.0.0->ipywidgets>=7.5.1->pandas-profiling==2.7.1) (0.2.5)\n",
      "Requirement already satisfied: six>=1.9.0 in /usr/local/lib/python3.7/dist-packages (from prompt-toolkit<2.0.0,>=1.0.4->ipython>=4.0.0->ipywidgets>=7.5.1->pandas-profiling==2.7.1) (1.15.0)\n",
      "Requirement already satisfied: charset-normalizer~=2.0.0 in /usr/local/lib/python3.7/dist-packages (from requests>=2.23.0->pandas-profiling==2.7.1) (2.0.12)\n",
      "Requirement already satisfied: idna<4,>=2.5 in /usr/local/lib/python3.7/dist-packages (from requests>=2.23.0->pandas-profiling==2.7.1) (2.10)\n",
      "Requirement already satisfied: urllib3<1.27,>=1.21.1 in /usr/local/lib/python3.7/dist-packages (from requests>=2.23.0->pandas-profiling==2.7.1) (1.24.3)\n",
      "Requirement already satisfied: certifi>=2017.4.17 in /usr/local/lib/python3.7/dist-packages (from requests>=2.23.0->pandas-profiling==2.7.1) (2021.10.8)\n",
      "Requirement already satisfied: notebook>=4.4.1 in /usr/local/lib/python3.7/dist-packages (from widgetsnbextension~=3.6.0->ipywidgets>=7.5.1->pandas-profiling==2.7.1) (5.3.1)\n",
      "Requirement already satisfied: nbconvert in /usr/local/lib/python3.7/dist-packages (from notebook>=4.4.1->widgetsnbextension~=3.6.0->ipywidgets>=7.5.1->pandas-profiling==2.7.1) (5.6.1)\n",
      "Requirement already satisfied: Send2Trash in /usr/local/lib/python3.7/dist-packages (from notebook>=4.4.1->widgetsnbextension~=3.6.0->ipywidgets>=7.5.1->pandas-profiling==2.7.1) (1.8.0)\n",
      "Requirement already satisfied: terminado>=0.8.1 in /usr/local/lib/python3.7/dist-packages (from notebook>=4.4.1->widgetsnbextension~=3.6.0->ipywidgets>=7.5.1->pandas-profiling==2.7.1) (0.13.3)\n",
      "Requirement already satisfied: nest-asyncio>=1.5.4 in /usr/local/lib/python3.7/dist-packages (from jupyter-client->ipykernel>=4.5.1->ipywidgets>=7.5.1->pandas-profiling==2.7.1) (1.5.5)\n",
      "Requirement already satisfied: pyzmq>=22.3 in /usr/local/lib/python3.7/dist-packages (from jupyter-client->ipykernel>=4.5.1->ipywidgets>=7.5.1->pandas-profiling==2.7.1) (22.3.0)\n",
      "Requirement already satisfied: entrypoints in /usr/local/lib/python3.7/dist-packages (from jupyter-client->ipykernel>=4.5.1->ipywidgets>=7.5.1->pandas-profiling==2.7.1) (0.4)\n",
      "Requirement already satisfied: ptyprocess in /usr/local/lib/python3.7/dist-packages (from terminado>=0.8.1->notebook>=4.4.1->widgetsnbextension~=3.6.0->ipywidgets>=7.5.1->pandas-profiling==2.7.1) (0.7.0)\n",
      "Requirement already satisfied: PyWavelets in /usr/local/lib/python3.7/dist-packages (from imagehash->visions[type_image_path]==0.4.1->pandas-profiling==2.7.1) (1.3.0)\n",
      "Requirement already satisfied: testpath in /usr/local/lib/python3.7/dist-packages (from nbconvert->notebook>=4.4.1->widgetsnbextension~=3.6.0->ipywidgets>=7.5.1->pandas-profiling==2.7.1) (0.6.0)\n",
      "Requirement already satisfied: mistune<2,>=0.8.1 in /usr/local/lib/python3.7/dist-packages (from nbconvert->notebook>=4.4.1->widgetsnbextension~=3.6.0->ipywidgets>=7.5.1->pandas-profiling==2.7.1) (0.8.4)\n",
      "Requirement already satisfied: defusedxml in /usr/local/lib/python3.7/dist-packages (from nbconvert->notebook>=4.4.1->widgetsnbextension~=3.6.0->ipywidgets>=7.5.1->pandas-profiling==2.7.1) (0.7.1)\n",
      "Requirement already satisfied: bleach in /usr/local/lib/python3.7/dist-packages (from nbconvert->notebook>=4.4.1->widgetsnbextension~=3.6.0->ipywidgets>=7.5.1->pandas-profiling==2.7.1) (5.0.0)\n",
      "Requirement already satisfied: pandocfilters>=1.4.1 in /usr/local/lib/python3.7/dist-packages (from nbconvert->notebook>=4.4.1->widgetsnbextension~=3.6.0->ipywidgets>=7.5.1->pandas-profiling==2.7.1) (1.5.0)\n",
      "Requirement already satisfied: webencodings in /usr/local/lib/python3.7/dist-packages (from bleach->nbconvert->notebook>=4.4.1->widgetsnbextension~=3.6.0->ipywidgets>=7.5.1->pandas-profiling==2.7.1) (0.5.1)\n",
      "Installing collected packages: visions, confuse, pandas-profiling\n",
      "  Attempting uninstall: visions\n",
      "    Found existing installation: visions 0.7.4\n",
      "    Uninstalling visions-0.7.4:\n",
      "      Successfully uninstalled visions-0.7.4\n",
      "  Attempting uninstall: pandas-profiling\n",
      "    Found existing installation: pandas-profiling 3.1.1\n",
      "    Uninstalling pandas-profiling-3.1.1:\n",
      "      Successfully uninstalled pandas-profiling-3.1.1\n",
      "Successfully installed confuse-1.7.0 pandas-profiling-2.7.1 visions-0.4.1\n"
     ]
    },
    {
     "data": {
      "application/vnd.colab-display-data+json": {
       "pip_warning": {
        "packages": [
         "pandas_profiling"
        ]
       }
      }
     },
     "metadata": {},
     "output_type": "display_data"
    }
   ],
   "source": [
    "!pip install pandas-profiling==2.7.1"
   ]
  },
  {
   "cell_type": "code",
   "execution_count": 292,
   "metadata": {
    "colab": {
     "base_uri": "https://localhost:8080/",
     "height": 1000
    },
    "id": "RJmGH254GR3g",
    "outputId": "0a736a02-d907-41c3-eb95-f57825f55a4d"
   },
   "outputs": [
    {
     "name": "stdout",
     "output_type": "stream",
     "text": [
      "Collecting https://github.com/pandas-profiling/pandas-profiling/archive/master.zip\n",
      "  Using cached https://github.com/pandas-profiling/pandas-profiling/archive/master.zip\n",
      "Requirement already satisfied: joblib~=1.1.0 in /usr/local/lib/python3.7/dist-packages (from pandas-profiling==3.1.1) (1.1.0)\n",
      "Requirement already satisfied: scipy>=1.4.1 in /usr/local/lib/python3.7/dist-packages (from pandas-profiling==3.1.1) (1.7.3)\n",
      "Requirement already satisfied: pandas!=1.0.0,!=1.0.1,!=1.0.2,!=1.1.0,>=0.25.3 in /usr/local/lib/python3.7/dist-packages (from pandas-profiling==3.1.1) (1.3.5)\n",
      "Requirement already satisfied: matplotlib>=3.2.0 in /usr/local/lib/python3.7/dist-packages (from pandas-profiling==3.1.1) (3.2.2)\n",
      "Requirement already satisfied: pydantic>=1.8.1 in /usr/local/lib/python3.7/dist-packages (from pandas-profiling==3.1.1) (1.9.0)\n",
      "Requirement already satisfied: PyYAML>=5.0.0 in /usr/local/lib/python3.7/dist-packages (from pandas-profiling==3.1.1) (6.0)\n",
      "Requirement already satisfied: jinja2>=2.11.1 in /usr/local/lib/python3.7/dist-packages (from pandas-profiling==3.1.1) (2.11.3)\n",
      "Requirement already satisfied: markupsafe~=2.0.1 in /usr/local/lib/python3.7/dist-packages (from pandas-profiling==3.1.1) (2.0.1)\n",
      "Collecting visions[type_image_path]==0.7.4\n",
      "  Using cached visions-0.7.4-py3-none-any.whl (102 kB)\n",
      "Requirement already satisfied: numpy>=1.16.0 in /usr/local/lib/python3.7/dist-packages (from pandas-profiling==3.1.1) (1.21.5)\n",
      "Requirement already satisfied: htmlmin>=0.1.12 in /usr/local/lib/python3.7/dist-packages (from pandas-profiling==3.1.1) (0.1.12)\n",
      "Requirement already satisfied: missingno>=0.4.2 in /usr/local/lib/python3.7/dist-packages (from pandas-profiling==3.1.1) (0.5.1)\n",
      "Requirement already satisfied: phik>=0.11.1 in /usr/local/lib/python3.7/dist-packages (from pandas-profiling==3.1.1) (0.12.2)\n",
      "Requirement already satisfied: tangled-up-in-unicode==0.2.0 in /usr/local/lib/python3.7/dist-packages (from pandas-profiling==3.1.1) (0.2.0)\n",
      "Requirement already satisfied: requests>=2.24.0 in /usr/local/lib/python3.7/dist-packages (from pandas-profiling==3.1.1) (2.27.1)\n",
      "Requirement already satisfied: tqdm>=4.48.2 in /usr/local/lib/python3.7/dist-packages (from pandas-profiling==3.1.1) (4.64.0)\n",
      "Requirement already satisfied: seaborn>=0.10.1 in /usr/local/lib/python3.7/dist-packages (from pandas-profiling==3.1.1) (0.11.2)\n",
      "Requirement already satisfied: multimethod>=1.4 in /usr/local/lib/python3.7/dist-packages (from pandas-profiling==3.1.1) (1.8)\n",
      "Requirement already satisfied: networkx>=2.4 in /usr/local/lib/python3.7/dist-packages (from visions[type_image_path]==0.7.4->pandas-profiling==3.1.1) (2.6.3)\n",
      "Requirement already satisfied: attrs>=19.3.0 in /usr/local/lib/python3.7/dist-packages (from visions[type_image_path]==0.7.4->pandas-profiling==3.1.1) (21.4.0)\n",
      "Requirement already satisfied: imagehash in /usr/local/lib/python3.7/dist-packages (from visions[type_image_path]==0.7.4->pandas-profiling==3.1.1) (4.2.1)\n",
      "Requirement already satisfied: Pillow in /usr/local/lib/python3.7/dist-packages (from visions[type_image_path]==0.7.4->pandas-profiling==3.1.1) (7.1.2)\n",
      "Requirement already satisfied: pyparsing!=2.0.4,!=2.1.2,!=2.1.6,>=2.0.1 in /usr/local/lib/python3.7/dist-packages (from matplotlib>=3.2.0->pandas-profiling==3.1.1) (3.0.8)\n",
      "Requirement already satisfied: cycler>=0.10 in /usr/local/lib/python3.7/dist-packages (from matplotlib>=3.2.0->pandas-profiling==3.1.1) (0.11.0)\n",
      "Requirement already satisfied: python-dateutil>=2.1 in /usr/local/lib/python3.7/dist-packages (from matplotlib>=3.2.0->pandas-profiling==3.1.1) (2.8.2)\n",
      "Requirement already satisfied: kiwisolver>=1.0.1 in /usr/local/lib/python3.7/dist-packages (from matplotlib>=3.2.0->pandas-profiling==3.1.1) (1.4.2)\n",
      "Requirement already satisfied: typing-extensions in /usr/local/lib/python3.7/dist-packages (from kiwisolver>=1.0.1->matplotlib>=3.2.0->pandas-profiling==3.1.1) (4.1.1)\n",
      "Requirement already satisfied: pytz>=2017.3 in /usr/local/lib/python3.7/dist-packages (from pandas!=1.0.0,!=1.0.1,!=1.0.2,!=1.1.0,>=0.25.3->pandas-profiling==3.1.1) (2018.9)\n",
      "Requirement already satisfied: six>=1.5 in /usr/local/lib/python3.7/dist-packages (from python-dateutil>=2.1->matplotlib>=3.2.0->pandas-profiling==3.1.1) (1.15.0)\n",
      "Requirement already satisfied: idna<4,>=2.5 in /usr/local/lib/python3.7/dist-packages (from requests>=2.24.0->pandas-profiling==3.1.1) (2.10)\n",
      "Requirement already satisfied: charset-normalizer~=2.0.0 in /usr/local/lib/python3.7/dist-packages (from requests>=2.24.0->pandas-profiling==3.1.1) (2.0.12)\n",
      "Requirement already satisfied: urllib3<1.27,>=1.21.1 in /usr/local/lib/python3.7/dist-packages (from requests>=2.24.0->pandas-profiling==3.1.1) (1.24.3)\n",
      "Requirement already satisfied: certifi>=2017.4.17 in /usr/local/lib/python3.7/dist-packages (from requests>=2.24.0->pandas-profiling==3.1.1) (2021.10.8)\n",
      "Requirement already satisfied: PyWavelets in /usr/local/lib/python3.7/dist-packages (from imagehash->visions[type_image_path]==0.7.4->pandas-profiling==3.1.1) (1.3.0)\n",
      "Building wheels for collected packages: pandas-profiling\n",
      "  Building wheel for pandas-profiling (setup.py) ... \u001b[?25l\u001b[?25hdone\n",
      "  Created wheel for pandas-profiling: filename=pandas_profiling-3.1.1-py2.py3-none-any.whl size=261287 sha256=8a6bdc522f0ebceda482c003bc17680cde87ee781aa42dfa875d58123254de87\n",
      "  Stored in directory: /tmp/pip-ephem-wheel-cache-rrf2c57q/wheels/cc/d5/09/083fb07c9363a2f45854b0e3a7de7d7c560f07da74b9e9769d\n",
      "Successfully built pandas-profiling\n",
      "Installing collected packages: visions, pandas-profiling\n",
      "  Attempting uninstall: visions\n",
      "    Found existing installation: visions 0.4.1\n",
      "    Uninstalling visions-0.4.1:\n",
      "      Successfully uninstalled visions-0.4.1\n",
      "  Attempting uninstall: pandas-profiling\n",
      "    Found existing installation: pandas-profiling 2.7.1\n",
      "    Uninstalling pandas-profiling-2.7.1:\n",
      "      Successfully uninstalled pandas-profiling-2.7.1\n",
      "Successfully installed pandas-profiling-3.1.1 visions-0.7.4\n"
     ]
    },
    {
     "data": {
      "application/vnd.colab-display-data+json": {
       "pip_warning": {
        "packages": [
         "pandas_profiling"
        ]
       }
      }
     },
     "metadata": {},
     "output_type": "display_data"
    }
   ],
   "source": [
    "! pip install https://github.com/pandas-profiling/pandas-profiling/archive/master.zip"
   ]
  },
  {
   "cell_type": "code",
   "execution_count": 297,
   "metadata": {
    "id": "qPwnR9PiGSwv"
   },
   "outputs": [],
   "source": [
    "import pandas as pd\n",
    "import numpy as np\n",
    "from pandas_profiling import ProfileReport\n",
    " \n",
    "#profile = ProfileReport(df)\n",
    "#profile.to_notebook_iframe()"
   ]
  },
  {
   "cell_type": "code",
   "execution_count": 298,
   "metadata": {
    "id": "nXbByrZZFoe0"
   },
   "outputs": [],
   "source": [
    "#profile = ProfileReport(df, title=\"Pandas Profiling Report\")\n",
    "\n"
   ]
  },
  {
   "cell_type": "code",
   "execution_count": 299,
   "metadata": {
    "id": "jZh-ZUzeRt-2"
   },
   "outputs": [],
   "source": [
    "#profile = ProfileReport(df, title=\"data\", html={'style' : {'full_width':True}})\n",
    "#profile.to_file(output_file=\"name of html file.html\") "
   ]
  },
  {
   "cell_type": "code",
   "execution_count": 285,
   "metadata": {
    "id": "TKi3iDPFOn7B"
   },
   "outputs": [],
   "source": [
    "from pandas_profiling import ProfileReport\n",
    "#from pandas_profiling.utils.cache import cache_file\n"
   ]
  },
  {
   "cell_type": "code",
   "execution_count": 260,
   "metadata": {
    "id": "rW_H5Lj5Q9e6"
   },
   "outputs": [],
   "source": [
    "import pandas as pd\n",
    "\n",
    "from pandas_profiling import ProfileReport\n",
    "\n",
    "# Generate the profile report\n",
    "#ieee_fraud_report = ProfileReport(df, minimal=True)"
   ]
  },
  {
   "cell_type": "code",
   "execution_count": 296,
   "metadata": {
    "id": "Kv8Te9BoPGfr"
   },
   "outputs": [],
   "source": [
    "#profile = ProfileReport(df,title= 'Employee Attrition Data Profiling', html = {'style' : {'full_width' : True}})"
   ]
  },
  {
   "cell_type": "code",
   "execution_count": 303,
   "metadata": {
    "colab": {
     "base_uri": "https://localhost:8080/",
     "height": 130
    },
    "id": "S50gS7eMQNGB",
    "outputId": "ed888066-59f2-40fb-c306-3a29d377299c"
   },
   "outputs": [
    {
     "ename": "SyntaxError",
     "evalue": "ignored",
     "output_type": "error",
     "traceback": [
      "\u001b[0;36m  File \u001b[0;32m\"<ipython-input-303-39d70079fe86>\"\u001b[0;36m, line \u001b[0;32m3\u001b[0m\n\u001b[0;31m    )report\u001b[0m\n\u001b[0m          ^\u001b[0m\n\u001b[0;31mSyntaxError\u001b[0m\u001b[0;31m:\u001b[0m invalid syntax\n"
     ]
    }
   ],
   "source": [
    "report = df.profile_report(\n",
    "   sort=None, html={\"style\": {\"full_width\": True}}, progress_bar=False\n",
    ")report"
   ]
  },
  {
   "cell_type": "code",
   "execution_count": null,
   "metadata": {
    "id": "Gp9xD_HTSTBJ"
   },
   "outputs": [],
   "source": [
    "#profile_report = df_merge_emp_data.profile_report(html={\"style\": {\"full_width\": True}})\n",
    "#profile_report.to_file(\"/data/example.html\")"
   ]
  },
  {
   "cell_type": "code",
   "execution_count": null,
   "metadata": {
    "id": "irQH-HqjTAKr"
   },
   "outputs": [],
   "source": [
    "#profile_report = df.profile_report(\n",
    "#    explorative=True, html={\"style\": {\"full_width\": True}}\n",
    "#)\n",
    "#profile_report"
   ]
  },
  {
   "cell_type": "code",
   "execution_count": null,
   "metadata": {
    "id": "CQJ-ENgiQc0E"
   },
   "outputs": [],
   "source": [
    "#"
   ]
  },
  {
   "cell_type": "markdown",
   "metadata": {
    "id": "NDjG7CN7UknH"
   },
   "source": [
    "<a id=section5></a>\n",
    "## 5. Exploratory Data Analysis"
   ]
  },
  {
   "cell_type": "markdown",
   "metadata": {
    "id": "9TzRCHCIWOxI"
   },
   "source": [
    "**Exploratory Data Analysis(EDA)** is an **approach to analyzing data sets** to **summarize** their **main characteristics**, often with **visual methods**. \n",
    "\n",
    "\n",
    "- It includes **cleaning, munging, combining, reshaping, slicing, dicing, and transforming data** for **analysis** purpose.\n",
    "\n",
    "\n",
    "- The **primary goal of EDA** is to **maximize the analyst's insight into a data set** and into the **underlying structure of a data set**, while **providing all of the specific items** that an **analyst would want to extract from a data set**, such as:\n",
    " <br><br> \n",
    "  - A list of **outliers**.<br><br>\n",
    "  \n",
    "  - A **good-fitting model**.  <br><br>\n",
    "  \n",
    "  - **Estimates for parameters**.<br><br>\n",
    "  \n",
    "  - **Uncertainties** for those **estimates**.<br><br>\n",
    "  \n",
    "  - A **ranked list** of **important factors**.<br><br>\n",
    "  \n",
    "  - **Conclusions** as to whether **individual factors are statistically significant**.<br><br>\n",
    "  \n",
    "  - A **sense of robustness of conclusions**.<br><br>\n",
    "  \n",
    "  - **Optimal settings**.<br><br>"
   ]
  },
  {
   "cell_type": "markdown",
   "metadata": {
    "id": "IP_h2QYkWWE9"
   },
   "source": [
    "**As per guidelines we need to work with permenent employees only. So, all the employees related to department D00-TP (which is temp), can be ignored.**\n",
    "\n",
    "- We can remove the data related to this department."
   ]
  },
  {
   "cell_type": "code",
   "execution_count": null,
   "metadata": {
    "colab": {
     "base_uri": "https://localhost:8080/"
    },
    "id": "lMWSW1pvSdF-",
    "outputId": "a0d2043a-94e6-41f6-bd74-c954ce5c1a3e"
   },
   "outputs": [
    {
     "data": {
      "text/plain": [
       "(14145, 16)"
      ]
     },
     "execution_count": 79,
     "metadata": {},
     "output_type": "execute_result"
    }
   ],
   "source": [
    "df.shape"
   ]
  },
  {
   "cell_type": "code",
   "execution_count": null,
   "metadata": {
    "colab": {
     "base_uri": "https://localhost:8080/",
     "height": 488
    },
    "id": "ifa9ncUIbLfo",
    "outputId": "b07f4c3a-f4e0-4a16-82fd-d892768f58b6"
   },
   "outputs": [
    {
     "data": {
      "text/html": [
       "\n",
       "  <div id=\"df-a4a8c89b-7761-4bfa-be8a-5e9683308171\">\n",
       "    <div class=\"colab-df-container\">\n",
       "      <div>\n",
       "<style scoped>\n",
       "    .dataframe tbody tr th:only-of-type {\n",
       "        vertical-align: middle;\n",
       "    }\n",
       "\n",
       "    .dataframe tbody tr th {\n",
       "        vertical-align: top;\n",
       "    }\n",
       "\n",
       "    .dataframe thead th {\n",
       "        text-align: right;\n",
       "    }\n",
       "</style>\n",
       "<table border=\"1\" class=\"dataframe\">\n",
       "  <thead>\n",
       "    <tr style=\"text-align: right;\">\n",
       "      <th></th>\n",
       "      <th>employee_id</th>\n",
       "      <th>age</th>\n",
       "      <th>gender</th>\n",
       "      <th>marital_status</th>\n",
       "      <th>department</th>\n",
       "      <th>salary</th>\n",
       "      <th>tenure</th>\n",
       "      <th>recently_promoted</th>\n",
       "      <th>n_projects</th>\n",
       "      <th>avg_monthly_hrs</th>\n",
       "      <th>satisfaction</th>\n",
       "      <th>last_evaluation</th>\n",
       "      <th>filed_complaint</th>\n",
       "      <th>dept_id</th>\n",
       "      <th>dept_name</th>\n",
       "      <th>dept_head</th>\n",
       "    </tr>\n",
       "  </thead>\n",
       "  <tbody>\n",
       "    <tr>\n",
       "      <th>0</th>\n",
       "      <td>113558</td>\n",
       "      <td>43</td>\n",
       "      <td>Male</td>\n",
       "      <td>Married</td>\n",
       "      <td>D00-PR</td>\n",
       "      <td>medium</td>\n",
       "      <td>4</td>\n",
       "      <td>1.0</td>\n",
       "      <td>NaN</td>\n",
       "      <td>111</td>\n",
       "      <td>0.921208</td>\n",
       "      <td>0.753977</td>\n",
       "      <td>NaN</td>\n",
       "      <td>D00-PR</td>\n",
       "      <td>Procurement</td>\n",
       "      <td>Louie Viles</td>\n",
       "    </tr>\n",
       "    <tr>\n",
       "      <th>1</th>\n",
       "      <td>108071</td>\n",
       "      <td>36</td>\n",
       "      <td>Male</td>\n",
       "      <td>Married</td>\n",
       "      <td>D00-PR</td>\n",
       "      <td>medium</td>\n",
       "      <td>6</td>\n",
       "      <td>NaN</td>\n",
       "      <td>NaN</td>\n",
       "      <td>151</td>\n",
       "      <td>0.210300</td>\n",
       "      <td>0.608282</td>\n",
       "      <td>NaN</td>\n",
       "      <td>D00-PR</td>\n",
       "      <td>Procurement</td>\n",
       "      <td>Louie Viles</td>\n",
       "    </tr>\n",
       "    <tr>\n",
       "      <th>2</th>\n",
       "      <td>110888</td>\n",
       "      <td>42</td>\n",
       "      <td>Male</td>\n",
       "      <td>Married</td>\n",
       "      <td>D00-PR</td>\n",
       "      <td>medium</td>\n",
       "      <td>3</td>\n",
       "      <td>NaN</td>\n",
       "      <td>NaN</td>\n",
       "      <td>152</td>\n",
       "      <td>0.720369</td>\n",
       "      <td>0.673508</td>\n",
       "      <td>NaN</td>\n",
       "      <td>D00-PR</td>\n",
       "      <td>Procurement</td>\n",
       "      <td>Louie Viles</td>\n",
       "    </tr>\n",
       "    <tr>\n",
       "      <th>3</th>\n",
       "      <td>115694</td>\n",
       "      <td>26</td>\n",
       "      <td>Male</td>\n",
       "      <td>Unmarried</td>\n",
       "      <td>D00-PR</td>\n",
       "      <td>medium</td>\n",
       "      <td>4</td>\n",
       "      <td>NaN</td>\n",
       "      <td>NaN</td>\n",
       "      <td>167</td>\n",
       "      <td>0.575996</td>\n",
       "      <td>0.874656</td>\n",
       "      <td>NaN</td>\n",
       "      <td>D00-PR</td>\n",
       "      <td>Procurement</td>\n",
       "      <td>Louie Viles</td>\n",
       "    </tr>\n",
       "    <tr>\n",
       "      <th>4</th>\n",
       "      <td>107767</td>\n",
       "      <td>43</td>\n",
       "      <td>Male</td>\n",
       "      <td>Married</td>\n",
       "      <td>D00-PR</td>\n",
       "      <td>medium</td>\n",
       "      <td>5</td>\n",
       "      <td>NaN</td>\n",
       "      <td>NaN</td>\n",
       "      <td>174</td>\n",
       "      <td>0.208138</td>\n",
       "      <td>0.634783</td>\n",
       "      <td>1.0</td>\n",
       "      <td>D00-PR</td>\n",
       "      <td>Procurement</td>\n",
       "      <td>Louie Viles</td>\n",
       "    </tr>\n",
       "    <tr>\n",
       "      <th>...</th>\n",
       "      <td>...</td>\n",
       "      <td>...</td>\n",
       "      <td>...</td>\n",
       "      <td>...</td>\n",
       "      <td>...</td>\n",
       "      <td>...</td>\n",
       "      <td>...</td>\n",
       "      <td>...</td>\n",
       "      <td>...</td>\n",
       "      <td>...</td>\n",
       "      <td>...</td>\n",
       "      <td>...</td>\n",
       "      <td>...</td>\n",
       "      <td>...</td>\n",
       "      <td>...</td>\n",
       "      <td>...</td>\n",
       "    </tr>\n",
       "    <tr>\n",
       "      <th>14140</th>\n",
       "      <td>128142</td>\n",
       "      <td>22</td>\n",
       "      <td>Female</td>\n",
       "      <td>Unmarried</td>\n",
       "      <td>D00-FN</td>\n",
       "      <td>medium</td>\n",
       "      <td>3</td>\n",
       "      <td>NaN</td>\n",
       "      <td>NaN</td>\n",
       "      <td>153</td>\n",
       "      <td>0.423452</td>\n",
       "      <td>0.510412</td>\n",
       "      <td>NaN</td>\n",
       "      <td>D00-FN</td>\n",
       "      <td>Finance</td>\n",
       "      <td>Aanchal J</td>\n",
       "    </tr>\n",
       "    <tr>\n",
       "      <th>14141</th>\n",
       "      <td>112268</td>\n",
       "      <td>29</td>\n",
       "      <td>Male</td>\n",
       "      <td>Unmarried</td>\n",
       "      <td>D00-FN</td>\n",
       "      <td>high</td>\n",
       "      <td>2</td>\n",
       "      <td>NaN</td>\n",
       "      <td>NaN</td>\n",
       "      <td>235</td>\n",
       "      <td>0.928861</td>\n",
       "      <td>0.735850</td>\n",
       "      <td>1.0</td>\n",
       "      <td>D00-FN</td>\n",
       "      <td>Finance</td>\n",
       "      <td>Aanchal J</td>\n",
       "    </tr>\n",
       "    <tr>\n",
       "      <th>14142</th>\n",
       "      <td>112048</td>\n",
       "      <td>54</td>\n",
       "      <td>Male</td>\n",
       "      <td>Married</td>\n",
       "      <td>D00-FN</td>\n",
       "      <td>medium</td>\n",
       "      <td>5</td>\n",
       "      <td>NaN</td>\n",
       "      <td>NaN</td>\n",
       "      <td>117</td>\n",
       "      <td>0.145967</td>\n",
       "      <td>0.766361</td>\n",
       "      <td>NaN</td>\n",
       "      <td>D00-FN</td>\n",
       "      <td>Finance</td>\n",
       "      <td>Aanchal J</td>\n",
       "    </tr>\n",
       "    <tr>\n",
       "      <th>14143</th>\n",
       "      <td>112337</td>\n",
       "      <td>52</td>\n",
       "      <td>Male</td>\n",
       "      <td>Married</td>\n",
       "      <td>D00-FN</td>\n",
       "      <td>low</td>\n",
       "      <td>3</td>\n",
       "      <td>NaN</td>\n",
       "      <td>NaN</td>\n",
       "      <td>193</td>\n",
       "      <td>0.695128</td>\n",
       "      <td>0.990808</td>\n",
       "      <td>NaN</td>\n",
       "      <td>D00-FN</td>\n",
       "      <td>Finance</td>\n",
       "      <td>Aanchal J</td>\n",
       "    </tr>\n",
       "    <tr>\n",
       "      <th>14144</th>\n",
       "      <td>114102</td>\n",
       "      <td>34</td>\n",
       "      <td>Male</td>\n",
       "      <td>Married</td>\n",
       "      <td>D00-FN</td>\n",
       "      <td>low</td>\n",
       "      <td>6</td>\n",
       "      <td>NaN</td>\n",
       "      <td>NaN</td>\n",
       "      <td>255</td>\n",
       "      <td>0.105267</td>\n",
       "      <td>0.723297</td>\n",
       "      <td>NaN</td>\n",
       "      <td>D00-FN</td>\n",
       "      <td>Finance</td>\n",
       "      <td>Aanchal J</td>\n",
       "    </tr>\n",
       "  </tbody>\n",
       "</table>\n",
       "<p>13995 rows × 16 columns</p>\n",
       "</div>\n",
       "      <button class=\"colab-df-convert\" onclick=\"convertToInteractive('df-a4a8c89b-7761-4bfa-be8a-5e9683308171')\"\n",
       "              title=\"Convert this dataframe to an interactive table.\"\n",
       "              style=\"display:none;\">\n",
       "        \n",
       "  <svg xmlns=\"http://www.w3.org/2000/svg\" height=\"24px\"viewBox=\"0 0 24 24\"\n",
       "       width=\"24px\">\n",
       "    <path d=\"M0 0h24v24H0V0z\" fill=\"none\"/>\n",
       "    <path d=\"M18.56 5.44l.94 2.06.94-2.06 2.06-.94-2.06-.94-.94-2.06-.94 2.06-2.06.94zm-11 1L8.5 8.5l.94-2.06 2.06-.94-2.06-.94L8.5 2.5l-.94 2.06-2.06.94zm10 10l.94 2.06.94-2.06 2.06-.94-2.06-.94-.94-2.06-.94 2.06-2.06.94z\"/><path d=\"M17.41 7.96l-1.37-1.37c-.4-.4-.92-.59-1.43-.59-.52 0-1.04.2-1.43.59L10.3 9.45l-7.72 7.72c-.78.78-.78 2.05 0 2.83L4 21.41c.39.39.9.59 1.41.59.51 0 1.02-.2 1.41-.59l7.78-7.78 2.81-2.81c.8-.78.8-2.07 0-2.86zM5.41 20L4 18.59l7.72-7.72 1.47 1.35L5.41 20z\"/>\n",
       "  </svg>\n",
       "      </button>\n",
       "      \n",
       "  <style>\n",
       "    .colab-df-container {\n",
       "      display:flex;\n",
       "      flex-wrap:wrap;\n",
       "      gap: 12px;\n",
       "    }\n",
       "\n",
       "    .colab-df-convert {\n",
       "      background-color: #E8F0FE;\n",
       "      border: none;\n",
       "      border-radius: 50%;\n",
       "      cursor: pointer;\n",
       "      display: none;\n",
       "      fill: #1967D2;\n",
       "      height: 32px;\n",
       "      padding: 0 0 0 0;\n",
       "      width: 32px;\n",
       "    }\n",
       "\n",
       "    .colab-df-convert:hover {\n",
       "      background-color: #E2EBFA;\n",
       "      box-shadow: 0px 1px 2px rgba(60, 64, 67, 0.3), 0px 1px 3px 1px rgba(60, 64, 67, 0.15);\n",
       "      fill: #174EA6;\n",
       "    }\n",
       "\n",
       "    [theme=dark] .colab-df-convert {\n",
       "      background-color: #3B4455;\n",
       "      fill: #D2E3FC;\n",
       "    }\n",
       "\n",
       "    [theme=dark] .colab-df-convert:hover {\n",
       "      background-color: #434B5C;\n",
       "      box-shadow: 0px 1px 3px 1px rgba(0, 0, 0, 0.15);\n",
       "      filter: drop-shadow(0px 1px 2px rgba(0, 0, 0, 0.3));\n",
       "      fill: #FFFFFF;\n",
       "    }\n",
       "  </style>\n",
       "\n",
       "      <script>\n",
       "        const buttonEl =\n",
       "          document.querySelector('#df-a4a8c89b-7761-4bfa-be8a-5e9683308171 button.colab-df-convert');\n",
       "        buttonEl.style.display =\n",
       "          google.colab.kernel.accessAllowed ? 'block' : 'none';\n",
       "\n",
       "        async function convertToInteractive(key) {\n",
       "          const element = document.querySelector('#df-a4a8c89b-7761-4bfa-be8a-5e9683308171');\n",
       "          const dataTable =\n",
       "            await google.colab.kernel.invokeFunction('convertToInteractive',\n",
       "                                                     [key], {});\n",
       "          if (!dataTable) return;\n",
       "\n",
       "          const docLinkHtml = 'Like what you see? Visit the ' +\n",
       "            '<a target=\"_blank\" href=https://colab.research.google.com/notebooks/data_table.ipynb>data table notebook</a>'\n",
       "            + ' to learn more about interactive tables.';\n",
       "          element.innerHTML = '';\n",
       "          dataTable['output_type'] = 'display_data';\n",
       "          await google.colab.output.renderOutput(dataTable, element);\n",
       "          const docLink = document.createElement('div');\n",
       "          docLink.innerHTML = docLinkHtml;\n",
       "          element.appendChild(docLink);\n",
       "        }\n",
       "      </script>\n",
       "    </div>\n",
       "  </div>\n",
       "  "
      ],
      "text/plain": [
       "       employee_id  age  gender marital_status department  salary  tenure  \\\n",
       "0           113558   43    Male        Married     D00-PR  medium       4   \n",
       "1           108071   36    Male        Married     D00-PR  medium       6   \n",
       "2           110888   42    Male        Married     D00-PR  medium       3   \n",
       "3           115694   26    Male      Unmarried     D00-PR  medium       4   \n",
       "4           107767   43    Male        Married     D00-PR  medium       5   \n",
       "...            ...  ...     ...            ...        ...     ...     ...   \n",
       "14140       128142   22  Female      Unmarried     D00-FN  medium       3   \n",
       "14141       112268   29    Male      Unmarried     D00-FN    high       2   \n",
       "14142       112048   54    Male        Married     D00-FN  medium       5   \n",
       "14143       112337   52    Male        Married     D00-FN     low       3   \n",
       "14144       114102   34    Male        Married     D00-FN     low       6   \n",
       "\n",
       "       recently_promoted  n_projects   avg_monthly_hrs  satisfaction  \\\n",
       "0                    1.0          NaN              111      0.921208   \n",
       "1                    NaN          NaN              151      0.210300   \n",
       "2                    NaN          NaN              152      0.720369   \n",
       "3                    NaN          NaN              167      0.575996   \n",
       "4                    NaN          NaN              174      0.208138   \n",
       "...                  ...          ...              ...           ...   \n",
       "14140                NaN          NaN              153      0.423452   \n",
       "14141                NaN          NaN              235      0.928861   \n",
       "14142                NaN          NaN              117      0.145967   \n",
       "14143                NaN          NaN              193      0.695128   \n",
       "14144                NaN          NaN              255      0.105267   \n",
       "\n",
       "       last_evaluation  filed_complaint dept_id    dept_name    dept_head  \n",
       "0             0.753977              NaN  D00-PR  Procurement  Louie Viles  \n",
       "1             0.608282              NaN  D00-PR  Procurement  Louie Viles  \n",
       "2             0.673508              NaN  D00-PR  Procurement  Louie Viles  \n",
       "3             0.874656              NaN  D00-PR  Procurement  Louie Viles  \n",
       "4             0.634783              1.0  D00-PR  Procurement  Louie Viles  \n",
       "...                ...              ...     ...          ...          ...  \n",
       "14140         0.510412              NaN  D00-FN      Finance    Aanchal J  \n",
       "14141         0.735850              1.0  D00-FN      Finance    Aanchal J  \n",
       "14142         0.766361              NaN  D00-FN      Finance    Aanchal J  \n",
       "14143         0.990808              NaN  D00-FN      Finance    Aanchal J  \n",
       "14144         0.723297              NaN  D00-FN      Finance    Aanchal J  \n",
       "\n",
       "[13995 rows x 16 columns]"
      ]
     },
     "execution_count": 80,
     "metadata": {},
     "output_type": "execute_result"
    }
   ],
   "source": [
    "df[df.department != \"D00-TP\"]"
   ]
  },
  {
   "cell_type": "code",
   "execution_count": null,
   "metadata": {
    "colab": {
     "base_uri": "https://localhost:8080/"
    },
    "id": "N0pNveDQb4sF",
    "outputId": "aaf6616c-e8fa-4526-f6a0-f5b325481136"
   },
   "outputs": [
    {
     "data": {
      "text/plain": [
       "(14145, 16)"
      ]
     },
     "execution_count": 81,
     "metadata": {},
     "output_type": "execute_result"
    }
   ],
   "source": [
    "df.shape"
   ]
  },
  {
   "cell_type": "code",
   "execution_count": null,
   "metadata": {
    "colab": {
     "base_uri": "https://localhost:8080/"
    },
    "id": "cP-rytmjdW28",
    "outputId": "ce0d6920-740a-461c-da57-44ddd67aa198"
   },
   "outputs": [
    {
     "data": {
      "text/plain": [
       "employee_id          150\n",
       "age                  150\n",
       "gender               150\n",
       "marital_status       150\n",
       "department           150\n",
       "salary               150\n",
       "tenure               150\n",
       "recently_promoted      0\n",
       "n_projects             0\n",
       "avg_monthly_hrs      150\n",
       "satisfaction           0\n",
       "last_evaluation        0\n",
       "filed_complaint       29\n",
       "dept_id              150\n",
       "dept_name            150\n",
       "dept_head            150\n",
       "dtype: int64"
      ]
     },
     "execution_count": 82,
     "metadata": {},
     "output_type": "execute_result"
    }
   ],
   "source": [
    "df[df.department == 'D00-TP'].count()"
   ]
  },
  {
   "cell_type": "code",
   "execution_count": null,
   "metadata": {
    "id": "mPnD3tIVd5Tv"
   },
   "outputs": [],
   "source": [
    "df=df [df.department !='D00-TP']"
   ]
  },
  {
   "cell_type": "code",
   "execution_count": null,
   "metadata": {
    "colab": {
     "base_uri": "https://localhost:8080/"
    },
    "id": "esq0wJCPc2Xn",
    "outputId": "5b63a822-6c0a-4620-8784-c75aaca3fef3"
   },
   "outputs": [
    {
     "data": {
      "text/plain": [
       "(13995, 16)"
      ]
     },
     "execution_count": 84,
     "metadata": {},
     "output_type": "execute_result"
    }
   ],
   "source": [
    "df.shape"
   ]
  },
  {
   "cell_type": "code",
   "execution_count": null,
   "metadata": {
    "colab": {
     "base_uri": "https://localhost:8080/",
     "height": 176
    },
    "id": "RirRB4V5f0fS",
    "outputId": "472ab011-1d6a-4681-91dd-e8845e474926"
   },
   "outputs": [
    {
     "data": {
      "text/html": [
       "\n",
       "  <div id=\"df-56b3222f-ef4b-4dbf-93d0-03db7825d3ba\">\n",
       "    <div class=\"colab-df-container\">\n",
       "      <div>\n",
       "<style scoped>\n",
       "    .dataframe tbody tr th:only-of-type {\n",
       "        vertical-align: middle;\n",
       "    }\n",
       "\n",
       "    .dataframe tbody tr th {\n",
       "        vertical-align: top;\n",
       "    }\n",
       "\n",
       "    .dataframe thead th {\n",
       "        text-align: right;\n",
       "    }\n",
       "</style>\n",
       "<table border=\"1\" class=\"dataframe\">\n",
       "  <thead>\n",
       "    <tr style=\"text-align: right;\">\n",
       "      <th></th>\n",
       "      <th>employee_id</th>\n",
       "      <th>age</th>\n",
       "      <th>gender</th>\n",
       "      <th>marital_status</th>\n",
       "      <th>department</th>\n",
       "      <th>salary</th>\n",
       "      <th>tenure</th>\n",
       "      <th>recently_promoted</th>\n",
       "      <th>n_projects</th>\n",
       "      <th>avg_monthly_hrs</th>\n",
       "      <th>satisfaction</th>\n",
       "      <th>last_evaluation</th>\n",
       "      <th>filed_complaint</th>\n",
       "      <th>dept_id</th>\n",
       "      <th>dept_name</th>\n",
       "      <th>dept_head</th>\n",
       "    </tr>\n",
       "  </thead>\n",
       "  <tbody>\n",
       "    <tr>\n",
       "      <th>0</th>\n",
       "      <td>113558</td>\n",
       "      <td>43</td>\n",
       "      <td>Male</td>\n",
       "      <td>Married</td>\n",
       "      <td>D00-PR</td>\n",
       "      <td>medium</td>\n",
       "      <td>4</td>\n",
       "      <td>1.0</td>\n",
       "      <td>NaN</td>\n",
       "      <td>111</td>\n",
       "      <td>0.921208</td>\n",
       "      <td>0.753977</td>\n",
       "      <td>NaN</td>\n",
       "      <td>D00-PR</td>\n",
       "      <td>Procurement</td>\n",
       "      <td>Louie Viles</td>\n",
       "    </tr>\n",
       "    <tr>\n",
       "      <th>1</th>\n",
       "      <td>108071</td>\n",
       "      <td>36</td>\n",
       "      <td>Male</td>\n",
       "      <td>Married</td>\n",
       "      <td>D00-PR</td>\n",
       "      <td>medium</td>\n",
       "      <td>6</td>\n",
       "      <td>NaN</td>\n",
       "      <td>NaN</td>\n",
       "      <td>151</td>\n",
       "      <td>0.210300</td>\n",
       "      <td>0.608282</td>\n",
       "      <td>NaN</td>\n",
       "      <td>D00-PR</td>\n",
       "      <td>Procurement</td>\n",
       "      <td>Louie Viles</td>\n",
       "    </tr>\n",
       "  </tbody>\n",
       "</table>\n",
       "</div>\n",
       "      <button class=\"colab-df-convert\" onclick=\"convertToInteractive('df-56b3222f-ef4b-4dbf-93d0-03db7825d3ba')\"\n",
       "              title=\"Convert this dataframe to an interactive table.\"\n",
       "              style=\"display:none;\">\n",
       "        \n",
       "  <svg xmlns=\"http://www.w3.org/2000/svg\" height=\"24px\"viewBox=\"0 0 24 24\"\n",
       "       width=\"24px\">\n",
       "    <path d=\"M0 0h24v24H0V0z\" fill=\"none\"/>\n",
       "    <path d=\"M18.56 5.44l.94 2.06.94-2.06 2.06-.94-2.06-.94-.94-2.06-.94 2.06-2.06.94zm-11 1L8.5 8.5l.94-2.06 2.06-.94-2.06-.94L8.5 2.5l-.94 2.06-2.06.94zm10 10l.94 2.06.94-2.06 2.06-.94-2.06-.94-.94-2.06-.94 2.06-2.06.94z\"/><path d=\"M17.41 7.96l-1.37-1.37c-.4-.4-.92-.59-1.43-.59-.52 0-1.04.2-1.43.59L10.3 9.45l-7.72 7.72c-.78.78-.78 2.05 0 2.83L4 21.41c.39.39.9.59 1.41.59.51 0 1.02-.2 1.41-.59l7.78-7.78 2.81-2.81c.8-.78.8-2.07 0-2.86zM5.41 20L4 18.59l7.72-7.72 1.47 1.35L5.41 20z\"/>\n",
       "  </svg>\n",
       "      </button>\n",
       "      \n",
       "  <style>\n",
       "    .colab-df-container {\n",
       "      display:flex;\n",
       "      flex-wrap:wrap;\n",
       "      gap: 12px;\n",
       "    }\n",
       "\n",
       "    .colab-df-convert {\n",
       "      background-color: #E8F0FE;\n",
       "      border: none;\n",
       "      border-radius: 50%;\n",
       "      cursor: pointer;\n",
       "      display: none;\n",
       "      fill: #1967D2;\n",
       "      height: 32px;\n",
       "      padding: 0 0 0 0;\n",
       "      width: 32px;\n",
       "    }\n",
       "\n",
       "    .colab-df-convert:hover {\n",
       "      background-color: #E2EBFA;\n",
       "      box-shadow: 0px 1px 2px rgba(60, 64, 67, 0.3), 0px 1px 3px 1px rgba(60, 64, 67, 0.15);\n",
       "      fill: #174EA6;\n",
       "    }\n",
       "\n",
       "    [theme=dark] .colab-df-convert {\n",
       "      background-color: #3B4455;\n",
       "      fill: #D2E3FC;\n",
       "    }\n",
       "\n",
       "    [theme=dark] .colab-df-convert:hover {\n",
       "      background-color: #434B5C;\n",
       "      box-shadow: 0px 1px 3px 1px rgba(0, 0, 0, 0.15);\n",
       "      filter: drop-shadow(0px 1px 2px rgba(0, 0, 0, 0.3));\n",
       "      fill: #FFFFFF;\n",
       "    }\n",
       "  </style>\n",
       "\n",
       "      <script>\n",
       "        const buttonEl =\n",
       "          document.querySelector('#df-56b3222f-ef4b-4dbf-93d0-03db7825d3ba button.colab-df-convert');\n",
       "        buttonEl.style.display =\n",
       "          google.colab.kernel.accessAllowed ? 'block' : 'none';\n",
       "\n",
       "        async function convertToInteractive(key) {\n",
       "          const element = document.querySelector('#df-56b3222f-ef4b-4dbf-93d0-03db7825d3ba');\n",
       "          const dataTable =\n",
       "            await google.colab.kernel.invokeFunction('convertToInteractive',\n",
       "                                                     [key], {});\n",
       "          if (!dataTable) return;\n",
       "\n",
       "          const docLinkHtml = 'Like what you see? Visit the ' +\n",
       "            '<a target=\"_blank\" href=https://colab.research.google.com/notebooks/data_table.ipynb>data table notebook</a>'\n",
       "            + ' to learn more about interactive tables.';\n",
       "          element.innerHTML = '';\n",
       "          dataTable['output_type'] = 'display_data';\n",
       "          await google.colab.output.renderOutput(dataTable, element);\n",
       "          const docLink = document.createElement('div');\n",
       "          docLink.innerHTML = docLinkHtml;\n",
       "          element.appendChild(docLink);\n",
       "        }\n",
       "      </script>\n",
       "    </div>\n",
       "  </div>\n",
       "  "
      ],
      "text/plain": [
       "   employee_id  age gender marital_status department  salary  tenure  \\\n",
       "0       113558   43   Male        Married     D00-PR  medium       4   \n",
       "1       108071   36   Male        Married     D00-PR  medium       6   \n",
       "\n",
       "   recently_promoted  n_projects   avg_monthly_hrs  satisfaction  \\\n",
       "0                1.0          NaN              111      0.921208   \n",
       "1                NaN          NaN              151      0.210300   \n",
       "\n",
       "   last_evaluation  filed_complaint dept_id    dept_name    dept_head  \n",
       "0         0.753977              NaN  D00-PR  Procurement  Louie Viles  \n",
       "1         0.608282              NaN  D00-PR  Procurement  Louie Viles  "
      ]
     },
     "execution_count": 85,
     "metadata": {},
     "output_type": "execute_result"
    }
   ],
   "source": [
    "df.head(2)"
   ]
  },
  {
   "cell_type": "code",
   "execution_count": null,
   "metadata": {
    "colab": {
     "base_uri": "https://localhost:8080/"
    },
    "id": "hyAkxhhfcOBj",
    "outputId": "8db8c3e7-2613-4f50-9740-4be97b1e6174"
   },
   "outputs": [
    {
     "data": {
      "text/plain": [
       "employee_id          0\n",
       "age                  0\n",
       "gender               0\n",
       "marital_status       0\n",
       "department           0\n",
       "salary               0\n",
       "tenure               0\n",
       "recently_promoted    0\n",
       "n_projects           0\n",
       "avg_monthly_hrs      0\n",
       "satisfaction         0\n",
       "last_evaluation      0\n",
       "filed_complaint      0\n",
       "dept_id              0\n",
       "dept_name            0\n",
       "dept_head            0\n",
       "dtype: int64"
      ]
     },
     "execution_count": 90,
     "metadata": {},
     "output_type": "execute_result"
    }
   ],
   "source": [
    "df[df.dept_id == 'D00-TP'].count()"
   ]
  },
  {
   "cell_type": "code",
   "execution_count": null,
   "metadata": {
    "colab": {
     "base_uri": "https://localhost:8080/"
    },
    "id": "uQUy-7tKgWme",
    "outputId": "2f080f27-b6fb-488d-f0bc-b44e733e4e9f"
   },
   "outputs": [
    {
     "data": {
      "text/plain": [
       "employee_id          0\n",
       "age                  0\n",
       "gender               0\n",
       "marital_status       0\n",
       "department           0\n",
       "salary               0\n",
       "tenure               0\n",
       "recently_promoted    0\n",
       "n_projects           0\n",
       "avg_monthly_hrs      0\n",
       "satisfaction         0\n",
       "last_evaluation      0\n",
       "filed_complaint      0\n",
       "dept_id              0\n",
       "dept_name            0\n",
       "dept_head            0\n",
       "dtype: int64"
      ]
     },
     "execution_count": 91,
     "metadata": {},
     "output_type": "execute_result"
    }
   ],
   "source": [
    "df[df.department == 'D00-TP'].count()"
   ]
  },
  {
   "cell_type": "code",
   "execution_count": null,
   "metadata": {
    "colab": {
     "base_uri": "https://localhost:8080/"
    },
    "id": "vR3Ahbyiju0B",
    "outputId": "585dbf7a-277d-429e-fbff-5f9364007bd5"
   },
   "outputs": [
    {
     "data": {
      "text/plain": [
       "department\n",
       "D00-AD      175\n",
       "D00-ENG    2573\n",
       "D00-FN      725\n",
       "D00-IT     1157\n",
       "D00-MN      593\n",
       "D00-MT      815\n",
       "D00-PD      855\n",
       "D00-PR      173\n",
       "D00-SP     2112\n",
       "D00-SS     3904\n",
       "dtype: int64"
      ]
     },
     "execution_count": 94,
     "metadata": {},
     "output_type": "execute_result"
    }
   ],
   "source": [
    "df.groupby(['department']).size()"
   ]
  },
  {
   "cell_type": "code",
   "execution_count": null,
   "metadata": {
    "colab": {
     "base_uri": "https://localhost:8080/"
    },
    "id": "EniJ4Jg7j0YB",
    "outputId": "7705e3e8-514e-4ac4-b6b6-c40a7f9e9d8f"
   },
   "outputs": [
    {
     "data": {
      "text/plain": [
       "dept_id\n",
       "D00-AD      175\n",
       "D00-ENG    2573\n",
       "D00-FN      725\n",
       "D00-IT     1157\n",
       "D00-MN      593\n",
       "D00-MT      815\n",
       "D00-PD      855\n",
       "D00-PR      173\n",
       "D00-SP     2112\n",
       "D00-SS     3904\n",
       "dtype: int64"
      ]
     },
     "execution_count": 95,
     "metadata": {},
     "output_type": "execute_result"
    }
   ],
   "source": [
    "df.groupby(['dept_id']).size()"
   ]
  },
  {
   "cell_type": "code",
   "execution_count": null,
   "metadata": {
    "colab": {
     "base_uri": "https://localhost:8080/"
    },
    "id": "k0l72O0dkZpu",
    "outputId": "aa149a7f-6b24-422a-8c3a-a04a7a9cb817"
   },
   "outputs": [
    {
     "data": {
      "text/plain": [
       "913"
      ]
     },
     "execution_count": 97,
     "metadata": {},
     "output_type": "execute_result"
    }
   ],
   "source": [
    "df['dept_id'].isnull().sum()  # 913 null\n",
    "#df['department'].isnull().sum()  # 913 null"
   ]
  },
  {
   "cell_type": "code",
   "execution_count": null,
   "metadata": {
    "id": "vJNuJBNRlWGy"
   },
   "outputs": [],
   "source": [
    "df['department'] = df['department'].fillna(df['department'].mode()[0])\n"
   ]
  },
  {
   "cell_type": "code",
   "execution_count": null,
   "metadata": {
    "colab": {
     "base_uri": "https://localhost:8080/"
    },
    "id": "M7H6gPS9lWMg",
    "outputId": "c4f29d12-209c-4023-b8e4-5a12ab14941a"
   },
   "outputs": [
    {
     "data": {
      "text/plain": [
       "0"
      ]
     },
     "execution_count": 99,
     "metadata": {},
     "output_type": "execute_result"
    }
   ],
   "source": [
    "df['department'].isnull().sum()  # 0 null"
   ]
  },
  {
   "cell_type": "code",
   "execution_count": null,
   "metadata": {
    "colab": {
     "base_uri": "https://localhost:8080/"
    },
    "id": "y-1EfYpHkE4I",
    "outputId": "d492d5b9-9e37-4c6e-ddb8-01ddf8477a55"
   },
   "outputs": [
    {
     "data": {
      "text/plain": [
       "913"
      ]
     },
     "execution_count": 100,
     "metadata": {},
     "output_type": "execute_result"
    }
   ],
   "source": [
    "df['dept_id'].isnull().sum()  # 913 null"
   ]
  },
  {
   "cell_type": "code",
   "execution_count": null,
   "metadata": {
    "id": "HCq_rZOxmINv"
   },
   "outputs": [],
   "source": [
    "df['dept_id'] = df['dept_id'].fillna(df['dept_id'].mode()[0])\n"
   ]
  },
  {
   "cell_type": "code",
   "execution_count": null,
   "metadata": {
    "colab": {
     "base_uri": "https://localhost:8080/"
    },
    "id": "Jhw1us27mPmC",
    "outputId": "3b71fcad-3ead-4c03-f2ea-cb800f1226b0"
   },
   "outputs": [
    {
     "data": {
      "text/plain": [
       "0"
      ]
     },
     "execution_count": 102,
     "metadata": {},
     "output_type": "execute_result"
    }
   ],
   "source": [
    "df['dept_id'].isnull().sum()  # 0null"
   ]
  },
  {
   "cell_type": "markdown",
   "metadata": {
    "id": "AYRHLUR7nHzX"
   },
   "source": [
    "# DUplicate"
   ]
  },
  {
   "cell_type": "code",
   "execution_count": null,
   "metadata": {
    "colab": {
     "base_uri": "https://localhost:8080/",
     "height": 1000
    },
    "id": "aGxMqkKenG2P",
    "outputId": "5db1ec33-7c6d-40d8-8397-f960184ce058"
   },
   "outputs": [
    {
     "data": {
      "text/html": [
       "\n",
       "  <div id=\"df-1a94c837-119f-40fe-9561-a0b7f3e214ed\">\n",
       "    <div class=\"colab-df-container\">\n",
       "      <div>\n",
       "<style scoped>\n",
       "    .dataframe tbody tr th:only-of-type {\n",
       "        vertical-align: middle;\n",
       "    }\n",
       "\n",
       "    .dataframe tbody tr th {\n",
       "        vertical-align: top;\n",
       "    }\n",
       "\n",
       "    .dataframe thead th {\n",
       "        text-align: right;\n",
       "    }\n",
       "</style>\n",
       "<table border=\"1\" class=\"dataframe\">\n",
       "  <thead>\n",
       "    <tr style=\"text-align: right;\">\n",
       "      <th></th>\n",
       "      <th>employee_id</th>\n",
       "      <th>age</th>\n",
       "      <th>gender</th>\n",
       "      <th>marital_status</th>\n",
       "      <th>department</th>\n",
       "      <th>salary</th>\n",
       "      <th>tenure</th>\n",
       "      <th>recently_promoted</th>\n",
       "      <th>n_projects</th>\n",
       "      <th>avg_monthly_hrs</th>\n",
       "      <th>satisfaction</th>\n",
       "      <th>last_evaluation</th>\n",
       "      <th>filed_complaint</th>\n",
       "      <th>dept_id</th>\n",
       "      <th>dept_name</th>\n",
       "      <th>dept_head</th>\n",
       "    </tr>\n",
       "  </thead>\n",
       "  <tbody>\n",
       "    <tr>\n",
       "      <th>312</th>\n",
       "      <td>109425</td>\n",
       "      <td>24</td>\n",
       "      <td>Male</td>\n",
       "      <td>Unmarried</td>\n",
       "      <td>D00-MN</td>\n",
       "      <td>high</td>\n",
       "      <td>10</td>\n",
       "      <td>NaN</td>\n",
       "      <td>NaN</td>\n",
       "      <td>148</td>\n",
       "      <td>0.481001</td>\n",
       "      <td>0.577112</td>\n",
       "      <td>NaN</td>\n",
       "      <td>D00-MN</td>\n",
       "      <td>Management</td>\n",
       "      <td>Ellie Trafton</td>\n",
       "    </tr>\n",
       "    <tr>\n",
       "      <th>319</th>\n",
       "      <td>112373</td>\n",
       "      <td>29</td>\n",
       "      <td>Male</td>\n",
       "      <td>Unmarried</td>\n",
       "      <td>D00-MN</td>\n",
       "      <td>low</td>\n",
       "      <td>10</td>\n",
       "      <td>NaN</td>\n",
       "      <td>NaN</td>\n",
       "      <td>265</td>\n",
       "      <td>0.545978</td>\n",
       "      <td>0.825672</td>\n",
       "      <td>1.0</td>\n",
       "      <td>D00-MN</td>\n",
       "      <td>Management</td>\n",
       "      <td>Ellie Trafton</td>\n",
       "    </tr>\n",
       "    <tr>\n",
       "      <th>340</th>\n",
       "      <td>119780</td>\n",
       "      <td>25</td>\n",
       "      <td>Male</td>\n",
       "      <td>Unmarried</td>\n",
       "      <td>D00-MN</td>\n",
       "      <td>medium</td>\n",
       "      <td>3</td>\n",
       "      <td>NaN</td>\n",
       "      <td>NaN</td>\n",
       "      <td>175</td>\n",
       "      <td>0.934465</td>\n",
       "      <td>0.854538</td>\n",
       "      <td>NaN</td>\n",
       "      <td>D00-MN</td>\n",
       "      <td>Management</td>\n",
       "      <td>Ellie Trafton</td>\n",
       "    </tr>\n",
       "    <tr>\n",
       "      <th>791</th>\n",
       "      <td>112203</td>\n",
       "      <td>45</td>\n",
       "      <td>Male</td>\n",
       "      <td>Married</td>\n",
       "      <td>D00-SS</td>\n",
       "      <td>medium</td>\n",
       "      <td>5</td>\n",
       "      <td>NaN</td>\n",
       "      <td>NaN</td>\n",
       "      <td>206</td>\n",
       "      <td>0.783548</td>\n",
       "      <td>1.000000</td>\n",
       "      <td>NaN</td>\n",
       "      <td>D00-SS</td>\n",
       "      <td>Sales</td>\n",
       "      <td>Edward J Bayley</td>\n",
       "    </tr>\n",
       "    <tr>\n",
       "      <th>1030</th>\n",
       "      <td>116153</td>\n",
       "      <td>22</td>\n",
       "      <td>Female</td>\n",
       "      <td>Unmarried</td>\n",
       "      <td>D00-SS</td>\n",
       "      <td>medium</td>\n",
       "      <td>3</td>\n",
       "      <td>NaN</td>\n",
       "      <td>NaN</td>\n",
       "      <td>192</td>\n",
       "      <td>0.539834</td>\n",
       "      <td>0.951901</td>\n",
       "      <td>NaN</td>\n",
       "      <td>D00-SS</td>\n",
       "      <td>Sales</td>\n",
       "      <td>Edward J Bayley</td>\n",
       "    </tr>\n",
       "    <tr>\n",
       "      <th>1542</th>\n",
       "      <td>122385</td>\n",
       "      <td>24</td>\n",
       "      <td>Female</td>\n",
       "      <td>Unmarried</td>\n",
       "      <td>D00-SS</td>\n",
       "      <td>low</td>\n",
       "      <td>3</td>\n",
       "      <td>NaN</td>\n",
       "      <td>NaN</td>\n",
       "      <td>161</td>\n",
       "      <td>0.416761</td>\n",
       "      <td>0.483513</td>\n",
       "      <td>NaN</td>\n",
       "      <td>D00-SS</td>\n",
       "      <td>Sales</td>\n",
       "      <td>Edward J Bayley</td>\n",
       "    </tr>\n",
       "    <tr>\n",
       "      <th>1736</th>\n",
       "      <td>102701</td>\n",
       "      <td>22</td>\n",
       "      <td>Female</td>\n",
       "      <td>Unmarried</td>\n",
       "      <td>D00-SS</td>\n",
       "      <td>medium</td>\n",
       "      <td>5</td>\n",
       "      <td>NaN</td>\n",
       "      <td>NaN</td>\n",
       "      <td>133</td>\n",
       "      <td>0.617304</td>\n",
       "      <td>0.986741</td>\n",
       "      <td>NaN</td>\n",
       "      <td>D00-SS</td>\n",
       "      <td>Sales</td>\n",
       "      <td>Edward J Bayley</td>\n",
       "    </tr>\n",
       "    <tr>\n",
       "      <th>2242</th>\n",
       "      <td>101809</td>\n",
       "      <td>45</td>\n",
       "      <td>Female</td>\n",
       "      <td>Married</td>\n",
       "      <td>D00-SS</td>\n",
       "      <td>medium</td>\n",
       "      <td>5</td>\n",
       "      <td>NaN</td>\n",
       "      <td>NaN</td>\n",
       "      <td>245</td>\n",
       "      <td>0.225084</td>\n",
       "      <td>0.850785</td>\n",
       "      <td>NaN</td>\n",
       "      <td>D00-SS</td>\n",
       "      <td>Sales</td>\n",
       "      <td>Edward J Bayley</td>\n",
       "    </tr>\n",
       "    <tr>\n",
       "      <th>2250</th>\n",
       "      <td>108265</td>\n",
       "      <td>25</td>\n",
       "      <td>Male</td>\n",
       "      <td>Unmarried</td>\n",
       "      <td>D00-SS</td>\n",
       "      <td>medium</td>\n",
       "      <td>2</td>\n",
       "      <td>NaN</td>\n",
       "      <td>NaN</td>\n",
       "      <td>238</td>\n",
       "      <td>0.624658</td>\n",
       "      <td>0.958633</td>\n",
       "      <td>NaN</td>\n",
       "      <td>D00-SS</td>\n",
       "      <td>Sales</td>\n",
       "      <td>Edward J Bayley</td>\n",
       "    </tr>\n",
       "    <tr>\n",
       "      <th>3755</th>\n",
       "      <td>104360</td>\n",
       "      <td>30</td>\n",
       "      <td>Male</td>\n",
       "      <td>Married</td>\n",
       "      <td>D00-SS</td>\n",
       "      <td>high</td>\n",
       "      <td>3</td>\n",
       "      <td>NaN</td>\n",
       "      <td>NaN</td>\n",
       "      <td>136</td>\n",
       "      <td>0.664039</td>\n",
       "      <td>0.645563</td>\n",
       "      <td>NaN</td>\n",
       "      <td>D00-SS</td>\n",
       "      <td>Sales</td>\n",
       "      <td>Edward J Bayley</td>\n",
       "    </tr>\n",
       "    <tr>\n",
       "      <th>4332</th>\n",
       "      <td>116209</td>\n",
       "      <td>25</td>\n",
       "      <td>Male</td>\n",
       "      <td>Unmarried</td>\n",
       "      <td>D00-SS</td>\n",
       "      <td>medium</td>\n",
       "      <td>3</td>\n",
       "      <td>NaN</td>\n",
       "      <td>NaN</td>\n",
       "      <td>181</td>\n",
       "      <td>0.870014</td>\n",
       "      <td>0.703796</td>\n",
       "      <td>1.0</td>\n",
       "      <td>D00-SS</td>\n",
       "      <td>Sales</td>\n",
       "      <td>Edward J Bayley</td>\n",
       "    </tr>\n",
       "    <tr>\n",
       "      <th>4483</th>\n",
       "      <td>116247</td>\n",
       "      <td>54</td>\n",
       "      <td>Female</td>\n",
       "      <td>Married</td>\n",
       "      <td>D00-SS</td>\n",
       "      <td>low</td>\n",
       "      <td>4</td>\n",
       "      <td>NaN</td>\n",
       "      <td>NaN</td>\n",
       "      <td>282</td>\n",
       "      <td>0.065908</td>\n",
       "      <td>0.875427</td>\n",
       "      <td>NaN</td>\n",
       "      <td>D00-SS</td>\n",
       "      <td>Sales</td>\n",
       "      <td>Edward J Bayley</td>\n",
       "    </tr>\n",
       "    <tr>\n",
       "      <th>6397</th>\n",
       "      <td>116533</td>\n",
       "      <td>23</td>\n",
       "      <td>Male</td>\n",
       "      <td>Unmarried</td>\n",
       "      <td>D00-SP</td>\n",
       "      <td>low</td>\n",
       "      <td>3</td>\n",
       "      <td>NaN</td>\n",
       "      <td>NaN</td>\n",
       "      <td>135</td>\n",
       "      <td>0.500691</td>\n",
       "      <td>0.504764</td>\n",
       "      <td>NaN</td>\n",
       "      <td>D00-SP</td>\n",
       "      <td>Support</td>\n",
       "      <td>Amelia Westray</td>\n",
       "    </tr>\n",
       "    <tr>\n",
       "      <th>6505</th>\n",
       "      <td>105625</td>\n",
       "      <td>41</td>\n",
       "      <td>Male</td>\n",
       "      <td>Married</td>\n",
       "      <td>D00-SP</td>\n",
       "      <td>low</td>\n",
       "      <td>10</td>\n",
       "      <td>NaN</td>\n",
       "      <td>NaN</td>\n",
       "      <td>142</td>\n",
       "      <td>0.393240</td>\n",
       "      <td>0.400566</td>\n",
       "      <td>1.0</td>\n",
       "      <td>D00-SP</td>\n",
       "      <td>Support</td>\n",
       "      <td>Amelia Westray</td>\n",
       "    </tr>\n",
       "    <tr>\n",
       "      <th>7003</th>\n",
       "      <td>115446</td>\n",
       "      <td>24</td>\n",
       "      <td>Female</td>\n",
       "      <td>Unmarried</td>\n",
       "      <td>D00-SP</td>\n",
       "      <td>medium</td>\n",
       "      <td>3</td>\n",
       "      <td>NaN</td>\n",
       "      <td>NaN</td>\n",
       "      <td>163</td>\n",
       "      <td>0.832118</td>\n",
       "      <td>0.486176</td>\n",
       "      <td>NaN</td>\n",
       "      <td>D00-SP</td>\n",
       "      <td>Support</td>\n",
       "      <td>Amelia Westray</td>\n",
       "    </tr>\n",
       "    <tr>\n",
       "      <th>7107</th>\n",
       "      <td>116850</td>\n",
       "      <td>22</td>\n",
       "      <td>Female</td>\n",
       "      <td>Unmarried</td>\n",
       "      <td>D00-SP</td>\n",
       "      <td>low</td>\n",
       "      <td>3</td>\n",
       "      <td>NaN</td>\n",
       "      <td>NaN</td>\n",
       "      <td>168</td>\n",
       "      <td>0.869815</td>\n",
       "      <td>0.747792</td>\n",
       "      <td>NaN</td>\n",
       "      <td>D00-SP</td>\n",
       "      <td>Support</td>\n",
       "      <td>Amelia Westray</td>\n",
       "    </tr>\n",
       "    <tr>\n",
       "      <th>7756</th>\n",
       "      <td>108128</td>\n",
       "      <td>54</td>\n",
       "      <td>Male</td>\n",
       "      <td>Married</td>\n",
       "      <td>D00-IT</td>\n",
       "      <td>medium</td>\n",
       "      <td>4</td>\n",
       "      <td>NaN</td>\n",
       "      <td>NaN</td>\n",
       "      <td>161</td>\n",
       "      <td>0.867768</td>\n",
       "      <td>0.715893</td>\n",
       "      <td>NaN</td>\n",
       "      <td>D00-IT</td>\n",
       "      <td>IT</td>\n",
       "      <td>Henry Adey</td>\n",
       "    </tr>\n",
       "    <tr>\n",
       "      <th>8712</th>\n",
       "      <td>111323</td>\n",
       "      <td>48</td>\n",
       "      <td>Male</td>\n",
       "      <td>Married</td>\n",
       "      <td>D00-IT</td>\n",
       "      <td>low</td>\n",
       "      <td>4</td>\n",
       "      <td>NaN</td>\n",
       "      <td>NaN</td>\n",
       "      <td>307</td>\n",
       "      <td>0.125275</td>\n",
       "      <td>0.905708</td>\n",
       "      <td>NaN</td>\n",
       "      <td>D00-IT</td>\n",
       "      <td>IT</td>\n",
       "      <td>Henry Adey</td>\n",
       "    </tr>\n",
       "    <tr>\n",
       "      <th>8740</th>\n",
       "      <td>112312</td>\n",
       "      <td>24</td>\n",
       "      <td>Male</td>\n",
       "      <td>Unmarried</td>\n",
       "      <td>D00-IT</td>\n",
       "      <td>low</td>\n",
       "      <td>4</td>\n",
       "      <td>NaN</td>\n",
       "      <td>NaN</td>\n",
       "      <td>268</td>\n",
       "      <td>0.459371</td>\n",
       "      <td>0.897098</td>\n",
       "      <td>1.0</td>\n",
       "      <td>D00-IT</td>\n",
       "      <td>IT</td>\n",
       "      <td>Henry Adey</td>\n",
       "    </tr>\n",
       "    <tr>\n",
       "      <th>8774</th>\n",
       "      <td>108535</td>\n",
       "      <td>50</td>\n",
       "      <td>Male</td>\n",
       "      <td>Married</td>\n",
       "      <td>D00-IT</td>\n",
       "      <td>low</td>\n",
       "      <td>5</td>\n",
       "      <td>NaN</td>\n",
       "      <td>NaN</td>\n",
       "      <td>233</td>\n",
       "      <td>0.775472</td>\n",
       "      <td>0.940863</td>\n",
       "      <td>NaN</td>\n",
       "      <td>D00-IT</td>\n",
       "      <td>IT</td>\n",
       "      <td>Henry Adey</td>\n",
       "    </tr>\n",
       "    <tr>\n",
       "      <th>8847</th>\n",
       "      <td>109804</td>\n",
       "      <td>41</td>\n",
       "      <td>Male</td>\n",
       "      <td>Married</td>\n",
       "      <td>D00-IT</td>\n",
       "      <td>low</td>\n",
       "      <td>6</td>\n",
       "      <td>NaN</td>\n",
       "      <td>NaN</td>\n",
       "      <td>261</td>\n",
       "      <td>0.341498</td>\n",
       "      <td>0.465430</td>\n",
       "      <td>1.0</td>\n",
       "      <td>D00-IT</td>\n",
       "      <td>IT</td>\n",
       "      <td>Henry Adey</td>\n",
       "    </tr>\n",
       "    <tr>\n",
       "      <th>11441</th>\n",
       "      <td>106813</td>\n",
       "      <td>48</td>\n",
       "      <td>Male</td>\n",
       "      <td>Married</td>\n",
       "      <td>D00-PD</td>\n",
       "      <td>medium</td>\n",
       "      <td>2</td>\n",
       "      <td>NaN</td>\n",
       "      <td>NaN</td>\n",
       "      <td>132</td>\n",
       "      <td>1.000000</td>\n",
       "      <td>1.000000</td>\n",
       "      <td>NaN</td>\n",
       "      <td>D00-PD</td>\n",
       "      <td>Product</td>\n",
       "      <td>Darcy Staines</td>\n",
       "    </tr>\n",
       "    <tr>\n",
       "      <th>11470</th>\n",
       "      <td>117454</td>\n",
       "      <td>51</td>\n",
       "      <td>Female</td>\n",
       "      <td>Married</td>\n",
       "      <td>D00-PD</td>\n",
       "      <td>medium</td>\n",
       "      <td>2</td>\n",
       "      <td>NaN</td>\n",
       "      <td>NaN</td>\n",
       "      <td>212</td>\n",
       "      <td>0.829316</td>\n",
       "      <td>0.773018</td>\n",
       "      <td>NaN</td>\n",
       "      <td>D00-PD</td>\n",
       "      <td>Product</td>\n",
       "      <td>Darcy Staines</td>\n",
       "    </tr>\n",
       "    <tr>\n",
       "      <th>12743</th>\n",
       "      <td>119754</td>\n",
       "      <td>35</td>\n",
       "      <td>Male</td>\n",
       "      <td>Married</td>\n",
       "      <td>D00-MT</td>\n",
       "      <td>medium</td>\n",
       "      <td>4</td>\n",
       "      <td>NaN</td>\n",
       "      <td>NaN</td>\n",
       "      <td>184</td>\n",
       "      <td>0.504388</td>\n",
       "      <td>0.639866</td>\n",
       "      <td>NaN</td>\n",
       "      <td>D00-MT</td>\n",
       "      <td>Marketing</td>\n",
       "      <td>Reuben Swann</td>\n",
       "    </tr>\n",
       "    <tr>\n",
       "      <th>12748</th>\n",
       "      <td>115325</td>\n",
       "      <td>50</td>\n",
       "      <td>Male</td>\n",
       "      <td>Married</td>\n",
       "      <td>D00-MT</td>\n",
       "      <td>medium</td>\n",
       "      <td>5</td>\n",
       "      <td>NaN</td>\n",
       "      <td>NaN</td>\n",
       "      <td>268</td>\n",
       "      <td>0.906613</td>\n",
       "      <td>0.900887</td>\n",
       "      <td>NaN</td>\n",
       "      <td>D00-MT</td>\n",
       "      <td>Marketing</td>\n",
       "      <td>Reuben Swann</td>\n",
       "    </tr>\n",
       "    <tr>\n",
       "      <th>12834</th>\n",
       "      <td>111968</td>\n",
       "      <td>22</td>\n",
       "      <td>Female</td>\n",
       "      <td>Unmarried</td>\n",
       "      <td>D00-MT</td>\n",
       "      <td>low</td>\n",
       "      <td>2</td>\n",
       "      <td>NaN</td>\n",
       "      <td>NaN</td>\n",
       "      <td>152</td>\n",
       "      <td>0.826531</td>\n",
       "      <td>0.510016</td>\n",
       "      <td>NaN</td>\n",
       "      <td>D00-MT</td>\n",
       "      <td>Marketing</td>\n",
       "      <td>Reuben Swann</td>\n",
       "    </tr>\n",
       "    <tr>\n",
       "      <th>13440</th>\n",
       "      <td>110000</td>\n",
       "      <td>24</td>\n",
       "      <td>Female</td>\n",
       "      <td>Unmarried</td>\n",
       "      <td>D00-FN</td>\n",
       "      <td>medium</td>\n",
       "      <td>3</td>\n",
       "      <td>NaN</td>\n",
       "      <td>NaN</td>\n",
       "      <td>224</td>\n",
       "      <td>0.555114</td>\n",
       "      <td>0.877647</td>\n",
       "      <td>NaN</td>\n",
       "      <td>D00-FN</td>\n",
       "      <td>Finance</td>\n",
       "      <td>Aanchal J</td>\n",
       "    </tr>\n",
       "    <tr>\n",
       "      <th>13458</th>\n",
       "      <td>109085</td>\n",
       "      <td>24</td>\n",
       "      <td>Female</td>\n",
       "      <td>Unmarried</td>\n",
       "      <td>D00-FN</td>\n",
       "      <td>low</td>\n",
       "      <td>3</td>\n",
       "      <td>NaN</td>\n",
       "      <td>NaN</td>\n",
       "      <td>141</td>\n",
       "      <td>0.624272</td>\n",
       "      <td>0.801055</td>\n",
       "      <td>NaN</td>\n",
       "      <td>D00-FN</td>\n",
       "      <td>Finance</td>\n",
       "      <td>Aanchal J</td>\n",
       "    </tr>\n",
       "    <tr>\n",
       "      <th>13747</th>\n",
       "      <td>110546</td>\n",
       "      <td>40</td>\n",
       "      <td>Female</td>\n",
       "      <td>Married</td>\n",
       "      <td>D00-FN</td>\n",
       "      <td>low</td>\n",
       "      <td>5</td>\n",
       "      <td>NaN</td>\n",
       "      <td>NaN</td>\n",
       "      <td>208</td>\n",
       "      <td>0.476216</td>\n",
       "      <td>0.699756</td>\n",
       "      <td>NaN</td>\n",
       "      <td>D00-FN</td>\n",
       "      <td>Finance</td>\n",
       "      <td>Aanchal J</td>\n",
       "    </tr>\n",
       "  </tbody>\n",
       "</table>\n",
       "</div>\n",
       "      <button class=\"colab-df-convert\" onclick=\"convertToInteractive('df-1a94c837-119f-40fe-9561-a0b7f3e214ed')\"\n",
       "              title=\"Convert this dataframe to an interactive table.\"\n",
       "              style=\"display:none;\">\n",
       "        \n",
       "  <svg xmlns=\"http://www.w3.org/2000/svg\" height=\"24px\"viewBox=\"0 0 24 24\"\n",
       "       width=\"24px\">\n",
       "    <path d=\"M0 0h24v24H0V0z\" fill=\"none\"/>\n",
       "    <path d=\"M18.56 5.44l.94 2.06.94-2.06 2.06-.94-2.06-.94-.94-2.06-.94 2.06-2.06.94zm-11 1L8.5 8.5l.94-2.06 2.06-.94-2.06-.94L8.5 2.5l-.94 2.06-2.06.94zm10 10l.94 2.06.94-2.06 2.06-.94-2.06-.94-.94-2.06-.94 2.06-2.06.94z\"/><path d=\"M17.41 7.96l-1.37-1.37c-.4-.4-.92-.59-1.43-.59-.52 0-1.04.2-1.43.59L10.3 9.45l-7.72 7.72c-.78.78-.78 2.05 0 2.83L4 21.41c.39.39.9.59 1.41.59.51 0 1.02-.2 1.41-.59l7.78-7.78 2.81-2.81c.8-.78.8-2.07 0-2.86zM5.41 20L4 18.59l7.72-7.72 1.47 1.35L5.41 20z\"/>\n",
       "  </svg>\n",
       "      </button>\n",
       "      \n",
       "  <style>\n",
       "    .colab-df-container {\n",
       "      display:flex;\n",
       "      flex-wrap:wrap;\n",
       "      gap: 12px;\n",
       "    }\n",
       "\n",
       "    .colab-df-convert {\n",
       "      background-color: #E8F0FE;\n",
       "      border: none;\n",
       "      border-radius: 50%;\n",
       "      cursor: pointer;\n",
       "      display: none;\n",
       "      fill: #1967D2;\n",
       "      height: 32px;\n",
       "      padding: 0 0 0 0;\n",
       "      width: 32px;\n",
       "    }\n",
       "\n",
       "    .colab-df-convert:hover {\n",
       "      background-color: #E2EBFA;\n",
       "      box-shadow: 0px 1px 2px rgba(60, 64, 67, 0.3), 0px 1px 3px 1px rgba(60, 64, 67, 0.15);\n",
       "      fill: #174EA6;\n",
       "    }\n",
       "\n",
       "    [theme=dark] .colab-df-convert {\n",
       "      background-color: #3B4455;\n",
       "      fill: #D2E3FC;\n",
       "    }\n",
       "\n",
       "    [theme=dark] .colab-df-convert:hover {\n",
       "      background-color: #434B5C;\n",
       "      box-shadow: 0px 1px 3px 1px rgba(0, 0, 0, 0.15);\n",
       "      filter: drop-shadow(0px 1px 2px rgba(0, 0, 0, 0.3));\n",
       "      fill: #FFFFFF;\n",
       "    }\n",
       "  </style>\n",
       "\n",
       "      <script>\n",
       "        const buttonEl =\n",
       "          document.querySelector('#df-1a94c837-119f-40fe-9561-a0b7f3e214ed button.colab-df-convert');\n",
       "        buttonEl.style.display =\n",
       "          google.colab.kernel.accessAllowed ? 'block' : 'none';\n",
       "\n",
       "        async function convertToInteractive(key) {\n",
       "          const element = document.querySelector('#df-1a94c837-119f-40fe-9561-a0b7f3e214ed');\n",
       "          const dataTable =\n",
       "            await google.colab.kernel.invokeFunction('convertToInteractive',\n",
       "                                                     [key], {});\n",
       "          if (!dataTable) return;\n",
       "\n",
       "          const docLinkHtml = 'Like what you see? Visit the ' +\n",
       "            '<a target=\"_blank\" href=https://colab.research.google.com/notebooks/data_table.ipynb>data table notebook</a>'\n",
       "            + ' to learn more about interactive tables.';\n",
       "          element.innerHTML = '';\n",
       "          dataTable['output_type'] = 'display_data';\n",
       "          await google.colab.output.renderOutput(dataTable, element);\n",
       "          const docLink = document.createElement('div');\n",
       "          docLink.innerHTML = docLinkHtml;\n",
       "          element.appendChild(docLink);\n",
       "        }\n",
       "      </script>\n",
       "    </div>\n",
       "  </div>\n",
       "  "
      ],
      "text/plain": [
       "       employee_id  age  gender marital_status department  salary  tenure  \\\n",
       "312         109425   24    Male      Unmarried     D00-MN    high      10   \n",
       "319         112373   29    Male      Unmarried     D00-MN     low      10   \n",
       "340         119780   25    Male      Unmarried     D00-MN  medium       3   \n",
       "791         112203   45    Male        Married     D00-SS  medium       5   \n",
       "1030        116153   22  Female      Unmarried     D00-SS  medium       3   \n",
       "1542        122385   24  Female      Unmarried     D00-SS     low       3   \n",
       "1736        102701   22  Female      Unmarried     D00-SS  medium       5   \n",
       "2242        101809   45  Female        Married     D00-SS  medium       5   \n",
       "2250        108265   25    Male      Unmarried     D00-SS  medium       2   \n",
       "3755        104360   30    Male        Married     D00-SS    high       3   \n",
       "4332        116209   25    Male      Unmarried     D00-SS  medium       3   \n",
       "4483        116247   54  Female        Married     D00-SS     low       4   \n",
       "6397        116533   23    Male      Unmarried     D00-SP     low       3   \n",
       "6505        105625   41    Male        Married     D00-SP     low      10   \n",
       "7003        115446   24  Female      Unmarried     D00-SP  medium       3   \n",
       "7107        116850   22  Female      Unmarried     D00-SP     low       3   \n",
       "7756        108128   54    Male        Married     D00-IT  medium       4   \n",
       "8712        111323   48    Male        Married     D00-IT     low       4   \n",
       "8740        112312   24    Male      Unmarried     D00-IT     low       4   \n",
       "8774        108535   50    Male        Married     D00-IT     low       5   \n",
       "8847        109804   41    Male        Married     D00-IT     low       6   \n",
       "11441       106813   48    Male        Married     D00-PD  medium       2   \n",
       "11470       117454   51  Female        Married     D00-PD  medium       2   \n",
       "12743       119754   35    Male        Married     D00-MT  medium       4   \n",
       "12748       115325   50    Male        Married     D00-MT  medium       5   \n",
       "12834       111968   22  Female      Unmarried     D00-MT     low       2   \n",
       "13440       110000   24  Female      Unmarried     D00-FN  medium       3   \n",
       "13458       109085   24  Female      Unmarried     D00-FN     low       3   \n",
       "13747       110546   40  Female        Married     D00-FN     low       5   \n",
       "\n",
       "       recently_promoted  n_projects   avg_monthly_hrs  satisfaction  \\\n",
       "312                  NaN          NaN              148      0.481001   \n",
       "319                  NaN          NaN              265      0.545978   \n",
       "340                  NaN          NaN              175      0.934465   \n",
       "791                  NaN          NaN              206      0.783548   \n",
       "1030                 NaN          NaN              192      0.539834   \n",
       "1542                 NaN          NaN              161      0.416761   \n",
       "1736                 NaN          NaN              133      0.617304   \n",
       "2242                 NaN          NaN              245      0.225084   \n",
       "2250                 NaN          NaN              238      0.624658   \n",
       "3755                 NaN          NaN              136      0.664039   \n",
       "4332                 NaN          NaN              181      0.870014   \n",
       "4483                 NaN          NaN              282      0.065908   \n",
       "6397                 NaN          NaN              135      0.500691   \n",
       "6505                 NaN          NaN              142      0.393240   \n",
       "7003                 NaN          NaN              163      0.832118   \n",
       "7107                 NaN          NaN              168      0.869815   \n",
       "7756                 NaN          NaN              161      0.867768   \n",
       "8712                 NaN          NaN              307      0.125275   \n",
       "8740                 NaN          NaN              268      0.459371   \n",
       "8774                 NaN          NaN              233      0.775472   \n",
       "8847                 NaN          NaN              261      0.341498   \n",
       "11441                NaN          NaN              132      1.000000   \n",
       "11470                NaN          NaN              212      0.829316   \n",
       "12743                NaN          NaN              184      0.504388   \n",
       "12748                NaN          NaN              268      0.906613   \n",
       "12834                NaN          NaN              152      0.826531   \n",
       "13440                NaN          NaN              224      0.555114   \n",
       "13458                NaN          NaN              141      0.624272   \n",
       "13747                NaN          NaN              208      0.476216   \n",
       "\n",
       "       last_evaluation  filed_complaint dept_id   dept_name        dept_head  \n",
       "312           0.577112              NaN  D00-MN  Management    Ellie Trafton  \n",
       "319           0.825672              1.0  D00-MN  Management    Ellie Trafton  \n",
       "340           0.854538              NaN  D00-MN  Management    Ellie Trafton  \n",
       "791           1.000000              NaN  D00-SS       Sales  Edward J Bayley  \n",
       "1030          0.951901              NaN  D00-SS       Sales  Edward J Bayley  \n",
       "1542          0.483513              NaN  D00-SS       Sales  Edward J Bayley  \n",
       "1736          0.986741              NaN  D00-SS       Sales  Edward J Bayley  \n",
       "2242          0.850785              NaN  D00-SS       Sales  Edward J Bayley  \n",
       "2250          0.958633              NaN  D00-SS       Sales  Edward J Bayley  \n",
       "3755          0.645563              NaN  D00-SS       Sales  Edward J Bayley  \n",
       "4332          0.703796              1.0  D00-SS       Sales  Edward J Bayley  \n",
       "4483          0.875427              NaN  D00-SS       Sales  Edward J Bayley  \n",
       "6397          0.504764              NaN  D00-SP     Support   Amelia Westray  \n",
       "6505          0.400566              1.0  D00-SP     Support   Amelia Westray  \n",
       "7003          0.486176              NaN  D00-SP     Support   Amelia Westray  \n",
       "7107          0.747792              NaN  D00-SP     Support   Amelia Westray  \n",
       "7756          0.715893              NaN  D00-IT          IT       Henry Adey  \n",
       "8712          0.905708              NaN  D00-IT          IT       Henry Adey  \n",
       "8740          0.897098              1.0  D00-IT          IT       Henry Adey  \n",
       "8774          0.940863              NaN  D00-IT          IT       Henry Adey  \n",
       "8847          0.465430              1.0  D00-IT          IT       Henry Adey  \n",
       "11441         1.000000              NaN  D00-PD     Product    Darcy Staines  \n",
       "11470         0.773018              NaN  D00-PD     Product    Darcy Staines  \n",
       "12743         0.639866              NaN  D00-MT   Marketing     Reuben Swann  \n",
       "12748         0.900887              NaN  D00-MT   Marketing     Reuben Swann  \n",
       "12834         0.510016              NaN  D00-MT   Marketing     Reuben Swann  \n",
       "13440         0.877647              NaN  D00-FN     Finance        Aanchal J  \n",
       "13458         0.801055              NaN  D00-FN     Finance        Aanchal J  \n",
       "13747         0.699756              NaN  D00-FN     Finance        Aanchal J  "
      ]
     },
     "execution_count": 103,
     "metadata": {},
     "output_type": "execute_result"
    }
   ],
   "source": [
    "# occurrence based on all columns\n",
    "df[df.duplicated()]\n",
    " \n",
    "#print(\"Duplicate Rows :\")\n",
    " \n"
   ]
  },
  {
   "cell_type": "code",
   "execution_count": null,
   "metadata": {
    "colab": {
     "base_uri": "https://localhost:8080/"
    },
    "id": "xXGyMdsXUsaj",
    "outputId": "bec2ca8c-1aa7-45f1-cf96-f1588abef56d"
   },
   "outputs": [
    {
     "data": {
      "text/plain": [
       "employee_id          29\n",
       "age                  29\n",
       "gender               29\n",
       "marital_status       29\n",
       "department           29\n",
       "salary               29\n",
       "tenure               29\n",
       "recently_promoted     0\n",
       "n_projects            0\n",
       "avg_monthly_hrs      29\n",
       "satisfaction         29\n",
       "last_evaluation      29\n",
       "filed_complaint       5\n",
       "dept_id              29\n",
       "dept_name            29\n",
       "dept_head            29\n",
       "dtype: int64"
      ]
     },
     "execution_count": 104,
     "metadata": {},
     "output_type": "execute_result"
    }
   ],
   "source": [
    "# Print the\n",
    "df[df.duplicated()].count()"
   ]
  },
  {
   "cell_type": "code",
   "execution_count": null,
   "metadata": {
    "id": "_5A_SiFZn5Lr"
   },
   "outputs": [],
   "source": [
    "df.shape"
   ]
  },
  {
   "cell_type": "code",
   "execution_count": null,
   "metadata": {
    "id": "hteMGVJvpLvH"
   },
   "outputs": [],
   "source": [
    "df.duplicated()"
   ]
  },
  {
   "cell_type": "code",
   "execution_count": null,
   "metadata": {
    "id": "d08MJsploC2W"
   },
   "outputs": [],
   "source": [
    "#df_actual.drop_duplicates((subset=['employee_id']))\n",
    "\n",
    "df=df.drop_duplicates(subset=['employee_id'],keep='last')"
   ]
  },
  {
   "cell_type": "code",
   "execution_count": null,
   "metadata": {
    "colab": {
     "base_uri": "https://localhost:8080/"
    },
    "id": "_3h37TpqU_3O",
    "outputId": "80e4583f-d978-4954-b771-78c028b1f26b"
   },
   "outputs": [
    {
     "data": {
      "text/plain": [
       "employee_id          0\n",
       "age                  0\n",
       "gender               0\n",
       "marital_status       0\n",
       "department           0\n",
       "salary               0\n",
       "tenure               0\n",
       "recently_promoted    0\n",
       "n_projects           0\n",
       "avg_monthly_hrs      0\n",
       "satisfaction         0\n",
       "last_evaluation      0\n",
       "filed_complaint      0\n",
       "dept_id              0\n",
       "dept_name            0\n",
       "dept_head            0\n",
       "dtype: int64"
      ]
     },
     "execution_count": 106,
     "metadata": {},
     "output_type": "execute_result"
    }
   ],
   "source": [
    "df[df.duplicated()].count()"
   ]
  },
  {
   "cell_type": "code",
   "execution_count": null,
   "metadata": {
    "colab": {
     "base_uri": "https://localhost:8080/"
    },
    "id": "wezzk_SOoHsW",
    "outputId": "287eded7-ec78-4b6f-c37e-92acd012ae81"
   },
   "outputs": [
    {
     "data": {
      "text/plain": [
       "(13966, 16)"
      ]
     },
     "execution_count": 108,
     "metadata": {},
     "output_type": "execute_result"
    }
   ],
   "source": [
    "df.shape"
   ]
  },
  {
   "cell_type": "code",
   "execution_count": null,
   "metadata": {
    "colab": {
     "base_uri": "https://localhost:8080/",
     "height": 207
    },
    "id": "oQFc5k9cqDDY",
    "outputId": "65463d49-c773-4021-c9d8-48108f2eef83"
   },
   "outputs": [
    {
     "data": {
      "text/html": [
       "\n",
       "  <div id=\"df-3bf209a8-3830-4e03-8b21-fe7cee9f17ab\">\n",
       "    <div class=\"colab-df-container\">\n",
       "      <div>\n",
       "<style scoped>\n",
       "    .dataframe tbody tr th:only-of-type {\n",
       "        vertical-align: middle;\n",
       "    }\n",
       "\n",
       "    .dataframe tbody tr th {\n",
       "        vertical-align: top;\n",
       "    }\n",
       "\n",
       "    .dataframe thead th {\n",
       "        text-align: right;\n",
       "    }\n",
       "</style>\n",
       "<table border=\"1\" class=\"dataframe\">\n",
       "  <thead>\n",
       "    <tr style=\"text-align: right;\">\n",
       "      <th></th>\n",
       "      <th>employee_id</th>\n",
       "      <th>age</th>\n",
       "      <th>gender</th>\n",
       "      <th>marital_status</th>\n",
       "      <th>department</th>\n",
       "      <th>salary</th>\n",
       "      <th>tenure</th>\n",
       "      <th>recently_promoted</th>\n",
       "      <th>n_projects</th>\n",
       "      <th>avg_monthly_hrs</th>\n",
       "      <th>satisfaction</th>\n",
       "      <th>last_evaluation</th>\n",
       "      <th>filed_complaint</th>\n",
       "      <th>dept_id</th>\n",
       "      <th>dept_name</th>\n",
       "      <th>dept_head</th>\n",
       "    </tr>\n",
       "  </thead>\n",
       "  <tbody>\n",
       "    <tr>\n",
       "      <th>0</th>\n",
       "      <td>113558</td>\n",
       "      <td>43</td>\n",
       "      <td>Male</td>\n",
       "      <td>Married</td>\n",
       "      <td>D00-PR</td>\n",
       "      <td>medium</td>\n",
       "      <td>4</td>\n",
       "      <td>1.0</td>\n",
       "      <td>NaN</td>\n",
       "      <td>111</td>\n",
       "      <td>0.921208</td>\n",
       "      <td>0.753977</td>\n",
       "      <td>0.0</td>\n",
       "      <td>D00-PR</td>\n",
       "      <td>Procurement</td>\n",
       "      <td>Louie Viles</td>\n",
       "    </tr>\n",
       "    <tr>\n",
       "      <th>1</th>\n",
       "      <td>108071</td>\n",
       "      <td>36</td>\n",
       "      <td>Male</td>\n",
       "      <td>Married</td>\n",
       "      <td>D00-PR</td>\n",
       "      <td>medium</td>\n",
       "      <td>6</td>\n",
       "      <td>0.0</td>\n",
       "      <td>NaN</td>\n",
       "      <td>151</td>\n",
       "      <td>0.210300</td>\n",
       "      <td>0.608282</td>\n",
       "      <td>0.0</td>\n",
       "      <td>D00-PR</td>\n",
       "      <td>Procurement</td>\n",
       "      <td>Louie Viles</td>\n",
       "    </tr>\n",
       "    <tr>\n",
       "      <th>2</th>\n",
       "      <td>110888</td>\n",
       "      <td>42</td>\n",
       "      <td>Male</td>\n",
       "      <td>Married</td>\n",
       "      <td>D00-PR</td>\n",
       "      <td>medium</td>\n",
       "      <td>3</td>\n",
       "      <td>0.0</td>\n",
       "      <td>NaN</td>\n",
       "      <td>152</td>\n",
       "      <td>0.720369</td>\n",
       "      <td>0.673508</td>\n",
       "      <td>0.0</td>\n",
       "      <td>D00-PR</td>\n",
       "      <td>Procurement</td>\n",
       "      <td>Louie Viles</td>\n",
       "    </tr>\n",
       "  </tbody>\n",
       "</table>\n",
       "</div>\n",
       "      <button class=\"colab-df-convert\" onclick=\"convertToInteractive('df-3bf209a8-3830-4e03-8b21-fe7cee9f17ab')\"\n",
       "              title=\"Convert this dataframe to an interactive table.\"\n",
       "              style=\"display:none;\">\n",
       "        \n",
       "  <svg xmlns=\"http://www.w3.org/2000/svg\" height=\"24px\"viewBox=\"0 0 24 24\"\n",
       "       width=\"24px\">\n",
       "    <path d=\"M0 0h24v24H0V0z\" fill=\"none\"/>\n",
       "    <path d=\"M18.56 5.44l.94 2.06.94-2.06 2.06-.94-2.06-.94-.94-2.06-.94 2.06-2.06.94zm-11 1L8.5 8.5l.94-2.06 2.06-.94-2.06-.94L8.5 2.5l-.94 2.06-2.06.94zm10 10l.94 2.06.94-2.06 2.06-.94-2.06-.94-.94-2.06-.94 2.06-2.06.94z\"/><path d=\"M17.41 7.96l-1.37-1.37c-.4-.4-.92-.59-1.43-.59-.52 0-1.04.2-1.43.59L10.3 9.45l-7.72 7.72c-.78.78-.78 2.05 0 2.83L4 21.41c.39.39.9.59 1.41.59.51 0 1.02-.2 1.41-.59l7.78-7.78 2.81-2.81c.8-.78.8-2.07 0-2.86zM5.41 20L4 18.59l7.72-7.72 1.47 1.35L5.41 20z\"/>\n",
       "  </svg>\n",
       "      </button>\n",
       "      \n",
       "  <style>\n",
       "    .colab-df-container {\n",
       "      display:flex;\n",
       "      flex-wrap:wrap;\n",
       "      gap: 12px;\n",
       "    }\n",
       "\n",
       "    .colab-df-convert {\n",
       "      background-color: #E8F0FE;\n",
       "      border: none;\n",
       "      border-radius: 50%;\n",
       "      cursor: pointer;\n",
       "      display: none;\n",
       "      fill: #1967D2;\n",
       "      height: 32px;\n",
       "      padding: 0 0 0 0;\n",
       "      width: 32px;\n",
       "    }\n",
       "\n",
       "    .colab-df-convert:hover {\n",
       "      background-color: #E2EBFA;\n",
       "      box-shadow: 0px 1px 2px rgba(60, 64, 67, 0.3), 0px 1px 3px 1px rgba(60, 64, 67, 0.15);\n",
       "      fill: #174EA6;\n",
       "    }\n",
       "\n",
       "    [theme=dark] .colab-df-convert {\n",
       "      background-color: #3B4455;\n",
       "      fill: #D2E3FC;\n",
       "    }\n",
       "\n",
       "    [theme=dark] .colab-df-convert:hover {\n",
       "      background-color: #434B5C;\n",
       "      box-shadow: 0px 1px 3px 1px rgba(0, 0, 0, 0.15);\n",
       "      filter: drop-shadow(0px 1px 2px rgba(0, 0, 0, 0.3));\n",
       "      fill: #FFFFFF;\n",
       "    }\n",
       "  </style>\n",
       "\n",
       "      <script>\n",
       "        const buttonEl =\n",
       "          document.querySelector('#df-3bf209a8-3830-4e03-8b21-fe7cee9f17ab button.colab-df-convert');\n",
       "        buttonEl.style.display =\n",
       "          google.colab.kernel.accessAllowed ? 'block' : 'none';\n",
       "\n",
       "        async function convertToInteractive(key) {\n",
       "          const element = document.querySelector('#df-3bf209a8-3830-4e03-8b21-fe7cee9f17ab');\n",
       "          const dataTable =\n",
       "            await google.colab.kernel.invokeFunction('convertToInteractive',\n",
       "                                                     [key], {});\n",
       "          if (!dataTable) return;\n",
       "\n",
       "          const docLinkHtml = 'Like what you see? Visit the ' +\n",
       "            '<a target=\"_blank\" href=https://colab.research.google.com/notebooks/data_table.ipynb>data table notebook</a>'\n",
       "            + ' to learn more about interactive tables.';\n",
       "          element.innerHTML = '';\n",
       "          dataTable['output_type'] = 'display_data';\n",
       "          await google.colab.output.renderOutput(dataTable, element);\n",
       "          const docLink = document.createElement('div');\n",
       "          docLink.innerHTML = docLinkHtml;\n",
       "          element.appendChild(docLink);\n",
       "        }\n",
       "      </script>\n",
       "    </div>\n",
       "  </div>\n",
       "  "
      ],
      "text/plain": [
       "   employee_id  age gender marital_status department  salary  tenure  \\\n",
       "0       113558   43   Male        Married     D00-PR  medium       4   \n",
       "1       108071   36   Male        Married     D00-PR  medium       6   \n",
       "2       110888   42   Male        Married     D00-PR  medium       3   \n",
       "\n",
       "   recently_promoted  n_projects   avg_monthly_hrs  satisfaction  \\\n",
       "0                1.0          NaN              111      0.921208   \n",
       "1                0.0          NaN              151      0.210300   \n",
       "2                0.0          NaN              152      0.720369   \n",
       "\n",
       "   last_evaluation  filed_complaint dept_id    dept_name    dept_head  \n",
       "0         0.753977              0.0  D00-PR  Procurement  Louie Viles  \n",
       "1         0.608282              0.0  D00-PR  Procurement  Louie Viles  \n",
       "2         0.673508              0.0  D00-PR  Procurement  Louie Viles  "
      ]
     },
     "execution_count": 137,
     "metadata": {},
     "output_type": "execute_result"
    }
   ],
   "source": [
    "df.head(3)"
   ]
  },
  {
   "cell_type": "code",
   "execution_count": null,
   "metadata": {
    "colab": {
     "base_uri": "https://localhost:8080/"
    },
    "id": "bfaHa3XGqU4c",
    "outputId": "9e591f45-0bfb-44e2-b62a-6786059e5d44"
   },
   "outputs": [
    {
     "data": {
      "text/plain": [
       "11954"
      ]
     },
     "execution_count": 110,
     "metadata": {},
     "output_type": "execute_result"
    }
   ],
   "source": [
    "df['filed_complaint'].isnull().sum()"
   ]
  },
  {
   "cell_type": "code",
   "execution_count": null,
   "metadata": {
    "id": "sAwe-gvnqVCy"
   },
   "outputs": [],
   "source": [
    "df['filed_complaint'] = df['filed_complaint'].fillna(0)"
   ]
  },
  {
   "cell_type": "code",
   "execution_count": null,
   "metadata": {
    "id": "bmRnXmjacJ75"
   },
   "outputs": [],
   "source": [
    "#df['n_projects'] = df['n_projects'].fillna('0')"
   ]
  },
  {
   "cell_type": "code",
   "execution_count": null,
   "metadata": {
    "id": "4P0Rw2jdb_KW"
   },
   "outputs": [],
   "source": [
    "#df = df.drop(columns=[\"n_projects\"])"
   ]
  },
  {
   "cell_type": "code",
   "execution_count": null,
   "metadata": {
    "id": "WTNB9HUmaemO"
   },
   "outputs": [],
   "source": [
    "#df['n_projects'] = df['n_projects'].fillna(0) n_projects\n",
    "#df.drop(['n_projects'],1, inplace=True)"
   ]
  },
  {
   "cell_type": "code",
   "execution_count": null,
   "metadata": {
    "colab": {
     "base_uri": "https://localhost:8080/"
    },
    "id": "WYG11slwrJgB",
    "outputId": "69a56e17-f7ff-464f-930d-3106a7b47e3d"
   },
   "outputs": [
    {
     "data": {
      "text/plain": [
       "0"
      ]
     },
     "execution_count": 112,
     "metadata": {},
     "output_type": "execute_result"
    }
   ],
   "source": [
    "df['filed_complaint'].isnull().sum()"
   ]
  },
  {
   "cell_type": "code",
   "execution_count": null,
   "metadata": {
    "colab": {
     "base_uri": "https://localhost:8080/"
    },
    "id": "E5P0kxuorNff",
    "outputId": "e4f550f9-0564-4869-ec79-852cf7573687"
   },
   "outputs": [
    {
     "data": {
      "text/plain": [
       "13669"
      ]
     },
     "execution_count": 113,
     "metadata": {},
     "output_type": "execute_result"
    }
   ],
   "source": [
    "df['recently_promoted'].isnull().sum()"
   ]
  },
  {
   "cell_type": "code",
   "execution_count": null,
   "metadata": {
    "id": "COT-aYFYrNju"
   },
   "outputs": [],
   "source": [
    "df['recently_promoted'] = df['recently_promoted'].fillna(0)"
   ]
  },
  {
   "cell_type": "code",
   "execution_count": null,
   "metadata": {
    "colab": {
     "base_uri": "https://localhost:8080/"
    },
    "id": "j024HVIsrNte",
    "outputId": "02996801-260e-4b9f-88d9-af5b23a6a4aa"
   },
   "outputs": [
    {
     "data": {
      "text/plain": [
       "0"
      ]
     },
     "execution_count": 125,
     "metadata": {},
     "output_type": "execute_result"
    }
   ],
   "source": [
    "df['recently_promoted'].isnull().sum()"
   ]
  },
  {
   "cell_type": "code",
   "execution_count": null,
   "metadata": {
    "colab": {
     "base_uri": "https://localhost:8080/"
    },
    "id": "58CD94bDrjX5",
    "outputId": "87def44f-177c-4ae0-8d2c-1f25354b01ea"
   },
   "outputs": [
    {
     "data": {
      "text/plain": [
       "0"
      ]
     },
     "execution_count": 123,
     "metadata": {},
     "output_type": "execute_result"
    }
   ],
   "source": [
    "df['tenure'].isnull().sum() #13966"
   ]
  },
  {
   "cell_type": "code",
   "execution_count": null,
   "metadata": {
    "id": "uQCW5pkhrjbR"
   },
   "outputs": [],
   "source": [
    " df['tenure'].fillna((df['tenure'].mean()),inplace=True)\n",
    "\n"
   ]
  },
  {
   "cell_type": "code",
   "execution_count": null,
   "metadata": {
    "colab": {
     "base_uri": "https://localhost:8080/"
    },
    "id": "ry5oDzr4rjec",
    "outputId": "121411bb-bb17-4a71-c93a-f7fa636cf212"
   },
   "outputs": [
    {
     "data": {
      "text/plain": [
       "913"
      ]
     },
     "execution_count": 124,
     "metadata": {},
     "output_type": "execute_result"
    }
   ],
   "source": [
    "df['dept_name'].isnull().sum()"
   ]
  },
  {
   "cell_type": "code",
   "execution_count": null,
   "metadata": {
    "colab": {
     "base_uri": "https://localhost:8080/"
    },
    "id": "82KMUD-aupZ8",
    "outputId": "86569ce9-8b05-4df8-d19e-3970fb42bf39"
   },
   "outputs": [
    {
     "name": "stdout",
     "output_type": "stream",
     "text": [
      "<class 'pandas.core.frame.DataFrame'>\n",
      "Int64Index: 13966 entries, 0 to 14144\n",
      "Data columns (total 16 columns):\n",
      " #   Column             Non-Null Count  Dtype  \n",
      "---  ------             --------------  -----  \n",
      " 0   employee_id        13966 non-null  int64  \n",
      " 1   age                13966 non-null  int64  \n",
      " 2   gender             13966 non-null  object \n",
      " 3   marital_status     13966 non-null  object \n",
      " 4   department         13966 non-null  object \n",
      " 5   salary             13966 non-null  object \n",
      " 6   tenure             13966 non-null  int64  \n",
      " 7   recently_promoted  13966 non-null  float64\n",
      " 8   n_projects         0 non-null      float64\n",
      " 9   avg_monthly_hrs    13966 non-null  int64  \n",
      " 10  satisfaction       13966 non-null  float64\n",
      " 11  last_evaluation    12629 non-null  float64\n",
      " 12  filed_complaint    13966 non-null  float64\n",
      " 13  dept_id            13966 non-null  object \n",
      " 14  dept_name          13053 non-null  object \n",
      " 15  dept_head          13053 non-null  object \n",
      "dtypes: float64(5), int64(4), object(7)\n",
      "memory usage: 1.8+ MB\n"
     ]
    }
   ],
   "source": [
    "df.info()"
   ]
  },
  {
   "cell_type": "code",
   "execution_count": null,
   "metadata": {
    "id": "FIpsiT7yxoRz"
   },
   "outputs": [],
   "source": [
    "df['dept_name'] = df['dept_name'].fillna(0)"
   ]
  },
  {
   "cell_type": "code",
   "execution_count": null,
   "metadata": {
    "colab": {
     "base_uri": "https://localhost:8080/"
    },
    "id": "jiAh9Q1RY89t",
    "outputId": "c7d2d9dc-7b25-4c1a-e6b8-94af7ffc2ded"
   },
   "outputs": [
    {
     "data": {
      "text/plain": [
       "0"
      ]
     },
     "execution_count": 129,
     "metadata": {},
     "output_type": "execute_result"
    }
   ],
   "source": [
    "df['dept_name'].isnull().sum()"
   ]
  },
  {
   "cell_type": "code",
   "execution_count": null,
   "metadata": {
    "colab": {
     "base_uri": "https://localhost:8080/"
    },
    "id": "kYJtpSN7ZqaY",
    "outputId": "baea01e9-a00c-4584-9cd3-f2ef610e2eb8"
   },
   "outputs": [
    {
     "data": {
      "text/plain": [
       "0"
      ]
     },
     "execution_count": 134,
     "metadata": {},
     "output_type": "execute_result"
    }
   ],
   "source": [
    "df['satisfaction'].isnull().sum()"
   ]
  },
  {
   "cell_type": "code",
   "execution_count": null,
   "metadata": {
    "id": "3Pm9E6RQZxL0"
   },
   "outputs": [],
   "source": [
    "#df['n_projects'].isnull()."
   ]
  },
  {
   "cell_type": "code",
   "execution_count": null,
   "metadata": {
    "colab": {
     "base_uri": "https://localhost:8080/"
    },
    "id": "1DxaxzyTZSuT",
    "outputId": "11d321fe-5cee-4c47-f54a-e7189a1175ef"
   },
   "outputs": [
    {
     "name": "stdout",
     "output_type": "stream",
     "text": [
      "<class 'pandas.core.frame.DataFrame'>\n",
      "Int64Index: 13966 entries, 0 to 14144\n",
      "Data columns (total 16 columns):\n",
      " #   Column             Non-Null Count  Dtype  \n",
      "---  ------             --------------  -----  \n",
      " 0   employee_id        13966 non-null  int64  \n",
      " 1   age                13966 non-null  int64  \n",
      " 2   gender             13966 non-null  object \n",
      " 3   marital_status     13966 non-null  object \n",
      " 4   department         13966 non-null  object \n",
      " 5   salary             13966 non-null  object \n",
      " 6   tenure             13966 non-null  int64  \n",
      " 7   recently_promoted  13966 non-null  float64\n",
      " 8   n_projects         0 non-null      float64\n",
      " 9   avg_monthly_hrs    13966 non-null  int64  \n",
      " 10  satisfaction       13966 non-null  float64\n",
      " 11  last_evaluation    12629 non-null  float64\n",
      " 12  filed_complaint    13966 non-null  float64\n",
      " 13  dept_id            13966 non-null  object \n",
      " 14  dept_name          13966 non-null  object \n",
      " 15  dept_head          13053 non-null  object \n",
      "dtypes: float64(5), int64(4), object(7)\n",
      "memory usage: 1.8+ MB\n"
     ]
    }
   ],
   "source": [
    "df.info()"
   ]
  },
  {
   "cell_type": "code",
   "execution_count": null,
   "metadata": {
    "id": "IbZpUuBDrjk_"
   },
   "outputs": [],
   "source": [
    "#df_merge[['tenure']] = df_merge['tenure'].apply(pd.to_numeric)\n",
    "print(df_merge.dtypes)"
   ]
  },
  {
   "cell_type": "code",
   "execution_count": null,
   "metadata": {
    "colab": {
     "base_uri": "https://localhost:8080/"
    },
    "id": "NJ8wjNMqeEGf",
    "outputId": "d90a9f81-755c-4f38-f14a-a2b84f7b2682"
   },
   "outputs": [
    {
     "data": {
      "text/plain": [
       "dept_name      4808\n",
       "Engineering    2573\n",
       "Support        2108\n",
       "IT             1152\n",
       "Product         853\n",
       "Marketing       812\n",
       "Finance         722\n",
       "Management      590\n",
       "Admin           175\n",
       "Procurement     173\n",
       "Name: dept_name, dtype: int64"
      ]
     },
     "execution_count": 167,
     "metadata": {},
     "output_type": "execute_result"
    }
   ],
   "source": [
    "df['dept_name'].value_counts()"
   ]
  },
  {
   "cell_type": "code",
   "execution_count": null,
   "metadata": {
    "colab": {
     "base_uri": "https://localhost:8080/"
    },
    "id": "r-Si7Kf8sXIV",
    "outputId": "0880a652-7b83-4425-dd48-8109def54014"
   },
   "outputs": [
    {
     "data": {
      "text/plain": [
       "1.000000    356\n",
       "0.366453      2\n",
       "0.938705      2\n",
       "0.894093      2\n",
       "0.645717      2\n",
       "           ... \n",
       "0.891392      1\n",
       "0.529100      1\n",
       "0.888514      1\n",
       "0.613921      1\n",
       "0.105267      1\n",
       "Name: satisfaction, Length: 13492, dtype: int64"
      ]
     },
     "execution_count": 188,
     "metadata": {},
     "output_type": "execute_result"
    }
   ],
   "source": [
    "df['satisfaction'].value_counts()\n",
    "       "
   ]
  },
  {
   "cell_type": "code",
   "execution_count": null,
   "metadata": {
    "colab": {
     "base_uri": "https://localhost:8080/"
    },
    "id": "aviBv3grufEC",
    "outputId": "06bbe627-885a-4508-9c88-8c9ae9055da2"
   },
   "outputs": [
    {
     "data": {
      "text/plain": [
       "0.0    13669\n",
       "1.0      297\n",
       "Name: recently_promoted, dtype: int64"
      ]
     },
     "execution_count": 198,
     "metadata": {},
     "output_type": "execute_result"
    }
   ],
   "source": [
    "df['recently_promoted'].value_counts()\n",
    "  "
   ]
  },
  {
   "cell_type": "code",
   "execution_count": null,
   "metadata": {
    "colab": {
     "base_uri": "https://localhost:8080/"
    },
    "id": "8iGg1cm6r1U1",
    "outputId": "8779cde1-6d61-44a4-8aff-0e3291126bf5"
   },
   "outputs": [
    {
     "data": {
      "text/plain": [
       "Unmarried    7062\n",
       "Married      6904\n",
       "Name: marital_status, dtype: int64"
      ]
     },
     "execution_count": 184,
     "metadata": {},
     "output_type": "execute_result"
    }
   ],
   "source": [
    "df['marital_status'].value_counts()"
   ]
  },
  {
   "cell_type": "code",
   "execution_count": null,
   "metadata": {
    "id": "A4JnFUS4f59r"
   },
   "outputs": [],
   "source": [
    "dff=df"
   ]
  },
  {
   "cell_type": "code",
   "execution_count": null,
   "metadata": {
    "colab": {
     "base_uri": "https://localhost:8080/"
    },
    "id": "DQyPQiXmf-vk",
    "outputId": "fb310fea-c598-48fc-e976-ae603264e3ff"
   },
   "outputs": [
    {
     "data": {
      "text/plain": [
       "Sales          4808\n",
       "Engineering    2573\n",
       "Support        2108\n",
       "IT             1152\n",
       "Product         853\n",
       "Marketing       812\n",
       "Finance         722\n",
       "Management      590\n",
       "Admin           175\n",
       "Procurement     173\n",
       "Name: dept_name, dtype: int64"
      ]
     },
     "execution_count": 169,
     "metadata": {},
     "output_type": "execute_result"
    }
   ],
   "source": [
    "dff['dept_name'].value_counts()"
   ]
  },
  {
   "cell_type": "code",
   "execution_count": null,
   "metadata": {
    "id": "3l93aVXTgB9P"
   },
   "outputs": [],
   "source": [
    "df.loc[dff.dept_id == 'D00-SS', ['dept_name']] = 'Sales'\n"
   ]
  },
  {
   "cell_type": "code",
   "execution_count": null,
   "metadata": {
    "id": "MEXpQyw6fUd7"
   },
   "outputs": [],
   "source": [
    "df['dept_name'] = np.where(df['dept_id'] == 2, 10,20)\n"
   ]
  },
  {
   "cell_type": "code",
   "execution_count": null,
   "metadata": {
    "colab": {
     "base_uri": "https://localhost:8080/"
    },
    "id": "w3kKZ9MwdjCq",
    "outputId": "1685ed0f-d405-4a20-8adb-717aa18d781d"
   },
   "outputs": [
    {
     "data": {
      "text/plain": [
       "D00-SS     4808\n",
       "D00-ENG    2573\n",
       "D00-SP     2108\n",
       "D00-IT     1152\n",
       "D00-PD      853\n",
       "D00-MT      812\n",
       "D00-FN      722\n",
       "D00-MN      590\n",
       "D00-AD      175\n",
       "D00-PR      173\n",
       "Name: dept_id, dtype: int64"
      ]
     },
     "execution_count": 155,
     "metadata": {},
     "output_type": "execute_result"
    }
   ],
   "source": [
    "df['dept_id'].value_counts()"
   ]
  },
  {
   "cell_type": "code",
   "execution_count": null,
   "metadata": {
    "colab": {
     "base_uri": "https://localhost:8080/"
    },
    "id": "efQD-2N7ewYc",
    "outputId": "5900d73a-ee45-49ce-88af-9f21b7547e74"
   },
   "outputs": [
    {
     "data": {
      "text/plain": [
       "D00-SS     4808\n",
       "D00-ENG    2573\n",
       "D00-SP     2108\n",
       "D00-IT     1152\n",
       "D00-PD      853\n",
       "D00-MT      812\n",
       "D00-FN      722\n",
       "D00-MN      590\n",
       "D00-AD      175\n",
       "D00-PR      173\n",
       "Name: department, dtype: int64"
      ]
     },
     "execution_count": 156,
     "metadata": {},
     "output_type": "execute_result"
    }
   ],
   "source": [
    "df['department'].value_counts()"
   ]
  },
  {
   "cell_type": "code",
   "execution_count": null,
   "metadata": {
    "colab": {
     "base_uri": "https://localhost:8080/"
    },
    "id": "QfYF4fnbqe2K",
    "outputId": "87c9bc1d-f1b6-41e1-e513-75abe472b8f8"
   },
   "outputs": [
    {
     "data": {
      "text/plain": [
       "low       6825\n",
       "medium    6009\n",
       "high      1132\n",
       "Name: salary, dtype: int64"
      ]
     },
     "execution_count": 179,
     "metadata": {},
     "output_type": "execute_result"
    }
   ],
   "source": [
    "df['salary'].value_counts()"
   ]
  },
  {
   "cell_type": "code",
   "execution_count": null,
   "metadata": {
    "colab": {
     "base_uri": "https://localhost:8080/",
     "height": 461
    },
    "id": "-VW3HxBRqQ4B",
    "outputId": "f71ef7c7-ecc5-42c2-f778-b19291188300"
   },
   "outputs": [
    {
     "data": {
      "text/plain": [
       "Text(0.5, 1.0, 'Pie chart showing the proportion of Salary in Attrition')"
      ]
     },
     "execution_count": 185,
     "metadata": {},
     "output_type": "execute_result"
    },
    {
     "data": {
      "image/png": "[encoded data removed]",
      "text/plain": [
       "<Figure size 500x500 with 1 Axes>"
      ]
     },
     "metadata": {},
     "output_type": "display_data"
    }
   ],
   "source": [
    "df['salary'].value_counts().plot(kind='pie', explode=[0.05,0.05,0.05], fontsize=12, autopct='%3.1f%%', \n",
    "                                               figsize=(5,5), shadow=True, startangle=135, legend=True, cmap='summer')\n",
    "\n",
    "plt.ylabel('salary')\n",
    "plt.title('Pie chart showing the proportion of Salary in Attrition')"
   ]
  },
  {
   "cell_type": "code",
   "execution_count": null,
   "metadata": {
    "colab": {
     "base_uri": "https://localhost:8080/",
     "height": 461
    },
    "id": "XFz0SAcxupEc",
    "outputId": "ea6497cb-e6b0-47de-b542-bd608e454e8e"
   },
   "outputs": [
    {
     "data": {
      "text/plain": [
       "Text(0.5, 1.0, 'Pie chart showing the proportion of Salary in Attrition')"
      ]
     },
     "execution_count": 200,
     "metadata": {},
     "output_type": "execute_result"
    },
    {
     "data": {
      "image/png": "[encoded data removed]",
      "text/plain": [
       "<Figure size 500x500 with 1 Axes>"
      ]
     },
     "metadata": {},
     "output_type": "display_data"
    }
   ],
   "source": [
    "df['recently_promoted'].value_counts().plot(kind='pie', explode=[0.05,0.05], fontsize=12, autopct='%3.1f%%', \n",
    "                                               figsize=(5,5), shadow=True, startangle=135, legend=True, cmap='summer')\n",
    "\n",
    "plt.ylabel('recently_promoted')\n",
    "plt.title('Pie chart showing the proportion of Salary in Attrition')"
   ]
  },
  {
   "cell_type": "code",
   "execution_count": null,
   "metadata": {
    "colab": {
     "base_uri": "https://localhost:8080/",
     "height": 461
    },
    "id": "o7yNOl-jrb7r",
    "outputId": "bfcea333-1fdf-404d-f0eb-57f280b2c81f"
   },
   "outputs": [
    {
     "data": {
      "text/plain": [
       "Text(0.5, 1.0, 'Pie chart showing the proportion of marital_status in Attrition')"
      ]
     },
     "execution_count": 187,
     "metadata": {},
     "output_type": "execute_result"
    },
    {
     "data": {
      "image/png": "[encoded data removed]",
      "text/plain": [
       "<Figure size 500x500 with 1 Axes>"
      ]
     },
     "metadata": {},
     "output_type": "display_data"
    }
   ],
   "source": [
    "df['marital_status'].value_counts().plot(kind='pie', explode=[0.05,0.05], fontsize=12, autopct='%3.1f%%', \n",
    "                                               figsize=(5,5), shadow=True, startangle=135, legend=True, cmap='summer')\n",
    "\n",
    "plt.ylabel('marital_status')\n",
    "plt.title('Pie chart showing the proportion of marital_status in Attrition')"
   ]
  },
  {
   "cell_type": "code",
   "execution_count": null,
   "metadata": {
    "colab": {
     "base_uri": "https://localhost:8080/",
     "height": 615
    },
    "id": "ELP9x1IQsM_H",
    "outputId": "3499c242-1c52-4a73-9580-8a85bc521262"
   },
   "outputs": [
    {
     "data": {
      "text/plain": [
       "Text(0.5, 1.0, 'Pie chart showing the proportion of dept_name in Attrition')"
      ]
     },
     "execution_count": 197,
     "metadata": {},
     "output_type": "execute_result"
    },
    {
     "data": {
      "image/png": "[encoded data removed]",
      "text/plain": [
       "<Figure size 700x700 with 1 Axes>"
      ]
     },
     "metadata": {},
     "output_type": "display_data"
    }
   ],
   "source": [
    "df['dept_name'].value_counts().plot(kind='pie',  fontsize=6, autopct='%3.1f%%', \n",
    "                                               figsize=(7,7), shadow=True, startangle=135, legend=True, cmap='summer')\n",
    "\n",
    "plt.ylabel('dept_name')\n",
    "plt.title('Pie chart showing the proportion of dept_name in Attrition')"
   ]
  },
  {
   "cell_type": "code",
   "execution_count": null,
   "metadata": {
    "colab": {
     "base_uri": "https://localhost:8080/",
     "height": 507
    },
    "id": "UXENjHwNiFMf",
    "outputId": "4f642022-51da-4b85-b746-9b8e1dc9ccd3"
   },
   "outputs": [
    {
     "data": {
      "text/plain": [
       "Text(0.5, 1.0, 'Attrition by Department')"
      ]
     },
     "execution_count": 171,
     "metadata": {},
     "output_type": "execute_result"
    },
    {
     "data": {
      "image/png": "[encoded data removed]",
      "text/plain": [
       "<Figure size 1500x600 with 1 Axes>"
      ]
     },
     "metadata": {},
     "output_type": "display_data"
    }
   ],
   "source": [
    "plt.figure(figsize = (15, 6))\n",
    "df.groupby('dept_name')['employee_id'].count().sort_values(ascending=False).plot(kind='bar', color='g')\n",
    "plt.ylabel('Count')\n",
    "plt.title('Attrition by Department')"
   ]
  },
  {
   "cell_type": "code",
   "execution_count": null,
   "metadata": {
    "colab": {
     "base_uri": "https://localhost:8080/",
     "height": 481
    },
    "id": "Zg9c1VEKpl3P",
    "outputId": "3d4207bd-ed28-4444-ad11-9378971d47d0"
   },
   "outputs": [
    {
     "data": {
      "text/plain": [
       "Text(0.5, 1.0, 'Attrition by Department')"
      ]
     },
     "execution_count": 178,
     "metadata": {},
     "output_type": "execute_result"
    },
    {
     "data": {
      "image/png": "[encoded data removed]",
      "text/plain": [
       "<Figure size 1500x600 with 1 Axes>"
      ]
     },
     "metadata": {},
     "output_type": "display_data"
    }
   ],
   "source": [
    "plt.figure(figsize = (15, 6))\n",
    "df.groupby('salary')['employee_id'].count().sort_values(ascending=False).plot(kind='bar', color='g')\n",
    "plt.ylabel('Count')\n",
    "plt.title('Attrition by Department')"
   ]
  },
  {
   "cell_type": "code",
   "execution_count": null,
   "metadata": {
    "colab": {
     "base_uri": "https://localhost:8080/",
     "height": 541
    },
    "id": "Kc9HGmO7kI95",
    "outputId": "65407033-8844-4e2b-900f-11cc8171ee96"
   },
   "outputs": [
    {
     "data": {
      "text/plain": [
       "Text(0.5, 1.0, 'Department Vs Tenure ')"
      ]
     },
     "execution_count": 177,
     "metadata": {},
     "output_type": "execute_result"
    },
    {
     "data": {
      "image/png": "[encoded data removed]",
      "text/plain": [
       "<Figure size 1600x700 with 1 Axes>"
      ]
     },
     "metadata": {},
     "output_type": "display_data"
    }
   ],
   "source": [
    "plt.figure(figsize=(16, 7))\n",
    "sns.boxplot(data=df, x='dept_name', y='tenure', palette='viridis', width=0.8)\n",
    "plt.xticks(rotation=90)\n",
    "plt.title('Department Vs Tenure ')"
   ]
  },
  {
   "cell_type": "code",
   "execution_count": null,
   "metadata": {
    "colab": {
     "base_uri": "https://localhost:8080/",
     "height": 516
    },
    "id": "aExFITfMptCG",
    "outputId": "46e78142-0a5f-4d0b-a9a2-3db583c920b5"
   },
   "outputs": [
    {
     "data": {
      "text/plain": [
       "Text(0.5, 1.0, 'Salary Vs Tenure ')"
      ]
     },
     "execution_count": 175,
     "metadata": {},
     "output_type": "execute_result"
    },
    {
     "data": {
      "image/png": "[encoded data removed]",
      "text/plain": [
       "<Figure size 1600x700 with 1 Axes>"
      ]
     },
     "metadata": {},
     "output_type": "display_data"
    }
   ],
   "source": [
    "plt.figure(figsize=(16, 7))\n",
    "sns.boxplot(data=df, x='salary', y='tenure', palette='viridis', width=0.8)\n",
    "plt.xticks(rotation=90)\n",
    "plt.title('Salary Vs Tenure ')"
   ]
  },
  {
   "cell_type": "markdown",
   "metadata": {
    "id": "fqCn_Rnuvb6g"
   },
   "source": [
    "** OBSERVATION\n",
    "\n",
    "1. 48.9% employee leaving organization are on low salary\n",
    "2. 43% employee leaving organization are on medium salary\n",
    "3. Only 8.1% emloyees leaving on high salary \n",
    "4. 97.9% employees leaving have not been promoted recently\n",
    "5. 34.4% employees leaving are from Sales Dept, followed by \n",
    "engineering 18.4% and support by 15.1% followed by IT 8%\n"
   ]
  },
  {
   "cell_type": "code",
   "execution_count": 263,
   "metadata": {
    "colab": {
     "base_uri": "https://localhost:8080/"
    },
    "id": "k1rP4B0ww5vY",
    "outputId": "c46cd62f-f065-454f-e068-a78f9c841714"
   },
   "outputs": [
    {
     "name": "stdout",
     "output_type": "stream",
     "text": [
      "The autoreload extension is already loaded. To reload it, use:\n",
      "  %reload_ext autoreload\n"
     ]
    }
   ],
   "source": [
    "%load_ext autoreload\n",
    "%autoreload 2\n"
   ]
  },
  {
   "cell_type": "code",
   "execution_count": 264,
   "metadata": {
    "colab": {
     "base_uri": "https://localhost:8080/"
    },
    "id": "-2LCtEa0x8cw",
    "outputId": "777f235d-6613-43dd-bdd7-0d51b2bb1c2b"
   },
   "outputs": [
    {
     "name": "stdout",
     "output_type": "stream",
     "text": [
      "Requirement already satisfied: pandas-profiling[notebook] in /usr/local/lib/python3.7/dist-packages (3.1.1)\n",
      "Requirement already satisfied: joblib~=1.1.0 in /usr/local/lib/python3.7/dist-packages (from pandas-profiling[notebook]) (1.1.0)\n",
      "Requirement already satisfied: pandas!=1.0.0,!=1.0.1,!=1.0.2,!=1.1.0,>=0.25.3 in /usr/local/lib/python3.7/dist-packages (from pandas-profiling[notebook]) (1.3.5)\n",
      "Requirement already satisfied: matplotlib>=3.2.0 in /usr/local/lib/python3.7/dist-packages (from pandas-profiling[notebook]) (3.2.2)\n",
      "Requirement already satisfied: visions[type_image_path]==0.7.4 in /usr/local/lib/python3.7/dist-packages (from pandas-profiling[notebook]) (0.7.4)\n",
      "Requirement already satisfied: scipy>=1.4.1 in /usr/local/lib/python3.7/dist-packages (from pandas-profiling[notebook]) (1.7.3)\n",
      "Requirement already satisfied: seaborn>=0.10.1 in /usr/local/lib/python3.7/dist-packages (from pandas-profiling[notebook]) (0.11.2)\n",
      "Requirement already satisfied: multimethod>=1.4 in /usr/local/lib/python3.7/dist-packages (from pandas-profiling[notebook]) (1.8)\n",
      "Requirement already satisfied: numpy>=1.16.0 in /usr/local/lib/python3.7/dist-packages (from pandas-profiling[notebook]) (1.21.5)\n",
      "Requirement already satisfied: missingno>=0.4.2 in /usr/local/lib/python3.7/dist-packages (from pandas-profiling[notebook]) (0.5.1)\n",
      "Requirement already satisfied: markupsafe~=2.0.1 in /usr/local/lib/python3.7/dist-packages (from pandas-profiling[notebook]) (2.0.1)\n",
      "Requirement already satisfied: requests>=2.24.0 in /usr/local/lib/python3.7/dist-packages (from pandas-profiling[notebook]) (2.27.1)\n",
      "Requirement already satisfied: pydantic>=1.8.1 in /usr/local/lib/python3.7/dist-packages (from pandas-profiling[notebook]) (1.9.0)\n",
      "Requirement already satisfied: tangled-up-in-unicode==0.2.0 in /usr/local/lib/python3.7/dist-packages (from pandas-profiling[notebook]) (0.2.0)\n",
      "Requirement already satisfied: jinja2>=2.11.1 in /usr/local/lib/python3.7/dist-packages (from pandas-profiling[notebook]) (2.11.3)\n",
      "Requirement already satisfied: phik>=0.11.1 in /usr/local/lib/python3.7/dist-packages (from pandas-profiling[notebook]) (0.12.2)\n",
      "Requirement already satisfied: PyYAML>=5.0.0 in /usr/local/lib/python3.7/dist-packages (from pandas-profiling[notebook]) (6.0)\n",
      "Requirement already satisfied: htmlmin>=0.1.12 in /usr/local/lib/python3.7/dist-packages (from pandas-profiling[notebook]) (0.1.12)\n",
      "Requirement already satisfied: tqdm>=4.48.2 in /usr/local/lib/python3.7/dist-packages (from pandas-profiling[notebook]) (4.64.0)\n",
      "Requirement already satisfied: jupyter-core>=4.6.3 in /usr/local/lib/python3.7/dist-packages (from pandas-profiling[notebook]) (4.9.2)\n",
      "Requirement already satisfied: jupyter-client>=6.0.0 in /usr/local/lib/python3.7/dist-packages (from pandas-profiling[notebook]) (7.2.2)\n",
      "Requirement already satisfied: ipywidgets>=7.5.1 in /usr/local/lib/python3.7/dist-packages (from pandas-profiling[notebook]) (7.7.0)\n",
      "Requirement already satisfied: networkx>=2.4 in /usr/local/lib/python3.7/dist-packages (from visions[type_image_path]==0.7.4->pandas-profiling[notebook]) (2.6.3)\n",
      "Requirement already satisfied: attrs>=19.3.0 in /usr/local/lib/python3.7/dist-packages (from visions[type_image_path]==0.7.4->pandas-profiling[notebook]) (21.4.0)\n",
      "Requirement already satisfied: imagehash in /usr/local/lib/python3.7/dist-packages (from visions[type_image_path]==0.7.4->pandas-profiling[notebook]) (4.2.1)\n",
      "Requirement already satisfied: Pillow in /usr/local/lib/python3.7/dist-packages (from visions[type_image_path]==0.7.4->pandas-profiling[notebook]) (7.1.2)\n",
      "Requirement already satisfied: ipykernel>=4.5.1 in /usr/local/lib/python3.7/dist-packages (from ipywidgets>=7.5.1->pandas-profiling[notebook]) (4.10.1)\n",
      "Requirement already satisfied: ipython-genutils~=0.2.0 in /usr/local/lib/python3.7/dist-packages (from ipywidgets>=7.5.1->pandas-profiling[notebook]) (0.2.0)\n",
      "Requirement already satisfied: widgetsnbextension~=3.6.0 in /usr/local/lib/python3.7/dist-packages (from ipywidgets>=7.5.1->pandas-profiling[notebook]) (3.6.0)\n",
      "Requirement already satisfied: jupyterlab-widgets>=1.0.0 in /usr/local/lib/python3.7/dist-packages (from ipywidgets>=7.5.1->pandas-profiling[notebook]) (1.1.0)\n",
      "Requirement already satisfied: ipython>=4.0.0 in /usr/local/lib/python3.7/dist-packages (from ipywidgets>=7.5.1->pandas-profiling[notebook]) (5.5.0)\n",
      "Requirement already satisfied: nbformat>=4.2.0 in /usr/local/lib/python3.7/dist-packages (from ipywidgets>=7.5.1->pandas-profiling[notebook]) (5.3.0)\n",
      "Requirement already satisfied: traitlets>=4.3.1 in /usr/local/lib/python3.7/dist-packages (from ipywidgets>=7.5.1->pandas-profiling[notebook]) (5.1.1)\n",
      "Requirement already satisfied: tornado>=4.0 in /usr/local/lib/python3.7/dist-packages (from ipykernel>=4.5.1->ipywidgets>=7.5.1->pandas-profiling[notebook]) (6.1)\n",
      "Requirement already satisfied: pygments in /usr/local/lib/python3.7/dist-packages (from ipython>=4.0.0->ipywidgets>=7.5.1->pandas-profiling[notebook]) (2.6.1)\n",
      "Requirement already satisfied: pickleshare in /usr/local/lib/python3.7/dist-packages (from ipython>=4.0.0->ipywidgets>=7.5.1->pandas-profiling[notebook]) (0.7.5)\n",
      "Requirement already satisfied: pexpect in /usr/local/lib/python3.7/dist-packages (from ipython>=4.0.0->ipywidgets>=7.5.1->pandas-profiling[notebook]) (4.8.0)\n",
      "Requirement already satisfied: setuptools>=18.5 in /usr/local/lib/python3.7/dist-packages (from ipython>=4.0.0->ipywidgets>=7.5.1->pandas-profiling[notebook]) (57.4.0)\n",
      "Requirement already satisfied: decorator in /usr/local/lib/python3.7/dist-packages (from ipython>=4.0.0->ipywidgets>=7.5.1->pandas-profiling[notebook]) (4.4.2)\n",
      "Requirement already satisfied: prompt-toolkit<2.0.0,>=1.0.4 in /usr/local/lib/python3.7/dist-packages (from ipython>=4.0.0->ipywidgets>=7.5.1->pandas-profiling[notebook]) (1.0.18)\n",
      "Requirement already satisfied: simplegeneric>0.8 in /usr/local/lib/python3.7/dist-packages (from ipython>=4.0.0->ipywidgets>=7.5.1->pandas-profiling[notebook]) (0.8.1)\n",
      "Requirement already satisfied: entrypoints in /usr/local/lib/python3.7/dist-packages (from jupyter-client>=6.0.0->pandas-profiling[notebook]) (0.4)\n",
      "Requirement already satisfied: python-dateutil>=2.8.2 in /usr/local/lib/python3.7/dist-packages (from jupyter-client>=6.0.0->pandas-profiling[notebook]) (2.8.2)\n",
      "Requirement already satisfied: pyzmq>=22.3 in /usr/local/lib/python3.7/dist-packages (from jupyter-client>=6.0.0->pandas-profiling[notebook]) (22.3.0)\n",
      "Requirement already satisfied: nest-asyncio>=1.5.4 in /usr/local/lib/python3.7/dist-packages (from jupyter-client>=6.0.0->pandas-profiling[notebook]) (1.5.5)\n",
      "Requirement already satisfied: pyparsing!=2.0.4,!=2.1.2,!=2.1.6,>=2.0.1 in /usr/local/lib/python3.7/dist-packages (from matplotlib>=3.2.0->pandas-profiling[notebook]) (3.0.8)\n",
      "Requirement already satisfied: kiwisolver>=1.0.1 in /usr/local/lib/python3.7/dist-packages (from matplotlib>=3.2.0->pandas-profiling[notebook]) (1.4.2)\n",
      "Requirement already satisfied: cycler>=0.10 in /usr/local/lib/python3.7/dist-packages (from matplotlib>=3.2.0->pandas-profiling[notebook]) (0.11.0)\n",
      "Requirement already satisfied: typing-extensions in /usr/local/lib/python3.7/dist-packages (from kiwisolver>=1.0.1->matplotlib>=3.2.0->pandas-profiling[notebook]) (4.1.1)\n",
      "Requirement already satisfied: fastjsonschema in /usr/local/lib/python3.7/dist-packages (from nbformat>=4.2.0->ipywidgets>=7.5.1->pandas-profiling[notebook]) (2.15.3)\n",
      "Requirement already satisfied: jsonschema>=2.6 in /usr/local/lib/python3.7/dist-packages (from nbformat>=4.2.0->ipywidgets>=7.5.1->pandas-profiling[notebook]) (4.3.3)\n",
      "Requirement already satisfied: pyrsistent!=0.17.0,!=0.17.1,!=0.17.2,>=0.14.0 in /usr/local/lib/python3.7/dist-packages (from jsonschema>=2.6->nbformat>=4.2.0->ipywidgets>=7.5.1->pandas-profiling[notebook]) (0.18.1)\n",
      "Requirement already satisfied: importlib-metadata in /usr/local/lib/python3.7/dist-packages (from jsonschema>=2.6->nbformat>=4.2.0->ipywidgets>=7.5.1->pandas-profiling[notebook]) (4.11.3)\n",
      "Requirement already satisfied: importlib-resources>=1.4.0 in /usr/local/lib/python3.7/dist-packages (from jsonschema>=2.6->nbformat>=4.2.0->ipywidgets>=7.5.1->pandas-profiling[notebook]) (5.6.0)\n",
      "Requirement already satisfied: zipp>=3.1.0 in /usr/local/lib/python3.7/dist-packages (from importlib-resources>=1.4.0->jsonschema>=2.6->nbformat>=4.2.0->ipywidgets>=7.5.1->pandas-profiling[notebook]) (3.8.0)\n",
      "Requirement already satisfied: pytz>=2017.3 in /usr/local/lib/python3.7/dist-packages (from pandas!=1.0.0,!=1.0.1,!=1.0.2,!=1.1.0,>=0.25.3->pandas-profiling[notebook]) (2018.9)\n",
      "Requirement already satisfied: six>=1.9.0 in /usr/local/lib/python3.7/dist-packages (from prompt-toolkit<2.0.0,>=1.0.4->ipython>=4.0.0->ipywidgets>=7.5.1->pandas-profiling[notebook]) (1.15.0)\n",
      "Requirement already satisfied: wcwidth in /usr/local/lib/python3.7/dist-packages (from prompt-toolkit<2.0.0,>=1.0.4->ipython>=4.0.0->ipywidgets>=7.5.1->pandas-profiling[notebook]) (0.2.5)\n",
      "Requirement already satisfied: urllib3<1.27,>=1.21.1 in /usr/local/lib/python3.7/dist-packages (from requests>=2.24.0->pandas-profiling[notebook]) (1.24.3)\n",
      "Requirement already satisfied: certifi>=2017.4.17 in /usr/local/lib/python3.7/dist-packages (from requests>=2.24.0->pandas-profiling[notebook]) (2021.10.8)\n",
      "Requirement already satisfied: idna<4,>=2.5 in /usr/local/lib/python3.7/dist-packages (from requests>=2.24.0->pandas-profiling[notebook]) (2.10)\n",
      "Requirement already satisfied: charset-normalizer~=2.0.0 in /usr/local/lib/python3.7/dist-packages (from requests>=2.24.0->pandas-profiling[notebook]) (2.0.12)\n",
      "Requirement already satisfied: notebook>=4.4.1 in /usr/local/lib/python3.7/dist-packages (from widgetsnbextension~=3.6.0->ipywidgets>=7.5.1->pandas-profiling[notebook]) (5.3.1)\n",
      "Requirement already satisfied: nbconvert in /usr/local/lib/python3.7/dist-packages (from notebook>=4.4.1->widgetsnbextension~=3.6.0->ipywidgets>=7.5.1->pandas-profiling[notebook]) (5.6.1)\n",
      "Requirement already satisfied: terminado>=0.8.1 in /usr/local/lib/python3.7/dist-packages (from notebook>=4.4.1->widgetsnbextension~=3.6.0->ipywidgets>=7.5.1->pandas-profiling[notebook]) (0.13.3)\n",
      "Requirement already satisfied: Send2Trash in /usr/local/lib/python3.7/dist-packages (from notebook>=4.4.1->widgetsnbextension~=3.6.0->ipywidgets>=7.5.1->pandas-profiling[notebook]) (1.8.0)\n",
      "Requirement already satisfied: ptyprocess in /usr/local/lib/python3.7/dist-packages (from terminado>=0.8.1->notebook>=4.4.1->widgetsnbextension~=3.6.0->ipywidgets>=7.5.1->pandas-profiling[notebook]) (0.7.0)\n",
      "Requirement already satisfied: PyWavelets in /usr/local/lib/python3.7/dist-packages (from imagehash->visions[type_image_path]==0.7.4->pandas-profiling[notebook]) (1.3.0)\n",
      "Requirement already satisfied: defusedxml in /usr/local/lib/python3.7/dist-packages (from nbconvert->notebook>=4.4.1->widgetsnbextension~=3.6.0->ipywidgets>=7.5.1->pandas-profiling[notebook]) (0.7.1)\n",
      "Requirement already satisfied: mistune<2,>=0.8.1 in /usr/local/lib/python3.7/dist-packages (from nbconvert->notebook>=4.4.1->widgetsnbextension~=3.6.0->ipywidgets>=7.5.1->pandas-profiling[notebook]) (0.8.4)\n",
      "Requirement already satisfied: bleach in /usr/local/lib/python3.7/dist-packages (from nbconvert->notebook>=4.4.1->widgetsnbextension~=3.6.0->ipywidgets>=7.5.1->pandas-profiling[notebook]) (5.0.0)\n",
      "Requirement already satisfied: pandocfilters>=1.4.1 in /usr/local/lib/python3.7/dist-packages (from nbconvert->notebook>=4.4.1->widgetsnbextension~=3.6.0->ipywidgets>=7.5.1->pandas-profiling[notebook]) (1.5.0)\n",
      "Requirement already satisfied: testpath in /usr/local/lib/python3.7/dist-packages (from nbconvert->notebook>=4.4.1->widgetsnbextension~=3.6.0->ipywidgets>=7.5.1->pandas-profiling[notebook]) (0.6.0)\n",
      "Requirement already satisfied: webencodings in /usr/local/lib/python3.7/dist-packages (from bleach->nbconvert->notebook>=4.4.1->widgetsnbextension~=3.6.0->ipywidgets>=7.5.1->pandas-profiling[notebook]) (0.5.1)\n",
      "Enabling notebook extension jupyter-js-widgets/extension...\n",
      "Paths used for configuration of notebook: \n",
      "    \t/root/.jupyter/nbconfig/notebook.json\n",
      "      - Validating: \u001b[32mOK\u001b[0m\n",
      "Paths used for configuration of notebook: \n",
      "    \t/root/.jupyter/nbconfig/notebook.json\n"
     ]
    }
   ],
   "source": [
    "import sys\n",
    "\n",
    "!{sys.executable} -m pip install -U pandas-profiling[notebook]\n",
    "!jupyter nbextension enable --py widgetsnbextension"
   ]
  },
  {
   "cell_type": "code",
   "execution_count": 267,
   "metadata": {
    "id": "sW6j3YCEyBuY"
   },
   "outputs": [],
   "source": [
    "from pathlib import Path\n",
    "\n",
    "import numpy as np\n",
    "import pandas as pd\n",
    "import requests\n",
    "\n",
    "import pandas_profiling\n",
    "from pandas_profiling.utils.cache import cache_file"
   ]
  },
  {
   "cell_type": "code",
   "execution_count": 268,
   "metadata": {
    "colab": {
     "base_uri": "https://localhost:8080/",
     "height": 827
    },
    "id": "uQuaqWFI0cwr",
    "outputId": "be80ceb2-ac45-4886-bd0b-00d95e3768f7"
   },
   "outputs": [
    {
     "name": "stdout",
     "output_type": "stream",
     "text": [
      "Collecting https://github.com/pandas-profiling/pandas-profiling/archive/master.zip\n",
      "  Using cached https://github.com/pandas-profiling/pandas-profiling/archive/master.zip\n",
      "Requirement already satisfied: joblib~=1.1.0 in /usr/local/lib/python3.7/dist-packages (from pandas-profiling==3.1.1) (1.1.0)\n",
      "Requirement already satisfied: scipy>=1.4.1 in /usr/local/lib/python3.7/dist-packages (from pandas-profiling==3.1.1) (1.7.3)\n",
      "Requirement already satisfied: pandas!=1.0.0,!=1.0.1,!=1.0.2,!=1.1.0,>=0.25.3 in /usr/local/lib/python3.7/dist-packages (from pandas-profiling==3.1.1) (1.3.5)\n",
      "Requirement already satisfied: matplotlib>=3.2.0 in /usr/local/lib/python3.7/dist-packages (from pandas-profiling==3.1.1) (3.2.2)\n",
      "Requirement already satisfied: pydantic>=1.8.1 in /usr/local/lib/python3.7/dist-packages (from pandas-profiling==3.1.1) (1.9.0)\n",
      "Requirement already satisfied: PyYAML>=5.0.0 in /usr/local/lib/python3.7/dist-packages (from pandas-profiling==3.1.1) (6.0)\n",
      "Requirement already satisfied: jinja2>=2.11.1 in /usr/local/lib/python3.7/dist-packages (from pandas-profiling==3.1.1) (2.11.3)\n",
      "Requirement already satisfied: markupsafe~=2.0.1 in /usr/local/lib/python3.7/dist-packages (from pandas-profiling==3.1.1) (2.0.1)\n",
      "Requirement already satisfied: visions[type_image_path]==0.7.4 in /usr/local/lib/python3.7/dist-packages (from pandas-profiling==3.1.1) (0.7.4)\n",
      "Requirement already satisfied: numpy>=1.16.0 in /usr/local/lib/python3.7/dist-packages (from pandas-profiling==3.1.1) (1.21.5)\n",
      "Requirement already satisfied: htmlmin>=0.1.12 in /usr/local/lib/python3.7/dist-packages (from pandas-profiling==3.1.1) (0.1.12)\n",
      "Requirement already satisfied: missingno>=0.4.2 in /usr/local/lib/python3.7/dist-packages (from pandas-profiling==3.1.1) (0.5.1)\n",
      "Requirement already satisfied: phik>=0.11.1 in /usr/local/lib/python3.7/dist-packages (from pandas-profiling==3.1.1) (0.12.2)\n",
      "Requirement already satisfied: tangled-up-in-unicode==0.2.0 in /usr/local/lib/python3.7/dist-packages (from pandas-profiling==3.1.1) (0.2.0)\n",
      "Requirement already satisfied: requests>=2.24.0 in /usr/local/lib/python3.7/dist-packages (from pandas-profiling==3.1.1) (2.27.1)\n",
      "Requirement already satisfied: tqdm>=4.48.2 in /usr/local/lib/python3.7/dist-packages (from pandas-profiling==3.1.1) (4.64.0)\n",
      "Requirement already satisfied: seaborn>=0.10.1 in /usr/local/lib/python3.7/dist-packages (from pandas-profiling==3.1.1) (0.11.2)\n",
      "Requirement already satisfied: multimethod>=1.4 in /usr/local/lib/python3.7/dist-packages (from pandas-profiling==3.1.1) (1.8)\n",
      "Requirement already satisfied: networkx>=2.4 in /usr/local/lib/python3.7/dist-packages (from visions[type_image_path]==0.7.4->pandas-profiling==3.1.1) (2.6.3)\n",
      "Requirement already satisfied: attrs>=19.3.0 in /usr/local/lib/python3.7/dist-packages (from visions[type_image_path]==0.7.4->pandas-profiling==3.1.1) (21.4.0)\n",
      "Requirement already satisfied: Pillow in /usr/local/lib/python3.7/dist-packages (from visions[type_image_path]==0.7.4->pandas-profiling==3.1.1) (7.1.2)\n",
      "Requirement already satisfied: imagehash in /usr/local/lib/python3.7/dist-packages (from visions[type_image_path]==0.7.4->pandas-profiling==3.1.1) (4.2.1)\n",
      "Requirement already satisfied: cycler>=0.10 in /usr/local/lib/python3.7/dist-packages (from matplotlib>=3.2.0->pandas-profiling==3.1.1) (0.11.0)\n",
      "Requirement already satisfied: kiwisolver>=1.0.1 in /usr/local/lib/python3.7/dist-packages (from matplotlib>=3.2.0->pandas-profiling==3.1.1) (1.4.2)\n",
      "Requirement already satisfied: python-dateutil>=2.1 in /usr/local/lib/python3.7/dist-packages (from matplotlib>=3.2.0->pandas-profiling==3.1.1) (2.8.2)\n",
      "Requirement already satisfied: pyparsing!=2.0.4,!=2.1.2,!=2.1.6,>=2.0.1 in /usr/local/lib/python3.7/dist-packages (from matplotlib>=3.2.0->pandas-profiling==3.1.1) (3.0.8)\n",
      "Requirement already satisfied: typing-extensions in /usr/local/lib/python3.7/dist-packages (from kiwisolver>=1.0.1->matplotlib>=3.2.0->pandas-profiling==3.1.1) (4.1.1)\n",
      "Requirement already satisfied: pytz>=2017.3 in /usr/local/lib/python3.7/dist-packages (from pandas!=1.0.0,!=1.0.1,!=1.0.2,!=1.1.0,>=0.25.3->pandas-profiling==3.1.1) (2018.9)\n",
      "Requirement already satisfied: six>=1.5 in /usr/local/lib/python3.7/dist-packages (from python-dateutil>=2.1->matplotlib>=3.2.0->pandas-profiling==3.1.1) (1.15.0)\n",
      "Requirement already satisfied: charset-normalizer~=2.0.0 in /usr/local/lib/python3.7/dist-packages (from requests>=2.24.0->pandas-profiling==3.1.1) (2.0.12)\n",
      "Requirement already satisfied: urllib3<1.27,>=1.21.1 in /usr/local/lib/python3.7/dist-packages (from requests>=2.24.0->pandas-profiling==3.1.1) (1.24.3)\n",
      "Requirement already satisfied: certifi>=2017.4.17 in /usr/local/lib/python3.7/dist-packages (from requests>=2.24.0->pandas-profiling==3.1.1) (2021.10.8)\n",
      "Requirement already satisfied: idna<4,>=2.5 in /usr/local/lib/python3.7/dist-packages (from requests>=2.24.0->pandas-profiling==3.1.1) (2.10)\n",
      "Requirement already satisfied: PyWavelets in /usr/local/lib/python3.7/dist-packages (from imagehash->visions[type_image_path]==0.7.4->pandas-profiling==3.1.1) (1.3.0)\n"
     ]
    },
    {
     "ename": "NameError",
     "evalue": "ignored",
     "output_type": "error",
     "traceback": [
      "\u001b[0;31m---------------------------------------------------------------------------\u001b[0m",
      "\u001b[0;31mNameError\u001b[0m                                 Traceback (most recent call last)",
      "\u001b[0;32m<ipython-input-268-6eb76a40ccea>\u001b[0m in \u001b[0;36m<module>\u001b[0;34m()\u001b[0m\n\u001b[1;32m      1\u001b[0m \u001b[0mget_ipython\u001b[0m\u001b[0;34m(\u001b[0m\u001b[0;34m)\u001b[0m\u001b[0;34m.\u001b[0m\u001b[0msystem\u001b[0m\u001b[0;34m(\u001b[0m\u001b[0;34m' pip install https://github.com/pandas-profiling/pandas-profiling/archive/master.zip'\u001b[0m\u001b[0;34m)\u001b[0m\u001b[0;34m\u001b[0m\u001b[0;34m\u001b[0m\u001b[0m\n\u001b[0;32m----> 2\u001b[0;31m \u001b[0mprofile\u001b[0m\u001b[0;34m.\u001b[0m\u001b[0mto_notebook_iframe\u001b[0m\u001b[0;34m(\u001b[0m\u001b[0;34m)\u001b[0m\u001b[0;34m\u001b[0m\u001b[0;34m\u001b[0m\u001b[0m\n\u001b[0m",
      "\u001b[0;31mNameError\u001b[0m: name 'profile' is not defined"
     ]
    }
   ],
   "source": [
    "! pip install https://github.com/pandas-profiling/pandas-profiling/archive/master.zip\n",
    "profile.to_notebook_iframe()"
   ]
  },
  {
   "cell_type": "code",
   "execution_count": 269,
   "metadata": {
    "colab": {
     "base_uri": "https://localhost:8080/"
    },
    "id": "f0Svlha01Ctj",
    "outputId": "13179251-f3d1-40b5-f635-f3c40421ad2c"
   },
   "outputs": [
    {
     "name": "stdout",
     "output_type": "stream",
     "text": [
      "Requirement already satisfied: pandas-profiling[notebook] in /usr/local/lib/python3.7/dist-packages (3.1.1)\n",
      "Requirement already satisfied: matplotlib>=3.2.0 in /usr/local/lib/python3.7/dist-packages (from pandas-profiling[notebook]) (3.2.2)\n",
      "Requirement already satisfied: tangled-up-in-unicode==0.2.0 in /usr/local/lib/python3.7/dist-packages (from pandas-profiling[notebook]) (0.2.0)\n",
      "Requirement already satisfied: pandas!=1.0.0,!=1.0.1,!=1.0.2,!=1.1.0,>=0.25.3 in /usr/local/lib/python3.7/dist-packages (from pandas-profiling[notebook]) (1.3.5)\n",
      "Requirement already satisfied: scipy>=1.4.1 in /usr/local/lib/python3.7/dist-packages (from pandas-profiling[notebook]) (1.7.3)\n",
      "Requirement already satisfied: jinja2>=2.11.1 in /usr/local/lib/python3.7/dist-packages (from pandas-profiling[notebook]) (2.11.3)\n",
      "Requirement already satisfied: tqdm>=4.48.2 in /usr/local/lib/python3.7/dist-packages (from pandas-profiling[notebook]) (4.64.0)\n",
      "Requirement already satisfied: markupsafe~=2.0.1 in /usr/local/lib/python3.7/dist-packages (from pandas-profiling[notebook]) (2.0.1)\n",
      "Requirement already satisfied: PyYAML>=5.0.0 in /usr/local/lib/python3.7/dist-packages (from pandas-profiling[notebook]) (6.0)\n",
      "Requirement already satisfied: seaborn>=0.10.1 in /usr/local/lib/python3.7/dist-packages (from pandas-profiling[notebook]) (0.11.2)\n",
      "Requirement already satisfied: pydantic>=1.8.1 in /usr/local/lib/python3.7/dist-packages (from pandas-profiling[notebook]) (1.9.0)\n",
      "Requirement already satisfied: multimethod>=1.4 in /usr/local/lib/python3.7/dist-packages (from pandas-profiling[notebook]) (1.8)\n",
      "Requirement already satisfied: numpy>=1.16.0 in /usr/local/lib/python3.7/dist-packages (from pandas-profiling[notebook]) (1.21.5)\n",
      "Requirement already satisfied: requests>=2.24.0 in /usr/local/lib/python3.7/dist-packages (from pandas-profiling[notebook]) (2.27.1)\n",
      "Requirement already satisfied: phik>=0.11.1 in /usr/local/lib/python3.7/dist-packages (from pandas-profiling[notebook]) (0.12.2)\n",
      "Requirement already satisfied: visions[type_image_path]==0.7.4 in /usr/local/lib/python3.7/dist-packages (from pandas-profiling[notebook]) (0.7.4)\n",
      "Requirement already satisfied: missingno>=0.4.2 in /usr/local/lib/python3.7/dist-packages (from pandas-profiling[notebook]) (0.5.1)\n",
      "Requirement already satisfied: htmlmin>=0.1.12 in /usr/local/lib/python3.7/dist-packages (from pandas-profiling[notebook]) (0.1.12)\n",
      "Requirement already satisfied: joblib~=1.1.0 in /usr/local/lib/python3.7/dist-packages (from pandas-profiling[notebook]) (1.1.0)\n",
      "Requirement already satisfied: jupyter-core>=4.6.3 in /usr/local/lib/python3.7/dist-packages (from pandas-profiling[notebook]) (4.9.2)\n",
      "Requirement already satisfied: ipywidgets>=7.5.1 in /usr/local/lib/python3.7/dist-packages (from pandas-profiling[notebook]) (7.7.0)\n",
      "Requirement already satisfied: jupyter-client>=6.0.0 in /usr/local/lib/python3.7/dist-packages (from pandas-profiling[notebook]) (7.2.2)\n",
      "Requirement already satisfied: networkx>=2.4 in /usr/local/lib/python3.7/dist-packages (from visions[type_image_path]==0.7.4->pandas-profiling[notebook]) (2.6.3)\n",
      "Requirement already satisfied: attrs>=19.3.0 in /usr/local/lib/python3.7/dist-packages (from visions[type_image_path]==0.7.4->pandas-profiling[notebook]) (21.4.0)\n",
      "Requirement already satisfied: imagehash in /usr/local/lib/python3.7/dist-packages (from visions[type_image_path]==0.7.4->pandas-profiling[notebook]) (4.2.1)\n",
      "Requirement already satisfied: Pillow in /usr/local/lib/python3.7/dist-packages (from visions[type_image_path]==0.7.4->pandas-profiling[notebook]) (7.1.2)\n",
      "Requirement already satisfied: ipykernel>=4.5.1 in /usr/local/lib/python3.7/dist-packages (from ipywidgets>=7.5.1->pandas-profiling[notebook]) (4.10.1)\n",
      "Requirement already satisfied: nbformat>=4.2.0 in /usr/local/lib/python3.7/dist-packages (from ipywidgets>=7.5.1->pandas-profiling[notebook]) (5.3.0)\n",
      "Requirement already satisfied: jupyterlab-widgets>=1.0.0 in /usr/local/lib/python3.7/dist-packages (from ipywidgets>=7.5.1->pandas-profiling[notebook]) (1.1.0)\n",
      "Requirement already satisfied: ipython-genutils~=0.2.0 in /usr/local/lib/python3.7/dist-packages (from ipywidgets>=7.5.1->pandas-profiling[notebook]) (0.2.0)\n",
      "Requirement already satisfied: ipython>=4.0.0 in /usr/local/lib/python3.7/dist-packages (from ipywidgets>=7.5.1->pandas-profiling[notebook]) (5.5.0)\n",
      "Requirement already satisfied: widgetsnbextension~=3.6.0 in /usr/local/lib/python3.7/dist-packages (from ipywidgets>=7.5.1->pandas-profiling[notebook]) (3.6.0)\n",
      "Requirement already satisfied: traitlets>=4.3.1 in /usr/local/lib/python3.7/dist-packages (from ipywidgets>=7.5.1->pandas-profiling[notebook]) (5.1.1)\n",
      "Requirement already satisfied: tornado>=4.0 in /usr/local/lib/python3.7/dist-packages (from ipykernel>=4.5.1->ipywidgets>=7.5.1->pandas-profiling[notebook]) (6.1)\n",
      "Requirement already satisfied: pygments in /usr/local/lib/python3.7/dist-packages (from ipython>=4.0.0->ipywidgets>=7.5.1->pandas-profiling[notebook]) (2.6.1)\n",
      "Requirement already satisfied: simplegeneric>0.8 in /usr/local/lib/python3.7/dist-packages (from ipython>=4.0.0->ipywidgets>=7.5.1->pandas-profiling[notebook]) (0.8.1)\n",
      "Requirement already satisfied: setuptools>=18.5 in /usr/local/lib/python3.7/dist-packages (from ipython>=4.0.0->ipywidgets>=7.5.1->pandas-profiling[notebook]) (57.4.0)\n",
      "Requirement already satisfied: pickleshare in /usr/local/lib/python3.7/dist-packages (from ipython>=4.0.0->ipywidgets>=7.5.1->pandas-profiling[notebook]) (0.7.5)\n",
      "Requirement already satisfied: decorator in /usr/local/lib/python3.7/dist-packages (from ipython>=4.0.0->ipywidgets>=7.5.1->pandas-profiling[notebook]) (4.4.2)\n",
      "Requirement already satisfied: prompt-toolkit<2.0.0,>=1.0.4 in /usr/local/lib/python3.7/dist-packages (from ipython>=4.0.0->ipywidgets>=7.5.1->pandas-profiling[notebook]) (1.0.18)\n",
      "Requirement already satisfied: pexpect in /usr/local/lib/python3.7/dist-packages (from ipython>=4.0.0->ipywidgets>=7.5.1->pandas-profiling[notebook]) (4.8.0)\n",
      "Requirement already satisfied: python-dateutil>=2.8.2 in /usr/local/lib/python3.7/dist-packages (from jupyter-client>=6.0.0->pandas-profiling[notebook]) (2.8.2)\n",
      "Requirement already satisfied: nest-asyncio>=1.5.4 in /usr/local/lib/python3.7/dist-packages (from jupyter-client>=6.0.0->pandas-profiling[notebook]) (1.5.5)\n",
      "Requirement already satisfied: entrypoints in /usr/local/lib/python3.7/dist-packages (from jupyter-client>=6.0.0->pandas-profiling[notebook]) (0.4)\n",
      "Requirement already satisfied: pyzmq>=22.3 in /usr/local/lib/python3.7/dist-packages (from jupyter-client>=6.0.0->pandas-profiling[notebook]) (22.3.0)\n",
      "Requirement already satisfied: cycler>=0.10 in /usr/local/lib/python3.7/dist-packages (from matplotlib>=3.2.0->pandas-profiling[notebook]) (0.11.0)\n",
      "Requirement already satisfied: kiwisolver>=1.0.1 in /usr/local/lib/python3.7/dist-packages (from matplotlib>=3.2.0->pandas-profiling[notebook]) (1.4.2)\n",
      "Requirement already satisfied: pyparsing!=2.0.4,!=2.1.2,!=2.1.6,>=2.0.1 in /usr/local/lib/python3.7/dist-packages (from matplotlib>=3.2.0->pandas-profiling[notebook]) (3.0.8)\n",
      "Requirement already satisfied: typing-extensions in /usr/local/lib/python3.7/dist-packages (from kiwisolver>=1.0.1->matplotlib>=3.2.0->pandas-profiling[notebook]) (4.1.1)\n",
      "Requirement already satisfied: jsonschema>=2.6 in /usr/local/lib/python3.7/dist-packages (from nbformat>=4.2.0->ipywidgets>=7.5.1->pandas-profiling[notebook]) (4.3.3)\n",
      "Requirement already satisfied: fastjsonschema in /usr/local/lib/python3.7/dist-packages (from nbformat>=4.2.0->ipywidgets>=7.5.1->pandas-profiling[notebook]) (2.15.3)\n",
      "Requirement already satisfied: importlib-resources>=1.4.0 in /usr/local/lib/python3.7/dist-packages (from jsonschema>=2.6->nbformat>=4.2.0->ipywidgets>=7.5.1->pandas-profiling[notebook]) (5.6.0)\n",
      "Requirement already satisfied: importlib-metadata in /usr/local/lib/python3.7/dist-packages (from jsonschema>=2.6->nbformat>=4.2.0->ipywidgets>=7.5.1->pandas-profiling[notebook]) (4.11.3)\n",
      "Requirement already satisfied: pyrsistent!=0.17.0,!=0.17.1,!=0.17.2,>=0.14.0 in /usr/local/lib/python3.7/dist-packages (from jsonschema>=2.6->nbformat>=4.2.0->ipywidgets>=7.5.1->pandas-profiling[notebook]) (0.18.1)\n",
      "Requirement already satisfied: zipp>=3.1.0 in /usr/local/lib/python3.7/dist-packages (from importlib-resources>=1.4.0->jsonschema>=2.6->nbformat>=4.2.0->ipywidgets>=7.5.1->pandas-profiling[notebook]) (3.8.0)\n",
      "Requirement already satisfied: pytz>=2017.3 in /usr/local/lib/python3.7/dist-packages (from pandas!=1.0.0,!=1.0.1,!=1.0.2,!=1.1.0,>=0.25.3->pandas-profiling[notebook]) (2018.9)\n",
      "Requirement already satisfied: wcwidth in /usr/local/lib/python3.7/dist-packages (from prompt-toolkit<2.0.0,>=1.0.4->ipython>=4.0.0->ipywidgets>=7.5.1->pandas-profiling[notebook]) (0.2.5)\n",
      "Requirement already satisfied: six>=1.9.0 in /usr/local/lib/python3.7/dist-packages (from prompt-toolkit<2.0.0,>=1.0.4->ipython>=4.0.0->ipywidgets>=7.5.1->pandas-profiling[notebook]) (1.15.0)\n",
      "Requirement already satisfied: urllib3<1.27,>=1.21.1 in /usr/local/lib/python3.7/dist-packages (from requests>=2.24.0->pandas-profiling[notebook]) (1.24.3)\n",
      "Requirement already satisfied: certifi>=2017.4.17 in /usr/local/lib/python3.7/dist-packages (from requests>=2.24.0->pandas-profiling[notebook]) (2021.10.8)\n",
      "Requirement already satisfied: charset-normalizer~=2.0.0 in /usr/local/lib/python3.7/dist-packages (from requests>=2.24.0->pandas-profiling[notebook]) (2.0.12)\n",
      "Requirement already satisfied: idna<4,>=2.5 in /usr/local/lib/python3.7/dist-packages (from requests>=2.24.0->pandas-profiling[notebook]) (2.10)\n",
      "Requirement already satisfied: notebook>=4.4.1 in /usr/local/lib/python3.7/dist-packages (from widgetsnbextension~=3.6.0->ipywidgets>=7.5.1->pandas-profiling[notebook]) (5.3.1)\n",
      "Requirement already satisfied: terminado>=0.8.1 in /usr/local/lib/python3.7/dist-packages (from notebook>=4.4.1->widgetsnbextension~=3.6.0->ipywidgets>=7.5.1->pandas-profiling[notebook]) (0.13.3)\n",
      "Requirement already satisfied: nbconvert in /usr/local/lib/python3.7/dist-packages (from notebook>=4.4.1->widgetsnbextension~=3.6.0->ipywidgets>=7.5.1->pandas-profiling[notebook]) (5.6.1)\n",
      "Requirement already satisfied: Send2Trash in /usr/local/lib/python3.7/dist-packages (from notebook>=4.4.1->widgetsnbextension~=3.6.0->ipywidgets>=7.5.1->pandas-profiling[notebook]) (1.8.0)\n",
      "Requirement already satisfied: ptyprocess in /usr/local/lib/python3.7/dist-packages (from terminado>=0.8.1->notebook>=4.4.1->widgetsnbextension~=3.6.0->ipywidgets>=7.5.1->pandas-profiling[notebook]) (0.7.0)\n",
      "Requirement already satisfied: PyWavelets in /usr/local/lib/python3.7/dist-packages (from imagehash->visions[type_image_path]==0.7.4->pandas-profiling[notebook]) (1.3.0)\n",
      "Requirement already satisfied: bleach in /usr/local/lib/python3.7/dist-packages (from nbconvert->notebook>=4.4.1->widgetsnbextension~=3.6.0->ipywidgets>=7.5.1->pandas-profiling[notebook]) (5.0.0)\n",
      "Requirement already satisfied: pandocfilters>=1.4.1 in /usr/local/lib/python3.7/dist-packages (from nbconvert->notebook>=4.4.1->widgetsnbextension~=3.6.0->ipywidgets>=7.5.1->pandas-profiling[notebook]) (1.5.0)\n",
      "Requirement already satisfied: defusedxml in /usr/local/lib/python3.7/dist-packages (from nbconvert->notebook>=4.4.1->widgetsnbextension~=3.6.0->ipywidgets>=7.5.1->pandas-profiling[notebook]) (0.7.1)\n",
      "Requirement already satisfied: mistune<2,>=0.8.1 in /usr/local/lib/python3.7/dist-packages (from nbconvert->notebook>=4.4.1->widgetsnbextension~=3.6.0->ipywidgets>=7.5.1->pandas-profiling[notebook]) (0.8.4)\n",
      "Requirement already satisfied: testpath in /usr/local/lib/python3.7/dist-packages (from nbconvert->notebook>=4.4.1->widgetsnbextension~=3.6.0->ipywidgets>=7.5.1->pandas-profiling[notebook]) (0.6.0)\n",
      "Requirement already satisfied: webencodings in /usr/local/lib/python3.7/dist-packages (from bleach->nbconvert->notebook>=4.4.1->widgetsnbextension~=3.6.0->ipywidgets>=7.5.1->pandas-profiling[notebook]) (0.5.1)\n"
     ]
    }
   ],
   "source": [
    "! pip install pandas-profiling[notebook]\n"
   ]
  },
  {
   "cell_type": "code",
   "execution_count": 270,
   "metadata": {
    "id": "7G_8m8pe60HL"
   },
   "outputs": [],
   "source": [
    "import numpy as np\n",
    "import pandas as pd\n",
    "from pandas_profiling import ProfileReport"
   ]
  },
  {
   "cell_type": "code",
   "execution_count": 271,
   "metadata": {
    "colab": {
     "base_uri": "https://localhost:8080/",
     "height": 339
    },
    "id": "oYcejKWH7QOp",
    "outputId": "e25ed627-4718-498d-fee5-4598a703e7a8"
   },
   "outputs": [
    {
     "ename": "AttributeError",
     "evalue": "ignored",
     "output_type": "error",
     "traceback": [
      "\u001b[0;31m---------------------------------------------------------------------------\u001b[0m",
      "\u001b[0;31mAttributeError\u001b[0m                            Traceback (most recent call last)",
      "\u001b[0;32m<ipython-input-271-d5194c78202b>\u001b[0m in \u001b[0;36m<module>\u001b[0;34m()\u001b[0m\n\u001b[0;32m----> 1\u001b[0;31m profile = df.profile_report(\n\u001b[0m\u001b[1;32m      2\u001b[0m     \u001b[0mtitle\u001b[0m\u001b[0;34m=\u001b[0m\u001b[0;34m\"Pandas Profiling Report\"\u001b[0m\u001b[0;34m,\u001b[0m \u001b[0mplot\u001b[0m\u001b[0;34m=\u001b[0m\u001b[0;34m{\u001b[0m\u001b[0;34m\"histogram\"\u001b[0m\u001b[0;34m:\u001b[0m \u001b[0;34m{\u001b[0m\u001b[0;34m\"bins\"\u001b[0m\u001b[0;34m:\u001b[0m \u001b[0;36m8\u001b[0m\u001b[0;34m}\u001b[0m\u001b[0;34m}\u001b[0m\u001b[0;34m\u001b[0m\u001b[0;34m\u001b[0m\u001b[0m\n\u001b[1;32m      3\u001b[0m )\n\u001b[1;32m      4\u001b[0m \u001b[0mprofile\u001b[0m\u001b[0;34m.\u001b[0m\u001b[0mto_file\u001b[0m\u001b[0;34m(\u001b[0m\u001b[0;34m\"output.html\"\u001b[0m\u001b[0;34m)\u001b[0m\u001b[0;34m\u001b[0m\u001b[0;34m\u001b[0m\u001b[0m\n",
      "\u001b[0;32m/usr/local/lib/python3.7/dist-packages/pandas/core/generic.py\u001b[0m in \u001b[0;36m__getattr__\u001b[0;34m(self, name)\u001b[0m\n\u001b[1;32m   5485\u001b[0m         ):\n\u001b[1;32m   5486\u001b[0m             \u001b[0;32mreturn\u001b[0m \u001b[0mself\u001b[0m\u001b[0;34m[\u001b[0m\u001b[0mname\u001b[0m\u001b[0;34m]\u001b[0m\u001b[0;34m\u001b[0m\u001b[0;34m\u001b[0m\u001b[0m\n\u001b[0;32m-> 5487\u001b[0;31m         \u001b[0;32mreturn\u001b[0m \u001b[0mobject\u001b[0m\u001b[0;34m.\u001b[0m\u001b[0m__getattribute__\u001b[0m\u001b[0;34m(\u001b[0m\u001b[0mself\u001b[0m\u001b[0;34m,\u001b[0m \u001b[0mname\u001b[0m\u001b[0;34m)\u001b[0m\u001b[0;34m\u001b[0m\u001b[0;34m\u001b[0m\u001b[0m\n\u001b[0m\u001b[1;32m   5488\u001b[0m \u001b[0;34m\u001b[0m\u001b[0m\n\u001b[1;32m   5489\u001b[0m     \u001b[0;32mdef\u001b[0m \u001b[0m__setattr__\u001b[0m\u001b[0;34m(\u001b[0m\u001b[0mself\u001b[0m\u001b[0;34m,\u001b[0m \u001b[0mname\u001b[0m\u001b[0;34m:\u001b[0m \u001b[0mstr\u001b[0m\u001b[0;34m,\u001b[0m \u001b[0mvalue\u001b[0m\u001b[0;34m)\u001b[0m \u001b[0;34m->\u001b[0m \u001b[0;32mNone\u001b[0m\u001b[0;34m:\u001b[0m\u001b[0;34m\u001b[0m\u001b[0;34m\u001b[0m\u001b[0m\n",
      "\u001b[0;31mAttributeError\u001b[0m: 'DataFrame' object has no attribute 'profile_report'"
     ]
    }
   ],
   "source": [
    "profile = df.profile_report(\n",
    "    title=\"Pandas Profiling Report\", plot={\"histogram\": {\"bins\": 8}}\n",
    ")\n",
    "profile.to_file(\"output.html\")"
   ]
  },
  {
   "cell_type": "code",
   "execution_count": 272,
   "metadata": {
    "colab": {
     "base_uri": "https://localhost:8080/",
     "height": 467
    },
    "id": "Dgn4wk1n6oxr",
    "outputId": "9ea37a69-4535-4689-d7a7-286634c8835a"
   },
   "outputs": [
    {
     "ename": "OSError",
     "evalue": "ignored",
     "output_type": "error",
     "traceback": [
      "\u001b[0;31m---------------------------------------------------------------------------\u001b[0m",
      "\u001b[0;31mFileNotFoundError\u001b[0m                         Traceback (most recent call last)",
      "\u001b[0;32m/usr/local/lib/python3.7/dist-packages/matplotlib/style/core.py\u001b[0m in \u001b[0;36muse\u001b[0;34m(style)\u001b[0m\n\u001b[1;32m    113\u001b[0m             \u001b[0;32mtry\u001b[0m\u001b[0;34m:\u001b[0m\u001b[0;34m\u001b[0m\u001b[0;34m\u001b[0m\u001b[0m\n\u001b[0;32m--> 114\u001b[0;31m                 \u001b[0mrc\u001b[0m \u001b[0;34m=\u001b[0m \u001b[0mrc_params_from_file\u001b[0m\u001b[0;34m(\u001b[0m\u001b[0mstyle\u001b[0m\u001b[0;34m,\u001b[0m \u001b[0muse_default_template\u001b[0m\u001b[0;34m=\u001b[0m\u001b[0;32mFalse\u001b[0m\u001b[0;34m)\u001b[0m\u001b[0;34m\u001b[0m\u001b[0;34m\u001b[0m\u001b[0m\n\u001b[0m\u001b[1;32m    115\u001b[0m                 \u001b[0m_apply_style\u001b[0m\u001b[0;34m(\u001b[0m\u001b[0mrc\u001b[0m\u001b[0;34m)\u001b[0m\u001b[0;34m\u001b[0m\u001b[0;34m\u001b[0m\u001b[0m\n",
      "\u001b[0;32m/usr/local/lib/python3.7/dist-packages/matplotlib/__init__.py\u001b[0m in \u001b[0;36mrc_params_from_file\u001b[0;34m(fname, fail_on_error, use_default_template)\u001b[0m\n\u001b[1;32m    983\u001b[0m     \"\"\"\n\u001b[0;32m--> 984\u001b[0;31m     \u001b[0mconfig_from_file\u001b[0m \u001b[0;34m=\u001b[0m \u001b[0m_rc_params_in_file\u001b[0m\u001b[0;34m(\u001b[0m\u001b[0mfname\u001b[0m\u001b[0;34m,\u001b[0m \u001b[0mfail_on_error\u001b[0m\u001b[0;34m)\u001b[0m\u001b[0;34m\u001b[0m\u001b[0;34m\u001b[0m\u001b[0m\n\u001b[0m\u001b[1;32m    985\u001b[0m \u001b[0;34m\u001b[0m\u001b[0m\n",
      "\u001b[0;32m/usr/local/lib/python3.7/dist-packages/matplotlib/__init__.py\u001b[0m in \u001b[0;36m_rc_params_in_file\u001b[0;34m(fname, fail_on_error)\u001b[0m\n\u001b[1;32m    913\u001b[0m     \u001b[0mrc_temp\u001b[0m \u001b[0;34m=\u001b[0m \u001b[0;34m{\u001b[0m\u001b[0;34m}\u001b[0m\u001b[0;34m\u001b[0m\u001b[0;34m\u001b[0m\u001b[0m\n\u001b[0;32m--> 914\u001b[0;31m     \u001b[0;32mwith\u001b[0m \u001b[0m_open_file_or_url\u001b[0m\u001b[0;34m(\u001b[0m\u001b[0mfname\u001b[0m\u001b[0;34m)\u001b[0m \u001b[0;32mas\u001b[0m \u001b[0mfd\u001b[0m\u001b[0;34m:\u001b[0m\u001b[0;34m\u001b[0m\u001b[0;34m\u001b[0m\u001b[0m\n\u001b[0m\u001b[1;32m    915\u001b[0m         \u001b[0;32mtry\u001b[0m\u001b[0;34m:\u001b[0m\u001b[0;34m\u001b[0m\u001b[0;34m\u001b[0m\u001b[0m\n",
      "\u001b[0;32m/usr/lib/python3.7/contextlib.py\u001b[0m in \u001b[0;36m__enter__\u001b[0;34m(self)\u001b[0m\n\u001b[1;32m    111\u001b[0m         \u001b[0;32mtry\u001b[0m\u001b[0;34m:\u001b[0m\u001b[0;34m\u001b[0m\u001b[0;34m\u001b[0m\u001b[0m\n\u001b[0;32m--> 112\u001b[0;31m             \u001b[0;32mreturn\u001b[0m \u001b[0mnext\u001b[0m\u001b[0;34m(\u001b[0m\u001b[0mself\u001b[0m\u001b[0;34m.\u001b[0m\u001b[0mgen\u001b[0m\u001b[0;34m)\u001b[0m\u001b[0;34m\u001b[0m\u001b[0;34m\u001b[0m\u001b[0m\n\u001b[0m\u001b[1;32m    113\u001b[0m         \u001b[0;32mexcept\u001b[0m \u001b[0mStopIteration\u001b[0m\u001b[0;34m:\u001b[0m\u001b[0;34m\u001b[0m\u001b[0;34m\u001b[0m\u001b[0m\n",
      "\u001b[0;32m/usr/local/lib/python3.7/dist-packages/matplotlib/__init__.py\u001b[0m in \u001b[0;36m_open_file_or_url\u001b[0;34m(fname)\u001b[0m\n\u001b[1;32m    899\u001b[0m             \u001b[0mencoding\u001b[0m \u001b[0;34m=\u001b[0m \u001b[0;34m\"utf-8\"\u001b[0m\u001b[0;34m\u001b[0m\u001b[0;34m\u001b[0m\u001b[0m\n\u001b[0;32m--> 900\u001b[0;31m         \u001b[0;32mwith\u001b[0m \u001b[0mopen\u001b[0m\u001b[0;34m(\u001b[0m\u001b[0mfname\u001b[0m\u001b[0;34m,\u001b[0m \u001b[0mencoding\u001b[0m\u001b[0;34m=\u001b[0m\u001b[0mencoding\u001b[0m\u001b[0;34m)\u001b[0m \u001b[0;32mas\u001b[0m \u001b[0mf\u001b[0m\u001b[0;34m:\u001b[0m\u001b[0;34m\u001b[0m\u001b[0;34m\u001b[0m\u001b[0m\n\u001b[0m\u001b[1;32m    901\u001b[0m             \u001b[0;32myield\u001b[0m \u001b[0mf\u001b[0m\u001b[0;34m\u001b[0m\u001b[0;34m\u001b[0m\u001b[0m\n",
      "\u001b[0;31mFileNotFoundError\u001b[0m: [Errno 2] No such file or directory: '/usr/local/lib/python3.7/dist-packages/pandas_profiling/pandas_profiling.mplstyle'",
      "\nDuring handling of the above exception, another exception occurred:\n",
      "\u001b[0;31mOSError\u001b[0m                                   Traceback (most recent call last)",
      "\u001b[0;32m<ipython-input-272-871732f5e547>\u001b[0m in \u001b[0;36m<module>\u001b[0;34m()\u001b[0m\n\u001b[0;32m----> 1\u001b[0;31m \u001b[0mprofile\u001b[0m \u001b[0;34m=\u001b[0m \u001b[0mProfileReport\u001b[0m\u001b[0;34m(\u001b[0m\u001b[0mdf\u001b[0m\u001b[0;34m,\u001b[0m \u001b[0mtitle\u001b[0m\u001b[0;34m=\u001b[0m\u001b[0;34m\"Pandas Profiling Report\"\u001b[0m\u001b[0;34m)\u001b[0m\u001b[0;34m\u001b[0m\u001b[0;34m\u001b[0m\u001b[0m\n\u001b[0m",
      "\u001b[0;32m/usr/local/lib/python3.7/dist-packages/pandas_profiling/__init__.py\u001b[0m in \u001b[0;36m__init__\u001b[0;34m(self, df, **kwargs)\u001b[0m\n",
      "\u001b[0;32m/usr/local/lib/python3.7/dist-packages/pandas_profiling/describe.py\u001b[0m in \u001b[0;36mdescribe\u001b[0;34m(df, bins, check_correlation, correlation_threshold, correlation_overrides, check_recoded, pool_size, **kwargs)\u001b[0m\n",
      "\u001b[0;32m/usr/local/lib/python3.7/dist-packages/matplotlib/style/core.py\u001b[0m in \u001b[0;36muse\u001b[0;34m(style)\u001b[0m\n\u001b[1;32m    118\u001b[0m                     \u001b[0;34m\"{!r} not found in the style library and input is not a \"\u001b[0m\u001b[0;34m\u001b[0m\u001b[0;34m\u001b[0m\u001b[0m\n\u001b[1;32m    119\u001b[0m                     \u001b[0;34m\"valid URL or path; see `style.available` for list of \"\u001b[0m\u001b[0;34m\u001b[0m\u001b[0;34m\u001b[0m\u001b[0m\n\u001b[0;32m--> 120\u001b[0;31m                     \"available styles\".format(style))\n\u001b[0m\u001b[1;32m    121\u001b[0m \u001b[0;34m\u001b[0m\u001b[0m\n\u001b[1;32m    122\u001b[0m \u001b[0;34m\u001b[0m\u001b[0m\n",
      "\u001b[0;31mOSError\u001b[0m: '/usr/local/lib/python3.7/dist-packages/pandas_profiling/pandas_profiling.mplstyle' not found in the style library and input is not a valid URL or path; see `style.available` for list of available styles"
     ]
    }
   ],
   "source": [
    "profile = ProfileReport(df, title=\"Pandas Profiling Report\")\n"
   ]
  },
  {
   "cell_type": "code",
   "execution_count": 273,
   "metadata": {
    "colab": {
     "base_uri": "https://localhost:8080/",
     "height": 130
    },
    "id": "Ko-zB0ZEyc6R",
    "outputId": "52bc70fd-b539-42e6-f266-76fa4b11a3ca"
   },
   "outputs": [
    {
     "ename": "SyntaxError",
     "evalue": "ignored",
     "output_type": "error",
     "traceback": [
      "\u001b[0;36m  File \u001b[0;32m\"<ipython-input-273-68601adfbe06>\"\u001b[0;36m, line \u001b[0;32m4\u001b[0m\n\u001b[0;31m    (html={\"style\": {\"full_width\": True}})\u001b[0m\n\u001b[0m         ^\u001b[0m\n\u001b[0;31mSyntaxError\u001b[0m\u001b[0;31m:\u001b[0m invalid syntax\n"
     ]
    }
   ],
   "source": [
    "#profile_report = df.profile_report(html={\"style\": {\"full_width\": True}})\n",
    "#profile_report.to_file(\"/tmp/example.html\")\n",
    "profile_report = df.p \n",
    "(html={\"style\": {\"full_width\": True}})\n"
   ]
  },
  {
   "cell_type": "code",
   "execution_count": null,
   "metadata": {
    "colab": {
     "base_uri": "https://localhost:8080/",
     "height": 339
    },
    "id": "Ou_Rb212yGSC",
    "outputId": "ce2879d4-0ada-47d9-f2ed-7383e55f9f49"
   },
   "outputs": [
    {
     "ename": "AttributeError",
     "evalue": "ignored",
     "output_type": "error",
     "traceback": [
      "\u001b[0;31m---------------------------------------------------------------------------\u001b[0m",
      "\u001b[0;31mAttributeError\u001b[0m                            Traceback (most recent call last)",
      "\u001b[0;32m<ipython-input-208-6ffb6df45001>\u001b[0m in \u001b[0;36m<module>\u001b[0;34m()\u001b[0m\n\u001b[0;32m----> 1\u001b[0;31m profile_report = df.profile_report(\n\u001b[0m\u001b[1;32m      2\u001b[0m     \u001b[0mexplorative\u001b[0m\u001b[0;34m=\u001b[0m\u001b[0;32mTrue\u001b[0m\u001b[0;34m,\u001b[0m \u001b[0mhtml\u001b[0m\u001b[0;34m=\u001b[0m\u001b[0;34m{\u001b[0m\u001b[0;34m\"style\"\u001b[0m\u001b[0;34m:\u001b[0m \u001b[0;34m{\u001b[0m\u001b[0;34m\"full_width\"\u001b[0m\u001b[0;34m:\u001b[0m \u001b[0;32mTrue\u001b[0m\u001b[0;34m}\u001b[0m\u001b[0;34m}\u001b[0m\u001b[0;34m\u001b[0m\u001b[0;34m\u001b[0m\u001b[0m\n\u001b[1;32m      3\u001b[0m )\n\u001b[1;32m      4\u001b[0m \u001b[0mprofile_report\u001b[0m\u001b[0;34m\u001b[0m\u001b[0;34m\u001b[0m\u001b[0m\n",
      "\u001b[0;32m/usr/local/lib/python3.7/dist-packages/pandas/core/generic.py\u001b[0m in \u001b[0;36m__getattr__\u001b[0;34m(self, name)\u001b[0m\n\u001b[1;32m   5485\u001b[0m         ):\n\u001b[1;32m   5486\u001b[0m             \u001b[0;32mreturn\u001b[0m \u001b[0mself\u001b[0m\u001b[0;34m[\u001b[0m\u001b[0mname\u001b[0m\u001b[0;34m]\u001b[0m\u001b[0;34m\u001b[0m\u001b[0;34m\u001b[0m\u001b[0m\n\u001b[0;32m-> 5487\u001b[0;31m         \u001b[0;32mreturn\u001b[0m \u001b[0mobject\u001b[0m\u001b[0;34m.\u001b[0m\u001b[0m__getattribute__\u001b[0m\u001b[0;34m(\u001b[0m\u001b[0mself\u001b[0m\u001b[0;34m,\u001b[0m \u001b[0mname\u001b[0m\u001b[0;34m)\u001b[0m\u001b[0;34m\u001b[0m\u001b[0;34m\u001b[0m\u001b[0m\n\u001b[0m\u001b[1;32m   5488\u001b[0m \u001b[0;34m\u001b[0m\u001b[0m\n\u001b[1;32m   5489\u001b[0m     \u001b[0;32mdef\u001b[0m \u001b[0m__setattr__\u001b[0m\u001b[0;34m(\u001b[0m\u001b[0mself\u001b[0m\u001b[0;34m,\u001b[0m \u001b[0mname\u001b[0m\u001b[0;34m:\u001b[0m \u001b[0mstr\u001b[0m\u001b[0;34m,\u001b[0m \u001b[0mvalue\u001b[0m\u001b[0;34m)\u001b[0m \u001b[0;34m->\u001b[0m \u001b[0;32mNone\u001b[0m\u001b[0;34m:\u001b[0m\u001b[0;34m\u001b[0m\u001b[0;34m\u001b[0m\u001b[0m\n",
      "\u001b[0;31mAttributeError\u001b[0m: 'DataFrame' object has no attribute 'profile_report'"
     ]
    }
   ],
   "source": [
    "profile_report = df.profile_report(\n",
    "    explorative=True, html={\"style\": {\"full_width\": True}}\n",
    ")\n",
    "profile_report"
   ]
  }
 ],
 "metadata": {
  "colab": {
   "collapsed_sections": [],
   "name": "eda-ATTRITION.ipynb",
   "provenance": [],
   "toc_visible": true
  },
  "kernelspec": {
   "display_name": "Python 3",
   "language": "python",
   "name": "python3"
  },
  "language_info": {
   "codemirror_mode": {
    "name": "ipython",
    "version": 3
   },
   "file_extension": ".py",
   "mimetype": "text/x-python",
   "name": "python",
   "nbconvert_exporter": "python",
   "pygments_lexer": "ipython3",
   "version": "3.8.8"
  }
 },
 "nbformat": 4,
 "nbformat_minor": 1
}
